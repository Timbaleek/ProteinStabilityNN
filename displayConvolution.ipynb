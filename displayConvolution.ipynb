{
 "cells": [
  {
   "cell_type": "code",
   "execution_count": 1,
   "id": "a5c8cfe7-df78-435c-9326-0ff5c99cc707",
   "metadata": {
    "tags": []
   },
   "outputs": [],
   "source": [
    "def custom_viz(kernels, path=None, cols=None):\n",
    "\n",
    "\n",
    "\n",
    "    N = kernels.shape[0]\n",
    "    C = kernels.shape[1]\n",
    "\n",
    "    Tot = N*C\n",
    "\n",
    "    # If single channel kernel with HxW size,# plot them in a row.# Else, plot image with C number of columns.\n",
    "    if C>1:\n",
    "        columns = C\n",
    "    elif cols==None:\n",
    "        columns = N\n",
    "    elif cols:\n",
    "        columns = cols\n",
    "    rows = Tot // columns \n",
    "    rows += Tot % columns\n",
    "\n",
    "    pos = range(1,Tot + 1)\n",
    "\n",
    "    fig = plt.figure(1)\n",
    "    fig.tight_layout()\n",
    "    k=0 \n",
    "    for i in range(kernels.shape[0]):\n",
    "        for j in range(kernels.shape[1]):\n",
    "            img = kernels[i][j]\n",
    "            ax = fig.add_subplot(rows,columns,pos[k])\n",
    "            ax.imshow(img, cmap='YlGnBu')\n",
    "            plt.axis('off')\n",
    "            k = k+1\n",
    "\n",
    "    set_size(30,30,ax)\n",
    "    if path:\n",
    "        plt.savefig(path, dpi=100)\n",
    "\n",
    "    plt.show()"
   ]
  },
  {
   "cell_type": "code",
   "execution_count": 2,
   "id": "31d452b7-7d54-435c-8548-0b2117f78258",
   "metadata": {
    "tags": []
   },
   "outputs": [],
   "source": [
    "def set_size(w,h, ax=None):\n",
    "    if not ax: \n",
    "        ax=plt.gca()\n",
    "        l = ax.figure.subplotpars.left\n",
    "        r = ax.figure.subplotpars.right\n",
    "        t = ax.figure.subplotpars.top\n",
    "        b = ax.figure.subplotpars.bottom\n",
    "        figw = float(w)/(r-l)\n",
    "        figh = float(h)/(t-b)\n",
    "        ax.figure.set_size_inches(figw, figh)"
   ]
  },
  {
   "cell_type": "code",
   "execution_count": 3,
   "id": "3f74b926-084a-403f-9e7e-53c1c13edfab",
   "metadata": {
    "tags": []
   },
   "outputs": [
    {
     "ename": "NameError",
     "evalue": "name 'cnn_model' is not defined",
     "output_type": "error",
     "traceback": [
      "\u001b[0;31m---------------------------------------------------------------------------\u001b[0m",
      "\u001b[0;31mNameError\u001b[0m                                 Traceback (most recent call last)",
      "Cell \u001b[0;32mIn[3], line 1\u001b[0m\n\u001b[0;32m----> 1\u001b[0m kernels \u001b[38;5;241m=\u001b[39m cnn_model\u001b[38;5;241m.\u001b[39mconv1\u001b[38;5;241m.\u001b[39mweight\u001b[38;5;241m.\u001b[39mcpu()\u001b[38;5;241m.\u001b[39mdetach()\u001b[38;5;241m.\u001b[39mclone()\n\u001b[1;32m      2\u001b[0m kernels \u001b[38;5;241m=\u001b[39m kernels \u001b[38;5;241m-\u001b[39m kernels\u001b[38;5;241m.\u001b[39mmin()\n\u001b[1;32m      3\u001b[0m kernels \u001b[38;5;241m=\u001b[39m kernels \u001b[38;5;241m/\u001b[39m kernels\u001b[38;5;241m.\u001b[39mmax()\n",
      "\u001b[0;31mNameError\u001b[0m: name 'cnn_model' is not defined"
     ]
    }
   ],
   "source": [
    "kernels = cnn_model.conv1.weight.cpu().detach().clone()\n",
    "kernels = kernels - kernels.min()\n",
    "kernels = kernels / kernels.max()\n",
    "custom_viz(kernels, cols=4)\n"
   ]
  },
  {
   "cell_type": "code",
   "execution_count": 4,
   "id": "1e92a35d-23d8-493c-b439-89cdb95888e0",
   "metadata": {
    "tags": []
   },
   "outputs": [
    {
     "ename": "NameError",
     "evalue": "name 'dataloader_train' is not defined",
     "output_type": "error",
     "traceback": [
      "\u001b[0;31m---------------------------------------------------------------------------\u001b[0m",
      "\u001b[0;31mNameError\u001b[0m                                 Traceback (most recent call last)",
      "Cell \u001b[0;32mIn[4], line 1\u001b[0m\n\u001b[0;32m----> 1\u001b[0m batch \u001b[38;5;241m=\u001b[39m \u001b[38;5;28mnext\u001b[39m(\u001b[38;5;28miter\u001b[39m(dataloader_train))\n",
      "\u001b[0;31mNameError\u001b[0m: name 'dataloader_train' is not defined"
     ]
    }
   ],
   "source": [
    "batch = next(iter(dataloader_train))\n"
   ]
  },
  {
   "cell_type": "code",
   "execution_count": 5,
   "id": "a9b878ec-f0da-4eef-b71b-7c02fe15c7b2",
   "metadata": {
    "tags": []
   },
   "outputs": [
    {
     "ename": "NameError",
     "evalue": "name 'plt' is not defined",
     "output_type": "error",
     "traceback": [
      "\u001b[0;31m---------------------------------------------------------------------------\u001b[0m",
      "\u001b[0;31mNameError\u001b[0m                                 Traceback (most recent call last)",
      "Cell \u001b[0;32mIn[5], line 6\u001b[0m\n\u001b[1;32m      2\u001b[0m aa_alphabet \u001b[38;5;241m=\u001b[39m \u001b[38;5;124m'\u001b[39m\u001b[38;5;124mACDEFGHIKLMNPQRSTVWY\u001b[39m\u001b[38;5;124m'\u001b[39m\n\u001b[1;32m      4\u001b[0m my_xticks \u001b[38;5;241m=\u001b[39m [char \u001b[38;5;28;01mfor\u001b[39;00m char \u001b[38;5;129;01min\u001b[39;00m aa_alphabet]\n\u001b[0;32m----> 6\u001b[0m fig \u001b[38;5;241m=\u001b[39m plt\u001b[38;5;241m.\u001b[39mfigure()\n\u001b[1;32m      7\u001b[0m ax \u001b[38;5;241m=\u001b[39m fig\u001b[38;5;241m.\u001b[39madd_subplot(\u001b[38;5;241m111\u001b[39m)\n\u001b[1;32m      8\u001b[0m divnorm\u001b[38;5;241m=\u001b[39mcolors\u001b[38;5;241m.\u001b[39mTwoSlopeNorm(vmin\u001b[38;5;241m=\u001b[39m\u001b[38;5;241m-\u001b[39m\u001b[38;5;241m4.5\u001b[39m, vcenter\u001b[38;5;241m=\u001b[39m\u001b[38;5;241m0.\u001b[39m, vmax\u001b[38;5;241m=\u001b[39m\u001b[38;5;241m2.5\u001b[39m)\n",
      "\u001b[0;31mNameError\u001b[0m: name 'plt' is not defined"
     ]
    }
   ],
   "source": [
    "from matplotlib import colors\n",
    "aa_alphabet = 'ACDEFGHIKLMNPQRSTVWY'\n",
    "\n",
    "my_xticks = [char for char in aa_alphabet]\n",
    "\n",
    "fig = plt.figure()\n",
    "ax = fig.add_subplot(111)\n",
    "divnorm=colors.TwoSlopeNorm(vmin=-4.5, vcenter=0., vmax=2.5)\n",
    "cax = ax.matshow(batch[\"labels\"][0].squeeze(0).numpy(), cmap='RdBu', norm=divnorm)\n",
    "fig.colorbar(cax)\n",
    "\n",
    "xaxis = np.arange(len(my_xticks)+1)\n",
    "ax.set_xticks(xaxis-1)\n",
    "ax.set_xticklabels(['']+my_xticks)\n",
    "\n",
    "ax2 = fig.add_subplot(111)\n",
    "divnorm2=colors.TwoSlopeNorm(vmin=-2, vcenter=0., vmax=0.5)\n",
    "cax = ax2.matshow(cnn_model(batch[\"sequence\"][0].cuda()).cpu().squeeze().detach().numpy(), cmap='RdBu', norm=divnorm2)\n",
    "\n",
    "\n",
    "xaxis = np.arange(len(my_xticks)+1)\n",
    "ax2.set_xticks(xaxis-1)\n",
    "ax2.set_xticklabels(['']+my_xticks)\n",
    "\n",
    "set_size(16,8)\n",
    "\n",
    "plt.show()\n",
    "#plt.xticks(x, my_xticks)\n",
    "\n",
    "#plt.show()"
   ]
  },
  {
   "cell_type": "code",
   "execution_count": null,
   "id": "36238956-d965-4b00-bb46-1910798ab9b2",
   "metadata": {},
   "outputs": [],
   "source": []
  }
 ],
 "metadata": {
  "kernelspec": {
   "display_name": "Python 3 (ipykernel)",
   "language": "python",
   "name": "python3"
  },
  "language_info": {
   "codemirror_mode": {
    "name": "ipython",
    "version": 3
   },
   "file_extension": ".py",
   "mimetype": "text/x-python",
   "name": "python",
   "nbconvert_exporter": "python",
   "pygments_lexer": "ipython3",
   "version": "3.11.5"
  }
 },
 "nbformat": 4,
 "nbformat_minor": 5
}
