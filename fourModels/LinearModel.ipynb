{
 "cells": [
  {
   "cell_type": "code",
   "execution_count": 7,
   "id": "c377df08-fdcc-4ba3-9c66-5e0b91ba89a0",
   "metadata": {},
   "outputs": [],
   "source": [
    "import os \n",
    "import numpy as np\n",
    "import pandas as pd\n",
    "import scipy\n",
    "import sklearn.metrics as skmetrics\n",
    "\n",
    "# plotting\n",
    "import matplotlib.pyplot as plt\n",
    "import seaborn as sns\n",
    "\n",
    "# Pytorch\n",
    "import torch\n",
    "import torch.nn as nn\n",
    "import torch.nn.functional as F\n",
    "import torch.optim as optim\n",
    "from torch.utils.data import DataLoader, Dataset\n",
    "import lightning as L\n",
    "import os\n",
    "import torchmetrics\n",
    "from torchmetrics.regression import PearsonCorrCoef"
   ]
  },
  {
   "cell_type": "code",
   "execution_count": 5,
   "id": "37e83892-d6f4-472c-9932-5ae348985cca",
   "metadata": {
    "tags": []
   },
   "outputs": [],
   "source": [
    "def goOneUp():\n",
    "    path_parent = os.path.dirname(os.getcwd())\n",
    "\n",
    "    os.chdir(path_parent)\n",
    "    os.getcwd()\n",
    "goOneUp()"
   ]
  },
  {
   "cell_type": "code",
   "execution_count": 24,
   "id": "79053584-a0fa-4014-973a-6ce085a4faf8",
   "metadata": {
    "tags": []
   },
   "outputs": [
    {
     "data": {
      "text/plain": [
       "'/home/course/bc_deep_learning_in_biology'"
      ]
     },
     "execution_count": 24,
     "metadata": {},
     "output_type": "execute_result"
    }
   ],
   "source": [
    "os.getcwd()\n",
    "#os.chdir(\"bc_deep_learning_in_biology\")\n",
    "#!cd \"bc_deep_learning_in_biology\""
   ]
  },
  {
   "cell_type": "code",
   "execution_count": 25,
   "id": "04e82a98-921d-44e2-9b73-2108f2caeff1",
   "metadata": {
    "tags": []
   },
   "outputs": [],
   "source": [
    "# the dataloaders load the tensors from memory one by one, could potentially become a bottleneck\n",
    "\n",
    "class ProtEmbeddingDataset(Dataset):\n",
    "    \"\"\"\n",
    "    Dataset for the embeddings of the mutated sequences\n",
    "    You can the get_item() method to return the data in the format you want\n",
    "    \"\"\"\n",
    "    def __init__(self, tensor_folder, csv_file, id_col=\"name\", label_col=\"ddG_ML\"):\n",
    "        \"\"\"\n",
    "        Initialize the dataset\n",
    "        input at init: \n",
    "            tensor_folder: path to the directory with the embeddings we want to use, eg. \"/home/data/mega_train_embeddings\"\n",
    "            cvs_file: path to the csv file corresponding to the data, eg. \"home/data/mega_train.csv\"\n",
    "        \"\"\"\n",
    "        self.tensor_folder = tensor_folder\n",
    "        self.df = pd.read_csv(csv_file, sep=\",\")\n",
    "        # only use the mutation rows\n",
    "        self.df = self.df[self.df.mut_type!=\"wt\"]\n",
    "        # get the labels and ids\n",
    "        self.labels = torch.tensor(self.df[label_col].values)\n",
    "        self.ids = self.df[id_col].values\n",
    "        self.wt_names = self.df[\"WT_name\"].values\n",
    "\n",
    "    def __len__(self):\n",
    "        return len(self.labels)\n",
    "\n",
    "    def __getitem__(self, idx):\n",
    "        # load embeddings\n",
    "        # mutation embedding\n",
    "        tensor_path = os.path.join(self.tensor_folder, self.ids[idx] + \".pt\")\n",
    "        tensor = torch.load(tensor_path)['mean_representations'][6]\n",
    "        # wildtype embedding, uncomment if you want to use this, too\n",
    "        #tensor_path_wt = os.path.join(self.tensor_folder, self.wt_names[idx] + \".pt\")\n",
    "        #tensor_wt = torch.load(tensor_path_wt)['mean_representations'][6]\n",
    "        label = self.labels[idx] # ddG value\n",
    "        # returns a tuple of the input embedding and the target ddG values\n",
    "        return tensor, label.float()\n",
    "    \n"
   ]
  },
  {
   "cell_type": "code",
   "execution_count": 26,
   "id": "bdc1d492-c77e-4dcd-a262-321056d3a0ee",
   "metadata": {
    "tags": []
   },
   "outputs": [],
   "source": [
    "# usage \n",
    "# make sure to adjust the paths to where your files are located\n",
    "dataset_train = ProtEmbeddingDataset('project_data/mega_train_embeddings', 'project_data/mega_train.csv')\n",
    "dataset_val = ProtEmbeddingDataset('project_data/mega_val_embeddings', 'project_data/mega_val.csv')\n",
    "dataset_test = ProtEmbeddingDataset('project_data/mega_test_embeddings', 'project_data/mega_test.csv')\n",
    "\n",
    "dataloader_train = DataLoader(dataset_train, batch_size=1024, shuffle=True, num_workers=16)\n",
    "dataloader_val = DataLoader(dataset_val, batch_size=512, shuffle=False, num_workers=16)\n",
    "dataloader_test = DataLoader(dataset_test, batch_size=32, shuffle=False)"
   ]
  },
  {
   "cell_type": "code",
   "execution_count": 27,
   "id": "74b8db6f-2de0-41e6-afb8-0306a7cb04c3",
   "metadata": {
    "tags": []
   },
   "outputs": [],
   "source": [
    "# take first batch from the train loader\n",
    "batch = next(iter(dataloader_train))"
   ]
  },
  {
   "cell_type": "code",
   "execution_count": 28,
   "id": "b093533b-9ca9-447a-9d0b-6f4c624dc73f",
   "metadata": {
    "tags": []
   },
   "outputs": [
    {
     "data": {
      "text/plain": [
       "torch.Size([1024, 768])"
      ]
     },
     "execution_count": 28,
     "metadata": {},
     "output_type": "execute_result"
    }
   ],
   "source": [
    "batch[0].shape"
   ]
  },
  {
   "cell_type": "code",
   "execution_count": 39,
   "id": "db3a548d-c7ab-4abe-a5d7-d4e0b279490e",
   "metadata": {
    "tags": []
   },
   "outputs": [],
   "source": [
    "# your code\n",
    "class MRIModel(nn.Module):\n",
    "    \n",
    "    # Network Initialisation\n",
    "    def __init__(self, params):\n",
    "        \n",
    "        super(MRIModel, self).__init__() #initialize parent pytorch module\n",
    "        \n",
    "        # read parameters\n",
    "        shape_in = params[\"shape_in\"]\n",
    "        batch_size = params[\"batch_size\"] \n",
    "        #fc1_size = params[\"fc1_size\"]\n",
    "        \n",
    "        #### Convolution Layers\n",
    "        self.dropout = nn.Dropout(0.3)\n",
    "        \n",
    "        #### Fully connected layers\n",
    "        # compute the flattened size as input for fully connected layer\n",
    "        #flat_size = current_data_shape[1] * batch_size\n",
    "        #print(current_data_shape)\n",
    "        # linear layer reduces data from flat_size to fc1_size\n",
    "        self.fc1 = nn.Linear(shape_in[1], shape_in[1])\n",
    "        print(\"first linear\", shape_in[1])\n",
    "        # last linear layer reduces data to output size 1\n",
    "        self.fc2 = nn.Linear(shape_in[1], 1)  #640\n",
    "        print(\"second linear\", shape_in[1])\n",
    "        ##self.fc3 = nn.Linear(shape_in[1], 640) #640, 512\n",
    "        #print(\"third linear\", shape_in[1])\n",
    "        ##self.fc4 = nn.Linear(640, 512) #512, 384\n",
    "        #print(\"forth linear\", shape_in[1])\n",
    "        ##self.fc5 = nn.Linear(512, 1) #384, 1\n",
    "        #print(\"last linear\", shape_in[1])\n",
    "        #self.fc6 = nn.Linear(384, 1)\n",
    "        #####################################\n",
    "        \n",
    "\n",
    "    def forward(self, X):\n",
    "        # our network's forward pass\n",
    "        X = F.sigmoid(self.fc1(X))\n",
    "        X = self.dropout(X)\n",
    "        X = self.fc2(X)\n",
    "        #X = self.dropout(X)\n",
    "        #X = F.sigmoid(self.fc3(X))\n",
    "        #X = self.dropout(X)\n",
    "        #X = F.sigmoid(self.fc4(X))\n",
    "        #X = self.dropout(X)\n",
    "        #X = self.fc5(X)\n",
    "        #X = self.fc6(X)\n",
    "\n",
    "        #####################################\n",
    "        # return log softmax to fit classification problem, no relu needed\n",
    "        return X"
   ]
  },
  {
   "cell_type": "code",
   "execution_count": 40,
   "id": "e2e57f8c-6ecc-4168-b934-decf64069c6c",
   "metadata": {
    "tags": []
   },
   "outputs": [],
   "source": [
    "device = torch.device('cuda' if torch.cuda.is_available() else 'cpu')\n",
    "\n",
    "class LitMRIModel(L.LightningModule):\n",
    "    def __init__(self, model, learning_rate):\n",
    "        super().__init__()\n",
    "        ######## TODO ##########\n",
    "        # pass our model \n",
    "        self.model = model\n",
    "        #pass the learning rate\n",
    "        self.lr = learning_rate\n",
    "        # define loss function\n",
    "        \n",
    "        self.loss_function = nn.MSELoss(reduction=\"mean\")\n",
    "        # define accuracy metric (torchmetrics)\n",
    "        #self.accuracy = torchmetrics.classification.MulticlassAccuracy() #change\n",
    "        ########################\n",
    "\n",
    "    def training_step(self, batch, batch_idx):\n",
    "        # training_step defines the train loop.\n",
    "        ######### TODO #############\n",
    "        \n",
    "        # read from batch\n",
    "        x, y = batch\n",
    "        x = torch.unsqueeze(x, 1)\n",
    "        # run data through model\n",
    "        predictions = self.model(x)\n",
    "        predictions = predictions.squeeze(1).squeeze(1)\n",
    "        # compute loss\n",
    "        loss = self.loss_function(predictions, y)\n",
    "        # compute accuracy\n",
    "        #acc = self.accuracy(predictions, y)\n",
    "        ##############################\n",
    "\n",
    "        # logging the values (will appear in progress bar and on dashboard)\n",
    "        self.log(\"train_loss\", loss, on_epoch=True, prog_bar=True)\n",
    "        #self.log(\"train_acc\", acc, on_epoch=True, prog_bar=True)\n",
    "\n",
    "        return loss\n",
    "\n",
    "    def configure_optimizers(self):\n",
    "        ############## TODO ################\n",
    "        # define the optimizer, let's use Adam\n",
    "        optimizer = torch.optim.Adam(self.parameters(), lr=self.lr)\n",
    "        ####################################\n",
    "        return optimizer\n",
    "\n",
    "    def test_step(self, batch, batch_idx):\n",
    "        # this is the test loop\n",
    "\n",
    "        ############### TODO #############\n",
    "        # read from batch\n",
    "        x, y = batch\n",
    "        x = torch.unsqueeze(x, 1)\n",
    "        # run data through model\n",
    "        predictions = self.model(x)\n",
    "        predictions = predictions.squeeze(1).squeeze(1)\n",
    "        # compute loss\n",
    "        loss = self.loss_function(predictions, y)\n",
    "        # compute accuracy\n",
    "        #acc = self.accuracy(predictions,y)\n",
    "        ##############################\n",
    "\n",
    "        # logging\n",
    "        self.log(\"test_loss\", loss, prog_bar=True)\n",
    "        #self.log(\"test_acc\", acc, prog_bar=True)\n",
    "        return loss#, acc\n",
    "\n",
    "\n",
    "    def validation_step(self, batch, batch_idx):\n",
    "        # this is the validation loop\n",
    "        ############### TODO #############\n",
    "        # read from batch\n",
    "        x, y = batch\n",
    "        x = torch.unsqueeze(x, 1)\n",
    "        # run data through model\n",
    "        predictions = self.model(x)\n",
    "        predictions = predictions.squeeze(1).squeeze(1)\n",
    "        # compute loss\n",
    "        loss = self.loss_function(predictions, y)\n",
    "        # compute accuracy\n",
    "        #acc = self.accuracy(predictions,y)\n",
    "        ##############################\n",
    "\n",
    "        # logging\n",
    "        self.log(\"val_loss\", loss, on_epoch=True, prog_bar=True)\n",
    "        #self.log(\"val_acc\", acc, on_epoch=True, prog_bar=True)\n",
    "        return loss \n",
    "    "
   ]
  },
  {
   "cell_type": "code",
   "execution_count": 41,
   "id": "8a07f39e-9f95-4582-883f-5f510bed50b3",
   "metadata": {
    "tags": []
   },
   "outputs": [
    {
     "name": "stderr",
     "output_type": "stream",
     "text": [
      "GPU available: True (cuda), used: True\n",
      "TPU available: False, using: 0 TPU cores\n",
      "IPU available: False, using: 0 IPUs\n",
      "HPU available: False, using: 0 HPUs\n",
      "LOCAL_RANK: 0 - CUDA_VISIBLE_DEVICES: [0]\n",
      "\n",
      "  | Name          | Type     | Params\n",
      "-------------------------------------------\n",
      "0 | model         | MRIModel | 591 K \n",
      "1 | loss_function | MSELoss  | 0     \n",
      "-------------------------------------------\n",
      "591 K     Trainable params\n",
      "0         Non-trainable params\n",
      "591 K     Total params\n",
      "2.365     Total estimated model params size (MB)\n"
     ]
    },
    {
     "name": "stdout",
     "output_type": "stream",
     "text": [
      "first linear 768\n",
      "second linear 768\n"
     ]
    },
    {
     "data": {
      "application/vnd.jupyter.widget-view+json": {
       "model_id": "",
       "version_major": 2,
       "version_minor": 0
      },
      "text/plain": [
       "Sanity Checking: |                                        | 0/? [00:00<?, ?it/s]"
      ]
     },
     "metadata": {},
     "output_type": "display_data"
    },
    {
     "data": {
      "application/vnd.jupyter.widget-view+json": {
       "model_id": "010a739a570b486ca09981378d1807e2",
       "version_major": 2,
       "version_minor": 0
      },
      "text/plain": [
       "Training: |                                               | 0/? [00:00<?, ?it/s]"
      ]
     },
     "metadata": {},
     "output_type": "display_data"
    },
    {
     "data": {
      "application/vnd.jupyter.widget-view+json": {
       "model_id": "",
       "version_major": 2,
       "version_minor": 0
      },
      "text/plain": [
       "Validation: |                                             | 0/? [00:00<?, ?it/s]"
      ]
     },
     "metadata": {},
     "output_type": "display_data"
    },
    {
     "data": {
      "application/vnd.jupyter.widget-view+json": {
       "model_id": "",
       "version_major": 2,
       "version_minor": 0
      },
      "text/plain": [
       "Validation: |                                             | 0/? [00:00<?, ?it/s]"
      ]
     },
     "metadata": {},
     "output_type": "display_data"
    },
    {
     "data": {
      "application/vnd.jupyter.widget-view+json": {
       "model_id": "",
       "version_major": 2,
       "version_minor": 0
      },
      "text/plain": [
       "Validation: |                                             | 0/? [00:00<?, ?it/s]"
      ]
     },
     "metadata": {},
     "output_type": "display_data"
    },
    {
     "data": {
      "application/vnd.jupyter.widget-view+json": {
       "model_id": "",
       "version_major": 2,
       "version_minor": 0
      },
      "text/plain": [
       "Validation: |                                             | 0/? [00:00<?, ?it/s]"
      ]
     },
     "metadata": {},
     "output_type": "display_data"
    },
    {
     "data": {
      "application/vnd.jupyter.widget-view+json": {
       "model_id": "",
       "version_major": 2,
       "version_minor": 0
      },
      "text/plain": [
       "Validation: |                                             | 0/? [00:00<?, ?it/s]"
      ]
     },
     "metadata": {},
     "output_type": "display_data"
    },
    {
     "data": {
      "application/vnd.jupyter.widget-view+json": {
       "model_id": "",
       "version_major": 2,
       "version_minor": 0
      },
      "text/plain": [
       "Validation: |                                             | 0/? [00:00<?, ?it/s]"
      ]
     },
     "metadata": {},
     "output_type": "display_data"
    },
    {
     "data": {
      "application/vnd.jupyter.widget-view+json": {
       "model_id": "",
       "version_major": 2,
       "version_minor": 0
      },
      "text/plain": [
       "Validation: |                                             | 0/? [00:00<?, ?it/s]"
      ]
     },
     "metadata": {},
     "output_type": "display_data"
    },
    {
     "data": {
      "application/vnd.jupyter.widget-view+json": {
       "model_id": "",
       "version_major": 2,
       "version_minor": 0
      },
      "text/plain": [
       "Validation: |                                             | 0/? [00:00<?, ?it/s]"
      ]
     },
     "metadata": {},
     "output_type": "display_data"
    },
    {
     "data": {
      "application/vnd.jupyter.widget-view+json": {
       "model_id": "",
       "version_major": 2,
       "version_minor": 0
      },
      "text/plain": [
       "Validation: |                                             | 0/? [00:00<?, ?it/s]"
      ]
     },
     "metadata": {},
     "output_type": "display_data"
    },
    {
     "data": {
      "application/vnd.jupyter.widget-view+json": {
       "model_id": "",
       "version_major": 2,
       "version_minor": 0
      },
      "text/plain": [
       "Validation: |                                             | 0/? [00:00<?, ?it/s]"
      ]
     },
     "metadata": {},
     "output_type": "display_data"
    },
    {
     "data": {
      "application/vnd.jupyter.widget-view+json": {
       "model_id": "",
       "version_major": 2,
       "version_minor": 0
      },
      "text/plain": [
       "Validation: |                                             | 0/? [00:00<?, ?it/s]"
      ]
     },
     "metadata": {},
     "output_type": "display_data"
    },
    {
     "data": {
      "application/vnd.jupyter.widget-view+json": {
       "model_id": "",
       "version_major": 2,
       "version_minor": 0
      },
      "text/plain": [
       "Validation: |                                             | 0/? [00:00<?, ?it/s]"
      ]
     },
     "metadata": {},
     "output_type": "display_data"
    },
    {
     "data": {
      "application/vnd.jupyter.widget-view+json": {
       "model_id": "",
       "version_major": 2,
       "version_minor": 0
      },
      "text/plain": [
       "Validation: |                                             | 0/? [00:00<?, ?it/s]"
      ]
     },
     "metadata": {},
     "output_type": "display_data"
    },
    {
     "data": {
      "application/vnd.jupyter.widget-view+json": {
       "model_id": "",
       "version_major": 2,
       "version_minor": 0
      },
      "text/plain": [
       "Validation: |                                             | 0/? [00:00<?, ?it/s]"
      ]
     },
     "metadata": {},
     "output_type": "display_data"
    },
    {
     "data": {
      "application/vnd.jupyter.widget-view+json": {
       "model_id": "",
       "version_major": 2,
       "version_minor": 0
      },
      "text/plain": [
       "Validation: |                                             | 0/? [00:00<?, ?it/s]"
      ]
     },
     "metadata": {},
     "output_type": "display_data"
    },
    {
     "name": "stderr",
     "output_type": "stream",
     "text": [
      "`Trainer.fit` stopped: `max_epochs=15` reached.\n",
      "LOCAL_RANK: 0 - CUDA_VISIBLE_DEVICES: [0]\n"
     ]
    },
    {
     "data": {
      "application/vnd.jupyter.widget-view+json": {
       "model_id": "0dc7160fabb84980bc263d976fe19430",
       "version_major": 2,
       "version_minor": 0
      },
      "text/plain": [
       "Validation: |                                             | 0/? [00:00<?, ?it/s]"
      ]
     },
     "metadata": {},
     "output_type": "display_data"
    },
    {
     "name": "stdout",
     "output_type": "stream",
     "text": [
      "────────────────────────────────────────────────────────────────────────────────────────────────────────────────────────\n",
      "     Validate metric           DataLoader 0\n",
      "────────────────────────────────────────────────────────────────────────────────────────────────────────────────────────\n",
      "        val_loss            1.5234174728393555\n",
      "────────────────────────────────────────────────────────────────────────────────────────────────────────────────────────\n"
     ]
    },
    {
     "data": {
      "text/plain": [
       "[{'val_loss': 1.5234174728393555}]"
      ]
     },
     "execution_count": 41,
     "metadata": {},
     "output_type": "execute_result"
    }
   ],
   "source": [
    "params_model={\"shape_in\": (1, batch[0].shape[1]), # size of our dataset  1024 (batch size), - 768 (nr of neurons)\n",
    "        \"batch_size\": 1024} #1 - 2x192, 384x7\n",
    "        #\"fc1_size\": 7}\n",
    "\n",
    "# Instantiate the model\n",
    "cnn_model = MRIModel(params_model)\n",
    "# instantiate lightning model with the cnn_model and learning_rate=1e-3\n",
    "model = LitMRIModel(cnn_model, learning_rate=1e-3)\n",
    "############################\n",
    "\n",
    "# instantiate the lightning trainer \n",
    "trainer = L.Trainer(max_epochs=15, log_every_n_steps=1)\n",
    "# train\n",
    "trainer.fit(model, dataloader_train, dataloader_val)\n",
    "\n",
    "trainer.validate(model, dataloader_val)"
   ]
  },
  {
   "cell_type": "code",
   "execution_count": 42,
   "id": "1b932b48-5b3c-439a-8e1e-798a19732e78",
   "metadata": {
    "tags": []
   },
   "outputs": [
    {
     "data": {
      "text/html": [
       "\n",
       "      <iframe id=\"tensorboard-frame-5ddfadfba4ca667d\" width=\"100%\" height=\"800\" frameborder=\"0\">\n",
       "      </iframe>\n",
       "      <script>\n",
       "        (function() {\n",
       "          const frame = document.getElementById(\"tensorboard-frame-5ddfadfba4ca667d\");\n",
       "          const url = new URL(\"/\", window.location);\n",
       "          const port = 8009;\n",
       "          if (port) {\n",
       "            url.port = port;\n",
       "          }\n",
       "          frame.src = url;\n",
       "        })();\n",
       "      </script>\n",
       "    "
      ],
      "text/plain": [
       "<IPython.core.display.HTML object>"
      ]
     },
     "metadata": {},
     "output_type": "display_data"
    }
   ],
   "source": [
    "%reload_ext tensorboard\n",
    "%tensorboard --logdir=lightning_logs/ --host localhost --port=8009"
   ]
  },
  {
   "cell_type": "code",
   "execution_count": 44,
   "id": "a97a5a30-3fd0-4a2f-bae8-360c535a768d",
   "metadata": {
    "tags": []
   },
   "outputs": [
    {
     "name": "stdout",
     "output_type": "stream",
     "text": [
      "RMSE: 1.2412875\n",
      "Pearson r: PearsonRResult(statistic=0.24132408752754578, pvalue=0.0)\n",
      "Spearman r: SignificanceResult(statistic=0.21465936137234473, pvalue=2.7030435635330434e-282)\n"
     ]
    },
    {
     "data": {
      "image/png": "[encoded data removed]",
      "text/plain": [
       "<Figure size 640x480 with 1 Axes>"
      ]
     },
     "metadata": {},
     "output_type": "display_data"
    }
   ],
   "source": [
    "preds =[]\n",
    "all_y = []\n",
    "# save all predictions\n",
    "for batch in dataloader_val:\n",
    "    # adjust this to work with your model\n",
    "    x,y = batch\n",
    "    x = torch.unsqueeze(x, 1)\n",
    "    y_hat = cnn_model(x)\n",
    "    preds.append(y_hat.squeeze().detach().numpy())\n",
    "    all_y.append(y.detach().numpy())\n",
    "\n",
    "# concatenate and plot\n",
    "preds = np.concatenate(preds)\n",
    "all_y = np.concatenate(all_y)\n",
    "\n",
    "sns.regplot(x=preds,y=all_y)\n",
    "plt.xlabel(\"Predicted ddG\")\n",
    "plt.ylabel(\"Measured ddG\")\n",
    "\n",
    "# get RMSE, Pearson and Spearman correlation \n",
    "print(\"RMSE:\", skmetrics.mean_squared_error(all_y, preds, squared = False))\n",
    "print(\"Pearson r:\", scipy.stats.pearsonr(preds, all_y))\n",
    "print(\"Spearman r:\", scipy.stats.spearmanr(preds, all_y))"
   ]
  },
  {
   "cell_type": "code",
   "execution_count": null,
   "id": "4e279c3c-68cc-40fb-8e69-fcb6b44c03ac",
   "metadata": {},
   "outputs": [],
   "source": []
  }
 ],
 "metadata": {
  "kernelspec": {
   "display_name": "Python 3 (ipykernel)",
   "language": "python",
   "name": "python3"
  },
  "language_info": {
   "codemirror_mode": {
    "name": "ipython",
    "version": 3
   },
   "file_extension": ".py",
   "mimetype": "text/x-python",
   "name": "python",
   "nbconvert_exporter": "python",
   "pygments_lexer": "ipython3",
   "version": "3.11.5"
  }
 },
 "nbformat": 4,
 "nbformat_minor": 5
}
