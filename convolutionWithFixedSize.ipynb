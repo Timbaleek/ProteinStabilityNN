{
 "cells": [
  {
   "cell_type": "code",
   "execution_count": 1,
   "id": "dbcde1e6-6f48-4224-85c4-50af278a5899",
   "metadata": {
    "tags": []
   },
   "outputs": [
    {
     "ename": "SyntaxError",
     "evalue": "invalid syntax (378543715.py, line 3)",
     "output_type": "error",
     "traceback": [
      "\u001b[0;36m  Cell \u001b[0;32mIn[1], line 3\u001b[0;36m\u001b[0m\n\u001b[0;31m    In the project you will try to predict protein stability changes upon point mutations.\u001b[0m\n\u001b[0m       ^\u001b[0m\n\u001b[0;31mSyntaxError\u001b[0m\u001b[0;31m:\u001b[0m invalid syntax\n"
     ]
    }
   ],
   "source": [
    "# Project: Protein stability prediction\n",
    "\n",
    "In the project you will try to predict protein stability changes upon point mutations. \n",
    "We will use acuumulated data from experimental databases, i.e. the Megascale dataset. A current [pre-print paper](https://www.ncbi.nlm.nih.gov/pmc/articles/PMC10402116/) has already preprocessed the dataset and created homology reduced data splits. We will reuse these. To do so, download the data folder from [here](https://polybox.ethz.ch/index.php/s/txvcb5jKy1A0TbY) and unzip it.  \n",
    "\n",
    "The data includes measurements of changes in the Gibbs free enrgy ($\\Delta \\Delta G $). \n",
    "This will be the value that you will have to predict for a given protein with a point mutation. \n",
    "As input data you can use the protein sequence or a protein embedding retreived from ESM, a state of the art protein model.  \n",
    "\n",
    "Here we will use the sequence as input. \n",
    "The model will predict the $\\Delta \\Delta G $ of point mutations in this sequence. To make training more efficient, the model should directly predict the values for all possible mutations at each position in the sequence. So the expected output is a sequence of $ L \\ (sequence \\ length) \\ x \\ 20 \\ (number \\ amino \\ acids)$. This will be shown in detail later.\n",
    "\n",
    "Below we provide you with a strcuture for the project that you can start with.  \n",
    "Edit the cells to your liking and add more code to create your final model.\n",
    "\n",
    "\n",
    "https://www.nature.com/articles/s41598-020-71450-8#Sec12"
   ]
  },
  {
   "cell_type": "code",
   "execution_count": 156,
   "id": "dcd8d496-1771-43fd-a47e-a32db5dba7ec",
   "metadata": {
    "tags": []
   },
   "outputs": [],
   "source": [
    "import os \n",
    "import numpy as np\n",
    "import pandas as pd\n",
    "import scipy\n",
    "import sklearn.metrics as skmetrics\n",
    "\n",
    "# plotting\n",
    "import matplotlib.pyplot as plt\n",
    "import seaborn as sns\n",
    "\n",
    "# Pytorch\n",
    "import torch\n",
    "import torch.nn as nn\n",
    "import torch.nn.functional as F\n",
    "import torch.optim as optim\n",
    "from torch.utils.data import DataLoader, Dataset\n",
    "import lightning as L\n",
    "\n",
    "import torchmetrics\n",
    "from torchmetrics.regression import PearsonCorrCoef"
   ]
  },
  {
   "cell_type": "code",
   "execution_count": 315,
   "id": "5e0e8e50-ad2e-47eb-949c-6aca36d42b25",
   "metadata": {
    "tags": []
   },
   "outputs": [],
   "source": [
    "aa_alphabet = 'ACDEFGHIKLMNPQRSTVWY' # amino acid alphabet\n",
    "aa_to_int = {aa: i for i, aa in enumerate(aa_alphabet)} # mapping from amino acid to number\n",
    "\n",
    "# function to one hot encode sequence\n",
    "def one_hot_encode(sequence):\n",
    "    # initialize a zero matrix of shape (len(sequence), len(amino_acids))\n",
    "    one_hot = torch.zeros(len(sequence), len(aa_alphabet))\n",
    "    if sequence != \"0\":\n",
    "        for i, aa in enumerate(sequence):\n",
    "            # set the column corresponding to the amino acid to 1\n",
    "            one_hot[i].scatter_(0, torch.tensor([aa_to_int[aa]]), 1)\n",
    "    return one_hot\n",
    "    \n",
    "\n",
    "\n",
    "# sequence data, comes already batched, so treat accordingly in dataloader (batch_size=1)\n",
    "class SequenceData(Dataset):\n",
    "    def __init__(self, csv_file, label_col=\"ddG_ML\"):\n",
    "        \"\"\"\n",
    "        Initializes the dataset. \n",
    "        input:\n",
    "            csv_file: path to the relevant data file, eg. \"/home/data/mega_train.csv\"\n",
    "        \"\"\"\n",
    "        \n",
    "        self.min_size = 72\n",
    "        \n",
    "        self.df = pd.read_csv(csv_file, sep=\",\")\n",
    "        self.label_col = label_col\n",
    "        # only have mutation rows\n",
    "        self.df = self.df[self.df.mut_type!=\"wt\"]\n",
    "        # process the mutation row\n",
    "        self.df[\"mutation_pos\"] = self.df[\"mut_type\"].apply(lambda x: int(x[1:-1])-1) # make position start at zero\n",
    "        self.df[\"mutation_to\"] = self.df[\"mut_type\"].apply(lambda x: aa_to_int[x[-1]]) # give numerical label to mutation\n",
    "\n",
    "        # group by wild type\n",
    "        self.df = self.df.groupby(\"WT_name\").agg(list)\n",
    "        # get wild type names\n",
    "        self.wt_names = self.df.index.values\n",
    "        # precompute one-hot encoding for faster training\n",
    "        self.encoded_seqs = {}\n",
    "        for wt_name in self.wt_names:\n",
    "            # get the correct row\n",
    "            mut_row = self.df.loc[wt_name]\n",
    "            seq = mut_row[\"wt_seq\"][0]\n",
    "            self.encoded_seqs[wt_name] = one_hot_encode(seq)\n",
    "            #for i in range(self.min_size-len(self.encoded_seqs[wt_name])):\n",
    "                #print(wt_name, i)\n",
    "            #    self.encoded_seqs[wt_name] = torch.cat((self.encoded_seqs[wt_name], one_hot_encode(\"0\")),0)\n",
    "                \n",
    "\n",
    "    def __len__(self):\n",
    "        return len(self.df)\n",
    "\n",
    "    def __getitem__(self, idx):\n",
    "        # get the wild type name\n",
    "        wt_name = self.wt_names[idx]\n",
    "        # get the correct row\n",
    "        mut_row = self.df.loc[wt_name]\n",
    "        # get the wt sequence in one hot encoding\n",
    "        sequence_encoding = self.encoded_seqs[wt_name]\n",
    "\n",
    "        # create mask and target tensors\n",
    "        mask = torch.zeros((1, len(sequence_encoding),20)) # will be 1 where we have a measurement\n",
    "        target = torch.zeros((1, len(sequence_encoding),20)) # ddg values\n",
    "        # all mutations from df\n",
    "        positions = torch.tensor(mut_row[\"mutation_pos\"])\n",
    "        amino_acids = torch.tensor(mut_row[\"mutation_to\"])\n",
    "        # get the labels\n",
    "        labels = torch.tensor(mut_row[self.label_col])\n",
    "\n",
    "        for i in range(len(sequence_encoding)):\n",
    "            mask[0,i,amino_acids[positions==i]] = 1 # one where we have data\n",
    "            target[0,i,amino_acids[positions==i]] = labels[positions==i] # fill with ddG values\n",
    "        \n",
    "        # returns encoded sequence, mask and target sequence \n",
    "     \n",
    "        \n",
    "        \n",
    "        return {\"sequence\": sequence_encoding[None,:,:].float(), \"mask\": mask, \"labels\": target}"
   ]
  },
  {
   "cell_type": "code",
   "execution_count": 316,
   "id": "45641fdc-7dc1-41d0-9707-6cf1169adc3a",
   "metadata": {
    "tags": []
   },
   "outputs": [],
   "source": [
    "#go one directory up\n",
    "def goOneUp():\n",
    "    path_parent = os.path.dirname(os.getcwd())\n",
    "\n",
    "    os.chdir(path_parent)\n",
    "    os.getcwd()"
   ]
  },
  {
   "cell_type": "code",
   "execution_count": 261,
   "id": "2d892c92-6386-4916-88db-a05b9ccb0d3e",
   "metadata": {
    "tags": []
   },
   "outputs": [],
   "source": [
    "#os.chdir(\"ProteinStabilityNN\")\n"
   ]
  },
  {
   "cell_type": "code",
   "execution_count": 317,
   "id": "49458f75-3b13-4759-8dc9-fa49b6672c01",
   "metadata": {
    "tags": []
   },
   "outputs": [],
   "source": [
    "# usage\n",
    "dataset_train = SequenceData('project_data/project_data/mega_train.csv')\n",
    "dataset_val= SequenceData('project_data/project_data/mega_val.csv')\n",
    "dataset_test = SequenceData('project_data/project_data/mega_test.csv')\n",
    "\n",
    "# use batch_size=1 bc we treat each sequence as one batch\n",
    "dataloader_val = DataLoader(dataset_val, batch_size=1, shuffle=False)\n",
    "dataloader_train = DataLoader(dataset_train, batch_size=1, shuffle=True)\n",
    "dataloader_test = DataLoader(dataset_test, batch_size=1, shuffle=False)"
   ]
  },
  {
   "cell_type": "code",
   "execution_count": 318,
   "id": "1ea1009b-c111-4134-99dc-37e5a3ae147f",
   "metadata": {
    "tags": []
   },
   "outputs": [
    {
     "data": {
      "text/plain": [
       "torch.Size([63, 20])"
      ]
     },
     "execution_count": 318,
     "metadata": {},
     "output_type": "execute_result"
    }
   ],
   "source": [
    "dataset_train.encoded_seqs['1A32.pdb'].shape"
   ]
  },
  {
   "cell_type": "code",
   "execution_count": 319,
   "id": "823fd295-b763-4b26-b0a8-a4170023e1c1",
   "metadata": {
    "tags": []
   },
   "outputs": [
    {
     "data": {
      "text/plain": [
       "tensor([0., 1., 1., 1., 1., 1., 1., 1., 1., 1., 1., 1., 1., 1., 1., 1., 1., 1.,\n",
       "        1., 1.])"
      ]
     },
     "execution_count": 319,
     "metadata": {},
     "output_type": "execute_result"
    }
   ],
   "source": [
    "dataset_train.__getitem__(4)[\"mask\"][0][-1]"
   ]
  },
  {
   "cell_type": "code",
   "execution_count": 320,
   "id": "5c47cf79-5a6c-4aa1-8747-6cef838e99fb",
   "metadata": {
    "tags": []
   },
   "outputs": [
    {
     "data": {
      "text/plain": [
       "[<matplotlib.lines.Line2D at 0x7fb00d304e90>]"
      ]
     },
     "execution_count": 320,
     "metadata": {},
     "output_type": "execute_result"
    },
    {
     "data": {
      "image/png": "[encoded data removed]",
      "text/plain": [
       "<Figure size 640x480 with 1 Axes>"
      ]
     },
     "metadata": {},
     "output_type": "display_data"
    }
   ],
   "source": [
    "\n",
    "plt.plot([len(dataset_train.encoded_seqs[seq]) for seq in dataset_train.encoded_seqs.keys()])\n",
    "#max([len(dataset_train.encoded_seqs['1A32.pdb']) for seq in range(len(dataset_train.encoded_seqs))])\n",
    "    \n",
    "plt.plot([len(dataset_train.df[\"aa_seq\"][seq][0]) for seq in range(len(dataset_train.df))])\n",
    "#max([len(dataset_train.df[\"aa_seq\"][seq][0]) for seq in range(len(dataset_train.df))])\n",
    "    "
   ]
  },
  {
   "cell_type": "code",
   "execution_count": 321,
   "id": "d16f5b98-89df-4593-b8be-8ab283525cc1",
   "metadata": {
    "tags": []
   },
   "outputs": [],
   "source": [
    "#Model architecture and training¶"
   ]
  },
  {
   "cell_type": "code",
   "execution_count": 322,
   "id": "aa08c57f-9d54-4cf0-8eea-a8af2b52dab7",
   "metadata": {
    "tags": []
   },
   "outputs": [],
   "source": [
    "# get the output shape of our data after a convolution and pooling of a certain size\n",
    "\n",
    "def get_conv2d_out_shape(tensor_shape, conv, pool=2):\n",
    "    # return the new shape of the tensor after a convolution and pooling\n",
    "    # tensor_shape: (channels, height, width)\n",
    "    # convolution arguments\n",
    "    kernel_size = conv.kernel_size\n",
    "    stride=conv.stride # 2D array\n",
    "    padding=conv.padding # 2D array\n",
    "    dilation=conv.dilation # 2D array\n",
    "    out_channels = conv.out_channels\n",
    "\n",
    "    height_out = np.floor((tensor_shape[1]+2*padding[0]-dilation[0]*(kernel_size[0]-1)-1)/stride[0]+1)\n",
    "    width_out = np.floor((tensor_shape[2]+2*padding[1]-dilation[1]*(kernel_size[1]-1)-1)/stride[1]+1)\n",
    "    \n",
    "    if pool:\n",
    "        # adjust dimensions to pooling\n",
    "        height_out/=pool\n",
    "        width_out/=pool\n",
    "        \n",
    "    return int(out_channels),int(height_out),int(width_out)"
   ]
  },
  {
   "cell_type": "code",
   "execution_count": 323,
   "id": "b1d5b202-8566-4921-a839-d92fe39e76f1",
   "metadata": {
    "tags": []
   },
   "outputs": [
    {
     "data": {
      "text/plain": [
       "(1, 32, 6)"
      ]
     },
     "execution_count": 323,
     "metadata": {},
     "output_type": "execute_result"
    }
   ],
   "source": [
    "#initial size 293*72*20\n",
    "initial_depth = 1\n",
    "channels_in = 1\n",
    "fc1 = 7\n",
    "get_conv2d_out_shape([293,72,20], nn.Conv2d(channels_in, initial_depth, kernel_size=3), pool=2)\n",
    "# layer 1 and pool (1, 35, 9)\n",
    "get_conv2d_out_shape([1, 35, 9], nn.Conv2d(channels_in, initial_depth, kernel_size=4), pool=0)\n",
    "# layer 2 without pool (1, 32, 6)\n",
    "#1*32*6=192\n",
    "# layer fc1 1*192 -- 1*7\n",
    "# layer fc2 1*7 -- 1*1\n"
   ]
  },
  {
   "cell_type": "code",
   "execution_count": 324,
   "id": "226a1bcc-03d5-43e3-aa50-b0212c553062",
   "metadata": {
    "tags": []
   },
   "outputs": [],
   "source": [
    "class convModel(nn.Module):\n",
    "    \n",
    "    # Network Initialisation\n",
    "    def __init__(self, params):\n",
    "        \n",
    "        super(convModel, self).__init__() #initialize parent pytorch module\n",
    "\n",
    "        # read parameters\n",
    "        shape_in = params[\"shape_in\"]\n",
    "        kernelSize = params[\"kernelSize\"]\n",
    "        #channels_out = params[\"initial_depth\"] \n",
    "        #fc1_size = params[\"fc1_size\"]\n",
    "        \n",
    "        #### Convolution Layers\n",
    "\n",
    "        # Max pooling layer\n",
    "\n",
    "        ##conv layer 1\n",
    "        # convolution with kernel size 8, goes from three channels to \n",
    "        # number defined by initial_depth in params\n",
    "        self.conv1 = nn.Conv2d(shape_in[0], shape_in[0], kernel_size=kernelSize[0], padding=int((kernelSize[0]-1)/2), padding_mode='zeros')\n",
    "        #shape in = (3, 256, 256)\n",
    "        self.conv2 = nn.Conv2d(shape_in[0], shape_in[0], kernel_size=kernelSize[1], padding=int((kernelSize[1]-1)/2), padding_mode='zeros')\n",
    "        #####################################\n",
    "        \n",
    "\n",
    "    def forward(self,X):\n",
    "        # our network's forward pass\n",
    "        \n",
    "        # Convolution & Pool Layers\n",
    "        ############# TODO ###############\n",
    "        # convolution (conv1), then relu, then max pool \n",
    "        X = F.tanh(self.conv1(X))\n",
    "        X = self.conv2(X)\n",
    "\n",
    "        #####################################\n",
    "        # return log softmax to fit classification problem, no relu needed\n",
    "        return X"
   ]
  },
  {
   "cell_type": "code",
   "execution_count": 325,
   "id": "859277cc-2727-4f24-9518-5234ee683828",
   "metadata": {
    "tags": []
   },
   "outputs": [
    {
     "data": {
      "text/plain": [
       "'\\n# take first batch from the train loader\\nbatch = next(iter(dataloader_train))\\nprint(batch[\"sequence\"][0].shape)\\n# create the model\\ncnn_model = convModel(params={\"shape_in\":batch[\"sequence\"][0].shape,\"initial_depth\":1,\"fc1_size\":32})#default values\\n# forward pass\\nout = cnn_model(batch)\\n# print shape of the input batch\\nprint(\"Shape of the input batch: \", batch.shape)\\n# print the output shape\\nprint(\"Shape of the output: \", out.shape)\\n# prediction output for first image, exp to get from log back to probabilities\\nprint(torch.exp(out[0].detach()))\\n'"
      ]
     },
     "execution_count": 325,
     "metadata": {},
     "output_type": "execute_result"
    }
   ],
   "source": [
    "'''\n",
    "# take first batch from the train loader\n",
    "batch = next(iter(dataloader_train))\n",
    "print(batch[\"sequence\"][0].shape)\n",
    "# create the model\n",
    "cnn_model = convModel(params={\"shape_in\":batch[\"sequence\"][0].shape,\"initial_depth\":1,\"fc1_size\":32})#default values\n",
    "# forward pass\n",
    "out = cnn_model(batch)\n",
    "# print shape of the input batch\n",
    "print(\"Shape of the input batch: \", batch.shape)\n",
    "# print the output shape\n",
    "print(\"Shape of the output: \", out.shape)\n",
    "# prediction output for first image, exp to get from log back to probabilities\n",
    "print(torch.exp(out[0].detach()))\n",
    "'''"
   ]
  },
  {
   "cell_type": "code",
   "execution_count": 326,
   "id": "1be000cc-7114-4caf-9e9e-bd1dbf8bc1cf",
   "metadata": {
    "tags": []
   },
   "outputs": [
    {
     "data": {
      "text/plain": [
       "tensor([0., 0., 0., 1., 0., 0., 0., 0., 0., 0., 0., 0., 0., 0., 0., 0., 0., 0.,\n",
       "        0., 0.])"
      ]
     },
     "execution_count": 326,
     "metadata": {},
     "output_type": "execute_result"
    }
   ],
   "source": [
    "batch[\"sequence\"][0][0][15]"
   ]
  },
  {
   "cell_type": "code",
   "execution_count": 327,
   "id": "abe18fa4-2913-404d-92b3-9f395456fa9f",
   "metadata": {
    "tags": []
   },
   "outputs": [
    {
     "data": {
      "text/plain": [
       "tensor([1., 1., 1., 0., 1., 1., 1., 1., 1., 1., 1., 1., 1., 1., 1., 1., 1., 1.,\n",
       "        1., 1.])"
      ]
     },
     "execution_count": 327,
     "metadata": {},
     "output_type": "execute_result"
    }
   ],
   "source": [
    "batch[\"mask\"][0][0][15]"
   ]
  },
  {
   "cell_type": "code",
   "execution_count": 328,
   "id": "b4171190-4bb3-4382-b39f-07fd5a4819f2",
   "metadata": {
    "tags": []
   },
   "outputs": [
    {
     "data": {
      "text/plain": [
       "tensor([ 0.0640,  0.4400, -0.0795,  0.0000,  0.5881, -0.0445,  0.2332,  0.4094,\n",
       "         0.2851,  0.1235,  0.2671, -0.1671, -0.9979,  0.3023,  0.0372,  0.0538,\n",
       "         0.1587,  0.2242,  0.5248,  0.6118])"
      ]
     },
     "execution_count": 328,
     "metadata": {},
     "output_type": "execute_result"
    }
   ],
   "source": [
    "batch[\"labels\"][0][0][15]"
   ]
  },
  {
   "cell_type": "code",
   "execution_count": 329,
   "id": "54b3e78c-17a0-4092-8e7a-82f87d66d460",
   "metadata": {
    "tags": []
   },
   "outputs": [],
   "source": [
    "class LitMRIModel(L.LightningModule):\n",
    "    def __init__(self, model, learning_rate=1e-3):\n",
    "        super().__init__()\n",
    "        ######## TODO ##########\n",
    "        # pass our model \n",
    "        self.model = model\n",
    "        #pass the learning rate\n",
    "        self.lr = learning_rate\n",
    "        # define loss function\n",
    "        self.loss_function = nn.MSELoss() #TODO\n",
    "        # define accuracy metric (torchmetrics)\n",
    "        #self.accuracy = torchmetrics.classification.Accuracy(task=\"multiclass\", num_classes=2)\n",
    "        ########################\n",
    "\n",
    "    def training_step(self, batch, batch_idx):\n",
    "        # training_step defines the train loop.\n",
    "        ######### TODO #############\n",
    "        \n",
    "        # read from batch\n",
    "        # TODO\n",
    "        x = batch[\"sequence\"][0]\n",
    "        mask = batch[\"mask\"][0]\n",
    "        y = batch[\"labels\"][0]\n",
    "        #print(x)\n",
    "        #print(y)\n",
    "        # run data through model\n",
    "        predictions = self.model(x)\n",
    "        # compute loss\n",
    "        # 1 prediction\n",
    "        loss = self.loss_function(predictions[mask==1], y[mask==1])\n",
    "        #loss = self.loss_function(predictions, y)\n",
    "        # compute accuracy\n",
    "        #acc = self.accuracy(predictions, y)\n",
    "        ##############################\n",
    "\n",
    "        # logging the values (will appear in progress bar and on dashboard)\n",
    "        self.log(\"train_loss\", loss, on_epoch=True, prog_bar=True)\n",
    "        #self.log(\"train_acc\", acc, on_epoch=True, prog_bar=True)\n",
    "\n",
    "        return loss\n",
    "\n",
    "    def configure_optimizers(self):\n",
    "        ############## TODO ################\n",
    "        # define the optimizer, let's use Adam\n",
    "        optimizer = torch.optim.Adam(self.parameters(), lr=self.lr)\n",
    "        ####################################\n",
    "        return optimizer\n",
    "\n",
    "    def test_step(self, batch, batch_idx):\n",
    "        # this is the test loop\n",
    "\n",
    "        ############### TODO #############\n",
    "        # read from batch\n",
    "        x = batch[\"sequence\"][0]\n",
    "        mask = batch[\"mask\"][0]\n",
    "        y = batch[\"labels\"][0]\n",
    "\n",
    "        # run data through model\n",
    "        predictions = self.model(x)\n",
    "        \n",
    "        # compute loss\n",
    "        #loss = loss(prediction,labels[mask==1])\n",
    "        loss = self.loss_function(predictions[mask==1], y[mask==1])\n",
    "        # compute accuracy\n",
    "        #acc = self.accuracy(predictions, y)\n",
    "        ##############################\n",
    "\n",
    "        # logging\n",
    "        self.log(\"test_loss\", loss, prog_bar=True)\n",
    "        self.log(\"test_acc\", acc, prog_bar=True)\n",
    "        return loss#, acc\n",
    "\n",
    "\n",
    "    def validation_step(self, batch, batch_idx):\n",
    "        # this is the validation loop\n",
    "        ############### TODO #############\n",
    "        # read from batch\n",
    "        x = batch[\"mask\"][0]\n",
    "        mask = batch[\"mask\"][0]\n",
    "        y = batch[\"labels\"][0]\n",
    "\n",
    "        #print(x.shape)\n",
    "        #print(y.shape)\n",
    "        # run data through model\n",
    "        predictions = self.model(x)\n",
    "        #print(predictions.shape)\n",
    "        # compute loss\n",
    "        loss = self.loss_function(predictions[mask==1], y[mask==1])\n",
    "        #loss = self.loss_function(predictions, y)\n",
    "        # compute accuracy\n",
    "        #acc = self.accuracy(predictions, y)#torchmetrics.classification.Accuracy(task=\"MULTICLASS\", num_classes=2)\n",
    "        ##############################\n",
    "\n",
    "        # logging\n",
    "        self.log(\"val_loss\", loss, on_epoch=True, prog_bar=True)\n",
    "        #self.log(\"val_acc\", acc, on_epoch=True, prog_bar=True)\n",
    "        return loss "
   ]
  },
  {
   "cell_type": "code",
   "execution_count": 341,
   "id": "682826f5-47cc-43ec-b77b-bf3d49981853",
   "metadata": {
    "tags": []
   },
   "outputs": [],
   "source": [
    "from lightning.pytorch.callbacks import LearningRateFinder\n",
    "\n",
    "class FineTuneLearningRateFinder(LearningRateFinder):\n",
    "    def __init__(self, milestones, *args, **kwargs):\n",
    "        super().__init__(*args, **kwargs)\n",
    "        self.milestones = milestones\n",
    "\n",
    "    def on_fit_start(self, *args, **kwargs):\n",
    "        return\n",
    "\n",
    "    def on_train_epoch_start(self, trainer, pl_module):\n",
    "        if trainer.current_epoch in self.milestones or trainer.current_epoch == 0:\n",
    "            self.lr_find(trainer, pl_module)\n",
    "\n"
   ]
  },
  {
   "cell_type": "code",
   "execution_count": 330,
   "id": "333ea981-6e34-4c66-9c95-1f531cb8f5ca",
   "metadata": {
    "tags": []
   },
   "outputs": [
    {
     "data": {
      "text/plain": [
       "1"
      ]
     },
     "execution_count": 330,
     "metadata": {},
     "output_type": "execute_result"
    }
   ],
   "source": [
    "batch[\"sequence\"][0].shape[0]"
   ]
  },
  {
   "cell_type": "code",
   "execution_count": 331,
   "id": "d0527bdc-37ea-497d-ab44-0071aac6bd96",
   "metadata": {
    "tags": []
   },
   "outputs": [],
   "source": [
    "# define parameters\n",
    "params_model={\n",
    "    \"shape_in\": batch[\"sequence\"][0].shape,\n",
    "    \"kernelSize\": (7, 19)\n",
    "    }\n",
    "\n",
    "# define computation hardware approach (GPU/CPU)\n",
    "device = torch.device('cuda' if torch.cuda.is_available() else 'cpu')\n",
    "# Instantiate the model\n",
    "cnn_model = convModel(params_model)\n",
    "# moves the model to GPU if available\n",
    "cnn_model = cnn_model.to(device)"
   ]
  },
  {
   "cell_type": "code",
   "execution_count": 332,
   "id": "52485c25-415c-4217-acbf-c875a055ed8b",
   "metadata": {
    "tags": []
   },
   "outputs": [
    {
     "data": {
      "text/plain": [
       "{'sequence': tensor([[[[0., 0., 0.,  ..., 0., 0., 0.],\n",
       "           [0., 0., 0.,  ..., 0., 0., 0.],\n",
       "           [0., 0., 0.,  ..., 0., 0., 0.],\n",
       "           ...,\n",
       "           [0., 0., 0.,  ..., 0., 0., 0.],\n",
       "           [0., 0., 0.,  ..., 0., 0., 0.],\n",
       "           [0., 0., 0.,  ..., 0., 0., 0.]]]]),\n",
       " 'mask': tensor([[[[1., 1., 1.,  ..., 1., 1., 1.],\n",
       "           [1., 1., 1.,  ..., 1., 1., 1.],\n",
       "           [1., 1., 1.,  ..., 1., 1., 1.],\n",
       "           ...,\n",
       "           [0., 0., 0.,  ..., 0., 0., 0.],\n",
       "           [0., 0., 0.,  ..., 0., 0., 0.],\n",
       "           [0., 0., 0.,  ..., 0., 0., 0.]]]]),\n",
       " 'labels': tensor([[[[-0.0990,  0.4121, -0.3325,  ..., -0.0610,  0.7441,  0.9468],\n",
       "           [ 0.0306,  0.3832, -0.4945,  ..., -0.0027,  1.3001,  0.8953],\n",
       "           [ 0.0822,  0.7118, -0.5952,  ...,  0.1082,  1.3789,  1.0039],\n",
       "           ...,\n",
       "           [ 0.0000,  0.0000,  0.0000,  ...,  0.0000,  0.0000,  0.0000],\n",
       "           [ 0.0000,  0.0000,  0.0000,  ...,  0.0000,  0.0000,  0.0000],\n",
       "           [ 0.0000,  0.0000,  0.0000,  ...,  0.0000,  0.0000,  0.0000]]]])}"
      ]
     },
     "execution_count": 332,
     "metadata": {},
     "output_type": "execute_result"
    }
   ],
   "source": [
    "batch"
   ]
  },
  {
   "cell_type": "code",
   "execution_count": 333,
   "id": "5e447142-335e-48b5-8c24-8d61d38f7d44",
   "metadata": {
    "tags": []
   },
   "outputs": [],
   "source": [
    "batch = next(iter(dataloader_train))"
   ]
  },
  {
   "cell_type": "code",
   "execution_count": 342,
   "id": "1bb6946e-d1a5-4717-b426-8b75b319b02c",
   "metadata": {
    "tags": []
   },
   "outputs": [
    {
     "name": "stderr",
     "output_type": "stream",
     "text": [
      "GPU available: True (cuda), used: True\n",
      "TPU available: False, using: 0 TPU cores\n",
      "IPU available: False, using: 0 IPUs\n",
      "HPU available: False, using: 0 HPUs\n",
      "LOCAL_RANK: 0 - CUDA_VISIBLE_DEVICES: [0]\n",
      "\n",
      "  | Name          | Type      | Params\n",
      "--------------------------------------------\n",
      "0 | model         | convModel | 412   \n",
      "1 | loss_function | MSELoss   | 0     \n",
      "--------------------------------------------\n",
      "412       Trainable params\n",
      "0         Non-trainable params\n",
      "412       Total params\n",
      "0.002     Total estimated model params size (MB)\n"
     ]
    },
    {
     "data": {
      "application/vnd.jupyter.widget-view+json": {
       "model_id": "",
       "version_major": 2,
       "version_minor": 0
      },
      "text/plain": [
       "Sanity Checking: |                                        | 0/? [00:00<?, ?it/s]"
      ]
     },
     "metadata": {},
     "output_type": "display_data"
    },
    {
     "data": {
      "application/vnd.jupyter.widget-view+json": {
       "model_id": "962858d7a37f446b82ab9411f4b8aabb",
       "version_major": 2,
       "version_minor": 0
      },
      "text/plain": [
       "Training: |                                               | 0/? [00:00<?, ?it/s]"
      ]
     },
     "metadata": {},
     "output_type": "display_data"
    },
    {
     "data": {
      "application/vnd.jupyter.widget-view+json": {
       "model_id": "16612b252e42465a86f3f675eb2aacbe",
       "version_major": 2,
       "version_minor": 0
      },
      "text/plain": [
       "Finding best initial lr:   0%|          | 0/100 [00:00<?, ?it/s]"
      ]
     },
     "metadata": {},
     "output_type": "display_data"
    },
    {
     "name": "stderr",
     "output_type": "stream",
     "text": [
      "LR finder stopped early after 29 steps due to diverging loss.\n",
      "Learning rate set to 7.585775750291837e-08\n",
      "Restoring states from the checkpoint path at /home/course/ProteinStabilityNN/.lr_find_cc26868d-5af9-4bb5-970e-7f748cb8de28.ckpt\n",
      "Restored all states from the checkpoint at /home/course/ProteinStabilityNN/.lr_find_cc26868d-5af9-4bb5-970e-7f748cb8de28.ckpt\n"
     ]
    },
    {
     "data": {
      "application/vnd.jupyter.widget-view+json": {
       "model_id": "",
       "version_major": 2,
       "version_minor": 0
      },
      "text/plain": [
       "Validation: |                                             | 0/? [00:00<?, ?it/s]"
      ]
     },
     "metadata": {},
     "output_type": "display_data"
    },
    {
     "data": {
      "application/vnd.jupyter.widget-view+json": {
       "model_id": "",
       "version_major": 2,
       "version_minor": 0
      },
      "text/plain": [
       "Validation: |                                             | 0/? [00:00<?, ?it/s]"
      ]
     },
     "metadata": {},
     "output_type": "display_data"
    },
    {
     "data": {
      "application/vnd.jupyter.widget-view+json": {
       "model_id": "",
       "version_major": 2,
       "version_minor": 0
      },
      "text/plain": [
       "Validation: |                                             | 0/? [00:00<?, ?it/s]"
      ]
     },
     "metadata": {},
     "output_type": "display_data"
    },
    {
     "data": {
      "application/vnd.jupyter.widget-view+json": {
       "model_id": "",
       "version_major": 2,
       "version_minor": 0
      },
      "text/plain": [
       "Validation: |                                             | 0/? [00:00<?, ?it/s]"
      ]
     },
     "metadata": {},
     "output_type": "display_data"
    },
    {
     "name": "stderr",
     "output_type": "stream",
     "text": [
      "/home/course/anaconda3/lib/python3.11/site-packages/lightning/pytorch/loops/training_epoch_loop.py:156: You're resuming from a checkpoint that ended before the epoch ended. This can cause unreliable results if further training is done. Consider using an end-of-epoch checkpoint\n"
     ]
    },
    {
     "data": {
      "application/vnd.jupyter.widget-view+json": {
       "model_id": "8fbf54001c8f43cf91a1cda1e46eb845",
       "version_major": 2,
       "version_minor": 0
      },
      "text/plain": [
       "Finding best initial lr:   0%|          | 0/100 [00:00<?, ?it/s]"
      ]
     },
     "metadata": {},
     "output_type": "display_data"
    },
    {
     "name": "stderr",
     "output_type": "stream",
     "text": [
      "LR finder stopped early after 1167 steps due to diverging loss.\n",
      "Failed to compute suggestion for learning rate because there are not enough points. Increase the loop iteration limits or the size of your dataset/dataloader.\n",
      "Restoring states from the checkpoint path at /home/course/ProteinStabilityNN/.lr_find_efa76a30-2534-49ee-969a-8ff02c58d65d.ckpt\n",
      "Restored all states from the checkpoint at /home/course/ProteinStabilityNN/.lr_find_efa76a30-2534-49ee-969a-8ff02c58d65d.ckpt\n"
     ]
    },
    {
     "data": {
      "application/vnd.jupyter.widget-view+json": {
       "model_id": "",
       "version_major": 2,
       "version_minor": 0
      },
      "text/plain": [
       "Validation: |                                             | 0/? [00:00<?, ?it/s]"
      ]
     },
     "metadata": {},
     "output_type": "display_data"
    },
    {
     "data": {
      "application/vnd.jupyter.widget-view+json": {
       "model_id": "",
       "version_major": 2,
       "version_minor": 0
      },
      "text/plain": [
       "Validation: |                                             | 0/? [00:00<?, ?it/s]"
      ]
     },
     "metadata": {},
     "output_type": "display_data"
    },
    {
     "data": {
      "application/vnd.jupyter.widget-view+json": {
       "model_id": "",
       "version_major": 2,
       "version_minor": 0
      },
      "text/plain": [
       "Validation: |                                             | 0/? [00:00<?, ?it/s]"
      ]
     },
     "metadata": {},
     "output_type": "display_data"
    },
    {
     "data": {
      "application/vnd.jupyter.widget-view+json": {
       "model_id": "",
       "version_major": 2,
       "version_minor": 0
      },
      "text/plain": [
       "Validation: |                                             | 0/? [00:00<?, ?it/s]"
      ]
     },
     "metadata": {},
     "output_type": "display_data"
    },
    {
     "data": {
      "application/vnd.jupyter.widget-view+json": {
       "model_id": "",
       "version_major": 2,
       "version_minor": 0
      },
      "text/plain": [
       "Validation: |                                             | 0/? [00:00<?, ?it/s]"
      ]
     },
     "metadata": {},
     "output_type": "display_data"
    },
    {
     "data": {
      "application/vnd.jupyter.widget-view+json": {
       "model_id": "4dfa0a4b8281411494ed5dd843d91a45",
       "version_major": 2,
       "version_minor": 0
      },
      "text/plain": [
       "Finding best initial lr:   0%|          | 0/100 [00:00<?, ?it/s]"
      ]
     },
     "metadata": {},
     "output_type": "display_data"
    },
    {
     "name": "stderr",
     "output_type": "stream",
     "text": [
      "LR finder stopped early after 2362 steps due to diverging loss.\n",
      "Failed to compute suggestion for learning rate because there are not enough points. Increase the loop iteration limits or the size of your dataset/dataloader.\n",
      "Restoring states from the checkpoint path at /home/course/ProteinStabilityNN/.lr_find_2b1a82b8-b555-41d0-8b56-0f140ef685ee.ckpt\n",
      "Restored all states from the checkpoint at /home/course/ProteinStabilityNN/.lr_find_2b1a82b8-b555-41d0-8b56-0f140ef685ee.ckpt\n"
     ]
    },
    {
     "data": {
      "application/vnd.jupyter.widget-view+json": {
       "model_id": "",
       "version_major": 2,
       "version_minor": 0
      },
      "text/plain": [
       "Validation: |                                             | 0/? [00:00<?, ?it/s]"
      ]
     },
     "metadata": {},
     "output_type": "display_data"
    },
    {
     "data": {
      "application/vnd.jupyter.widget-view+json": {
       "model_id": "",
       "version_major": 2,
       "version_minor": 0
      },
      "text/plain": [
       "Validation: |                                             | 0/? [00:00<?, ?it/s]"
      ]
     },
     "metadata": {},
     "output_type": "display_data"
    },
    {
     "data": {
      "application/vnd.jupyter.widget-view+json": {
       "model_id": "",
       "version_major": 2,
       "version_minor": 0
      },
      "text/plain": [
       "Validation: |                                             | 0/? [00:00<?, ?it/s]"
      ]
     },
     "metadata": {},
     "output_type": "display_data"
    },
    {
     "data": {
      "application/vnd.jupyter.widget-view+json": {
       "model_id": "",
       "version_major": 2,
       "version_minor": 0
      },
      "text/plain": [
       "Validation: |                                             | 0/? [00:00<?, ?it/s]"
      ]
     },
     "metadata": {},
     "output_type": "display_data"
    },
    {
     "data": {
      "application/vnd.jupyter.widget-view+json": {
       "model_id": "",
       "version_major": 2,
       "version_minor": 0
      },
      "text/plain": [
       "Validation: |                                             | 0/? [00:00<?, ?it/s]"
      ]
     },
     "metadata": {},
     "output_type": "display_data"
    },
    {
     "data": {
      "application/vnd.jupyter.widget-view+json": {
       "model_id": "",
       "version_major": 2,
       "version_minor": 0
      },
      "text/plain": [
       "Validation: |                                             | 0/? [00:00<?, ?it/s]"
      ]
     },
     "metadata": {},
     "output_type": "display_data"
    },
    {
     "data": {
      "application/vnd.jupyter.widget-view+json": {
       "model_id": "",
       "version_major": 2,
       "version_minor": 0
      },
      "text/plain": [
       "Validation: |                                             | 0/? [00:00<?, ?it/s]"
      ]
     },
     "metadata": {},
     "output_type": "display_data"
    },
    {
     "data": {
      "application/vnd.jupyter.widget-view+json": {
       "model_id": "",
       "version_major": 2,
       "version_minor": 0
      },
      "text/plain": [
       "Validation: |                                             | 0/? [00:00<?, ?it/s]"
      ]
     },
     "metadata": {},
     "output_type": "display_data"
    },
    {
     "data": {
      "application/vnd.jupyter.widget-view+json": {
       "model_id": "",
       "version_major": 2,
       "version_minor": 0
      },
      "text/plain": [
       "Validation: |                                             | 0/? [00:00<?, ?it/s]"
      ]
     },
     "metadata": {},
     "output_type": "display_data"
    },
    {
     "data": {
      "application/vnd.jupyter.widget-view+json": {
       "model_id": "",
       "version_major": 2,
       "version_minor": 0
      },
      "text/plain": [
       "Validation: |                                             | 0/? [00:00<?, ?it/s]"
      ]
     },
     "metadata": {},
     "output_type": "display_data"
    },
    {
     "name": "stderr",
     "output_type": "stream",
     "text": [
      "`Trainer.fit` stopped: `max_epochs=20` reached.\n"
     ]
    }
   ],
   "source": [
    "# train model\n",
    "########## TODO #############\n",
    "# instantiate lightning model with the cnn_model and learning_rate=1e-3\n",
    "model = LitMRIModel(cnn_model, learning_rate=1e-3)\n",
    "############################\n",
    "\n",
    "# instantiate the lightning trainer \n",
    "trainer = L.Trainer(max_epochs=20, log_every_n_steps=1)#, callbacks=[FineTuneLearningRateFinder(milestones=(5, 10))])\n",
    "# train\n",
    "trainer.fit(model, dataloader_train, dataloader_val)\n"
   ]
  },
  {
   "cell_type": "code",
   "execution_count": 336,
   "id": "3f7dfd36-6ff9-484a-a88d-565234aa240b",
   "metadata": {
    "tags": []
   },
   "outputs": [
    {
     "name": "stderr",
     "output_type": "stream",
     "text": [
      "LOCAL_RANK: 0 - CUDA_VISIBLE_DEVICES: [0]\n"
     ]
    },
    {
     "data": {
      "application/vnd.jupyter.widget-view+json": {
       "model_id": "2d298db834a943e39baf4ccb79fc5fcb",
       "version_major": 2,
       "version_minor": 0
      },
      "text/plain": [
       "Validation: |                                             | 0/? [00:00<?, ?it/s]"
      ]
     },
     "metadata": {},
     "output_type": "display_data"
    },
    {
     "name": "stdout",
     "output_type": "stream",
     "text": [
      "────────────────────────────────────────────────────────────────────────────────────────────────────────────────────────\n",
      "     Validate metric           DataLoader 0\n",
      "────────────────────────────────────────────────────────────────────────────────────────────────────────────────────────\n",
      "        val_loss            0.8789405822753906\n",
      "────────────────────────────────────────────────────────────────────────────────────────────────────────────────────────\n"
     ]
    },
    {
     "data": {
      "text/plain": [
       "[{'val_loss': 0.8789405822753906}]"
      ]
     },
     "execution_count": 336,
     "metadata": {},
     "output_type": "execute_result"
    }
   ],
   "source": [
    "# Test the model on the validation set\n",
    "trainer.validate(model, dataloader_val)"
   ]
  },
  {
   "cell_type": "code",
   "execution_count": 343,
   "id": "3147389a-f8f2-42f3-a710-8e68c513376b",
   "metadata": {
    "tags": []
   },
   "outputs": [
    {
     "name": "stdout",
     "output_type": "stream",
     "text": [
      "RMSE: 0.87548536\n",
      "Pearson r: PearsonRResult(statistic=0.34121393440050096, pvalue=0.0)\n",
      "Spearman r: SignificanceResult(statistic=0.3055920224701103, pvalue=0.0)\n"
     ]
    },
    {
     "data": {
      "image/png": "[encoded data removed]",
      "text/plain": [
       "<Figure size 640x480 with 1 Axes>"
      ]
     },
     "metadata": {},
     "output_type": "display_data"
    }
   ],
   "source": [
    "preds =[]\n",
    "all_y = []\n",
    "\n",
    "for batch in dataloader_val:\n",
    "    # read from batch\n",
    "    x = batch[\"sequence\"][0]\n",
    "    mask = batch[\"mask\"][0]\n",
    "    target = batch[\"labels\"][0]\n",
    "    ## adjust to work with your model\n",
    "    # predict\n",
    "    prediction = cnn_model(x)\n",
    "    preds.append(prediction[mask==1].flatten().detach().numpy()) # flatten to create one dimensional vector from 2D sequence\n",
    "    all_y.append(target[mask==1].flatten().detach().numpy()) # flatten to create one dimensional vector from 2D sequence\n",
    "\n",
    "# concatenate and plot\n",
    "preds= np.concatenate(preds)\n",
    "all_y = np.concatenate(all_y)\n",
    "\n",
    "sns.regplot(x=preds,y=all_y)\n",
    "plt.xlabel(\"Predicted ddG\")\n",
    "plt.ylabel(\"Measured ddG\")\n",
    "\n",
    "# get RMSE, Pearson and Spearman correlation \n",
    "print(\"RMSE:\", skmetrics.mean_squared_error(all_y, preds, squared=False))\n",
    "print(\"Pearson r:\", scipy.stats.pearsonr(preds, all_y))\n",
    "print(\"Spearman r:\", scipy.stats.spearmanr(preds, all_y))"
   ]
  },
  {
   "cell_type": "code",
   "execution_count": null,
   "id": "4c9e077a-4555-46f0-a2ff-77bf518c4a7b",
   "metadata": {},
   "outputs": [],
   "source": []
  },
  {
   "cell_type": "code",
   "execution_count": null,
   "id": "454de8d1-5993-43b6-be8a-ff03e4fdf275",
   "metadata": {},
   "outputs": [],
   "source": []
  },
  {
   "cell_type": "code",
   "execution_count": null,
   "id": "47c8e0c3-7772-4b78-874d-17af058310e8",
   "metadata": {},
   "outputs": [],
   "source": []
  },
  {
   "cell_type": "code",
   "execution_count": null,
   "id": "b5ee2f7b-d643-4b71-8440-5137bb709280",
   "metadata": {},
   "outputs": [],
   "source": []
  },
  {
   "cell_type": "code",
   "execution_count": null,
   "id": "39abd41b-ba43-4ed4-b08b-87c99eaebb40",
   "metadata": {},
   "outputs": [],
   "source": []
  },
  {
   "cell_type": "code",
   "execution_count": null,
   "id": "715d353b-1124-4987-9486-2e40d21378f7",
   "metadata": {},
   "outputs": [],
   "source": []
  },
  {
   "cell_type": "code",
   "execution_count": null,
   "id": "3c147f0b-bf2e-4bb5-8bfa-ac11d12d8374",
   "metadata": {},
   "outputs": [],
   "source": []
  },
  {
   "cell_type": "code",
   "execution_count": null,
   "id": "2668f214-7695-4762-8f56-dc5121749bc7",
   "metadata": {},
   "outputs": [],
   "source": []
  },
  {
   "cell_type": "code",
   "execution_count": null,
   "id": "853a48b0-d705-4bc1-a954-c35977f3b10a",
   "metadata": {},
   "outputs": [],
   "source": []
  },
  {
   "cell_type": "code",
   "execution_count": null,
   "id": "6bd2faa3-afeb-490b-b110-e8da4180473d",
   "metadata": {},
   "outputs": [],
   "source": []
  },
  {
   "cell_type": "code",
   "execution_count": null,
   "id": "add49fc8-ddd0-4c0a-b321-46adf9616435",
   "metadata": {},
   "outputs": [],
   "source": []
  },
  {
   "cell_type": "code",
   "execution_count": null,
   "id": "b7ff8bd9-aa22-492d-8e43-189345c8c27a",
   "metadata": {},
   "outputs": [],
   "source": []
  },
  {
   "cell_type": "code",
   "execution_count": null,
   "id": "29ce8e6d-003c-42c7-8a5b-64a57a17c762",
   "metadata": {},
   "outputs": [],
   "source": []
  },
  {
   "cell_type": "code",
   "execution_count": null,
   "id": "f347cf5f-482c-4570-a3a8-4e6132b5fdb7",
   "metadata": {},
   "outputs": [],
   "source": []
  }
 ],
 "metadata": {
  "kernelspec": {
   "display_name": "Python 3 (ipykernel)",
   "language": "python",
   "name": "python3"
  },
  "language_info": {
   "codemirror_mode": {
    "name": "ipython",
    "version": 3
   },
   "file_extension": ".py",
   "mimetype": "text/x-python",
   "name": "python",
   "nbconvert_exporter": "python",
   "pygments_lexer": "ipython3",
   "version": "3.11.5"
  }
 },
 "nbformat": 4,
 "nbformat_minor": 5
}
