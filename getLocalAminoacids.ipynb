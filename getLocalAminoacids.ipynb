{
 "cells": [
  {
   "cell_type": "code",
   "execution_count": 7,
   "metadata": {
    "tags": []
   },
   "outputs": [
    {
     "name": "stdout",
     "output_type": "stream",
     "text": [
      "Collecting lightning\n",
      "  Downloading lightning-2.2.0.post0-py3-none-any.whl.metadata (56 kB)\n",
      "     ---------------------------------------- 0.0/56.8 kB ? eta -:--:--\n",
      "     ---------------------------------------- 56.8/56.8 kB 2.9 MB/s eta 0:00:00\n",
      "Requirement already satisfied: PyYAML<8.0,>=5.4 in c:\\users\\chtim\\appdata\\local\\programs\\python\\python311\\lib\\site-packages (from lightning) (6.0.1)\n",
      "Requirement already satisfied: fsspec<2025.0,>=2022.5.0 in c:\\users\\chtim\\appdata\\local\\programs\\python\\python311\\lib\\site-packages (from fsspec[http]<2025.0,>=2022.5.0->lightning) (2024.2.0)\n",
      "Requirement already satisfied: lightning-utilities<2.0,>=0.8.0 in c:\\users\\chtim\\appdata\\local\\programs\\python\\python311\\lib\\site-packages (from lightning) (0.10.1)\n",
      "Requirement already satisfied: numpy<3.0,>=1.17.2 in c:\\users\\chtim\\appdata\\local\\programs\\python\\python311\\lib\\site-packages (from lightning) (1.23.4)\n",
      "Requirement already satisfied: packaging<25.0,>=20.0 in c:\\users\\chtim\\appdata\\local\\programs\\python\\python311\\lib\\site-packages (from lightning) (23.1)\n",
      "Requirement already satisfied: torch<4.0,>=1.13.0 in c:\\users\\chtim\\appdata\\local\\programs\\python\\python311\\lib\\site-packages (from lightning) (2.2.1)\n",
      "Requirement already satisfied: torchmetrics<3.0,>=0.7.0 in c:\\users\\chtim\\appdata\\local\\programs\\python\\python311\\lib\\site-packages (from lightning) (1.3.1)\n",
      "Requirement already satisfied: tqdm<6.0,>=4.57.0 in c:\\users\\chtim\\appdata\\local\\programs\\python\\python311\\lib\\site-packages (from lightning) (4.64.1)\n",
      "Requirement already satisfied: typing-extensions<6.0,>=4.4.0 in c:\\users\\chtim\\appdata\\local\\programs\\python\\python311\\lib\\site-packages (from lightning) (4.8.0)\n",
      "Requirement already satisfied: pytorch-lightning in c:\\users\\chtim\\appdata\\local\\programs\\python\\python311\\lib\\site-packages (from lightning) (2.2.0.post0)\n",
      "Requirement already satisfied: aiohttp!=4.0.0a0,!=4.0.0a1 in c:\\users\\chtim\\appdata\\local\\programs\\python\\python311\\lib\\site-packages (from fsspec[http]<2025.0,>=2022.5.0->lightning) (3.9.3)\n",
      "Requirement already satisfied: setuptools in c:\\users\\chtim\\appdata\\local\\programs\\python\\python311\\lib\\site-packages (from lightning-utilities<2.0,>=0.8.0->lightning) (65.5.1)\n",
      "Requirement already satisfied: filelock in c:\\users\\chtim\\appdata\\local\\programs\\python\\python311\\lib\\site-packages (from torch<4.0,>=1.13.0->lightning) (3.13.1)\n",
      "Requirement already satisfied: sympy in c:\\users\\chtim\\appdata\\local\\programs\\python\\python311\\lib\\site-packages (from torch<4.0,>=1.13.0->lightning) (1.12)\n",
      "Requirement already satisfied: networkx in c:\\users\\chtim\\appdata\\local\\programs\\python\\python311\\lib\\site-packages (from torch<4.0,>=1.13.0->lightning) (3.2.1)\n",
      "Requirement already satisfied: jinja2 in c:\\users\\chtim\\appdata\\local\\programs\\python\\python311\\lib\\site-packages (from torch<4.0,>=1.13.0->lightning) (3.1.2)\n",
      "Requirement already satisfied: colorama in c:\\users\\chtim\\appdata\\local\\programs\\python\\python311\\lib\\site-packages (from tqdm<6.0,>=4.57.0->lightning) (0.4.6)\n",
      "Requirement already satisfied: aiosignal>=1.1.2 in c:\\users\\chtim\\appdata\\local\\programs\\python\\python311\\lib\\site-packages (from aiohttp!=4.0.0a0,!=4.0.0a1->fsspec[http]<2025.0,>=2022.5.0->lightning) (1.3.1)\n",
      "Requirement already satisfied: attrs>=17.3.0 in c:\\users\\chtim\\appdata\\local\\programs\\python\\python311\\lib\\site-packages (from aiohttp!=4.0.0a0,!=4.0.0a1->fsspec[http]<2025.0,>=2022.5.0->lightning) (23.1.0)\n",
      "Requirement already satisfied: frozenlist>=1.1.1 in c:\\users\\chtim\\appdata\\local\\programs\\python\\python311\\lib\\site-packages (from aiohttp!=4.0.0a0,!=4.0.0a1->fsspec[http]<2025.0,>=2022.5.0->lightning) (1.4.1)\n",
      "Requirement already satisfied: multidict<7.0,>=4.5 in c:\\users\\chtim\\appdata\\local\\programs\\python\\python311\\lib\\site-packages (from aiohttp!=4.0.0a0,!=4.0.0a1->fsspec[http]<2025.0,>=2022.5.0->lightning) (6.0.5)\n",
      "Requirement already satisfied: yarl<2.0,>=1.0 in c:\\users\\chtim\\appdata\\local\\programs\\python\\python311\\lib\\site-packages (from aiohttp!=4.0.0a0,!=4.0.0a1->fsspec[http]<2025.0,>=2022.5.0->lightning) (1.9.4)\n",
      "Requirement already satisfied: MarkupSafe>=2.0 in c:\\users\\chtim\\appdata\\local\\programs\\python\\python311\\lib\\site-packages (from jinja2->torch<4.0,>=1.13.0->lightning) (2.0.1)\n",
      "Requirement already satisfied: mpmath>=0.19 in c:\\users\\chtim\\appdata\\local\\programs\\python\\python311\\lib\\site-packages (from sympy->torch<4.0,>=1.13.0->lightning) (1.3.0)\n",
      "Requirement already satisfied: idna>=2.0 in c:\\users\\chtim\\appdata\\local\\programs\\python\\python311\\lib\\site-packages (from yarl<2.0,>=1.0->aiohttp!=4.0.0a0,!=4.0.0a1->fsspec[http]<2025.0,>=2022.5.0->lightning) (2.10)\n",
      "Downloading lightning-2.2.0.post0-py3-none-any.whl (2.1 MB)\n",
      "   ---------------------------------------- 0.0/2.1 MB ? eta -:--:--\n",
      "   -------- ------------------------------- 0.5/2.1 MB 14.2 MB/s eta 0:00:01\n",
      "   ---------------------------- ----------- 1.5/2.1 MB 18.5 MB/s eta 0:00:01\n",
      "   ---------------------------------------- 2.1/2.1 MB 16.3 MB/s eta 0:00:00\n",
      "Installing collected packages: lightning\n",
      "Successfully installed lightning-2.2.0.post0\n",
      "Note: you may need to restart the kernel to use updated packages.\n"
     ]
    }
   ],
   "source": [
    "#%pip install biopython\n",
    "#%pip install scikit-learn\n",
    "#%pip install pandas\n",
    "#%pip install numpy\n",
    "#%pip install torch\n",
    "#%pip install torchmetrics\n",
    "%pip install lightning"
   ]
  },
  {
   "cell_type": "code",
   "execution_count": 9,
   "metadata": {
    "tags": []
   },
   "outputs": [],
   "source": [
    "import os \n",
    "import numpy as np\n",
    "import pandas as pd\n",
    "import scipy\n",
    "import sklearn.metrics as skmetrics\n",
    "\n",
    "# plotting\n",
    "import matplotlib.pyplot as plt\n",
    "import seaborn as sns\n",
    "\n",
    "# Pytorch\n",
    "import torch\n",
    "import torch.nn as nn\n",
    "import torch.nn.functional as F\n",
    "import torch.optim as optim\n",
    "from torch.utils.data import DataLoader, Dataset\n",
    "import lightning as L\n",
    "\n",
    "import torchmetrics\n",
    "from torchmetrics.regression import PearsonCorrCoef"
   ]
  },
  {
   "cell_type": "code",
   "execution_count": null,
   "metadata": {},
   "outputs": [],
   "source": [
    "dataset_train.df"
   ]
  },
  {
   "cell_type": "code",
   "execution_count": 57,
   "metadata": {
    "tags": []
   },
   "outputs": [],
   "source": [
    "from Bio.PDB import PDBList, PDBParser, MMCIFParser\n",
    "\n",
    "def downloadStructure(name):\n",
    "    pdb_id = name\n",
    "\n",
    "    pdb_file = PDBList().retrieve_pdb_file(pdb_id)\n",
    "\n",
    "    return MMCIFParser().get_structure(pdb_id, pdb_file)\n"
   ]
  },
  {
   "cell_type": "code",
   "execution_count": 29,
   "metadata": {
    "tags": []
   },
   "outputs": [],
   "source": [
    "from Bio.PDB import NeighborSearch\n",
    "from Bio.Data.IUPACData import protein_letters_3to1\n",
    "\n",
    "def removeHeteroatoms(structure):\n",
    "    model = structure[0]\n",
    "    chains = model.get_chains()\n",
    "    chain = next(iter(chains))\n",
    "    residues = chain.get_residues()\n",
    "    #print(next(iter(residues)))\n",
    "\n",
    "    #remove all heteroatoms from chain\n",
    "    heteroatoms = []\n",
    "    for residue in chain:\n",
    "        if(residue.id[0] != ' '):\n",
    "            #remove residue from chain\n",
    "            heteroatoms.append(residue.id)\n",
    "\n",
    "    for heteroatom in heteroatoms:\n",
    "        chain.detach_child(heteroatom)\n",
    "\n",
    "    names = []\n",
    "    #print all residues\n",
    "    for residue in chain:\n",
    "        names.append(residue.get_resname())\n",
    "\n",
    "    string = ''.join([protein_letters_3to1[aa.get_resname()[0]+aa.get_resname()[1:].lower()] for aa in chain])\n",
    "\n",
    "    return chain, string\n"
   ]
  },
  {
   "cell_type": "code",
   "execution_count": null,
   "metadata": {
    "tags": []
   },
   "outputs": [],
   "source": []
  },
  {
   "cell_type": "code",
   "execution_count": 30,
   "metadata": {
    "tags": []
   },
   "outputs": [
    {
     "data": {
      "text/plain": [
       "'SPEVQIAILTEQINNLNEHLRVHKKDHHSRRGLLKMVGKRRRLLAYLRNKDVARYREIVEKLG'"
      ]
     },
     "execution_count": 30,
     "metadata": {},
     "output_type": "execute_result"
    }
   ],
   "source": [
    "dataset_train.df[\"wt_seq\"][0][0]"
   ]
  },
  {
   "cell_type": "code",
   "execution_count": 91,
   "metadata": {
    "tags": []
   },
   "outputs": [],
   "source": [
    "import numpy as np\n",
    "from Bio.Data.IUPACData import protein_letters_3to1\n",
    "\n",
    "def getNClosestAAs(chain, index, nClosestAAs = 10, maxRadius = 20.0):\n",
    "    #distance matix\n",
    "    # Create a list of all atoms in the structure\n",
    "    atoms = [atom for atom in chain.get_atoms()]\n",
    "    \n",
    "    # Create a NeighborSearch object\n",
    "    ns = NeighborSearch(atoms)\n",
    "\n",
    "    residue = chain[index]\n",
    "\n",
    "    # Calculate the distance between the residues\n",
    "    neighbors = ns.search(residue[\"CA\"].coord, level=\"R\", radius=maxRadius)\n",
    "    distances = [(protein_letters_3to1[aa.get_resname()[0]+aa.get_resname()[1:].lower()], residue[\"CA\"]-aa[\"CA\"]) for aa in neighbors]\n",
    "    #sort by distance\n",
    "    distances.sort(key=lambda x: x[1])\n",
    "    # Ensure distance is always nClosestAAs large, if too short, fill with 0\n",
    "    if len(distances) < nClosestAAs:\n",
    "        distances.extend([(\"0\", 0)] * (nClosestAAs - len(distances)))\n",
    "    else:\n",
    "        distances = distances[:nClosestAAs]\n",
    "\n",
    "    return distances\n",
    "\n",
    "\n"
   ]
  },
  {
   "cell_type": "code",
   "execution_count": 194,
   "metadata": {},
   "outputs": [],
   "source": [
    "aa_alphabet = 'ACDEFGHIKLMNPQRSTVWY' # amino acid alphabet\n",
    "aa_to_int = {aa: i for i, aa in enumerate(aa_alphabet)} # mapping from amino acid to number\n",
    "\n",
    "def one_hot_encode(sequence):\n",
    "    # initialize a zero matrix of shape (len(sequence), len(amino_acids))\n",
    "    one_hot = torch.zeros(len(sequence), len(aa_alphabet))\n",
    "    if sequence != \"0\":\n",
    "        for i, aa in enumerate(sequence):\n",
    "            # set the column corresponding to the amino acid to 1\n",
    "            one_hot[i].scatter_(0, torch.tensor([aa_to_int[aa]]), 1)\n",
    "    return one_hot"
   ]
  },
  {
   "cell_type": "code",
   "execution_count": 144,
   "metadata": {},
   "outputs": [
    {
     "data": {
      "text/plain": [
       "'S1Q'"
      ]
     },
     "execution_count": 144,
     "metadata": {},
     "output_type": "execute_result"
    }
   ],
   "source": [
    "dataset_train.df[\"mut_type\"][0][19*0+0]\n",
    "#dataset_train.df[\"mut_type\"][0][1194], dataset_train.df[\"mut_type\"][0][-1]\n"
   ]
  },
  {
   "cell_type": "code",
   "execution_count": 205,
   "metadata": {
    "tags": []
   },
   "outputs": [],
   "source": [
    "def getTensorFromProtein(proteinName, wt_seq, mut_types, nClosestAAs = 5):\n",
    "\n",
    "    ###for each protein\n",
    "    structure = downloadStructure(proteinName[:4])\n",
    "\n",
    "    chain, string = removeHeteroatoms(structure)\n",
    "\n",
    "    print(removeHeteroatoms(structure))\n",
    "    #wt_seq = dataset_train.df[\"wt_seq\"][0][proteinIndex]\n",
    "\n",
    "    matching = (string.find(wt_seq),string.find(wt_seq)+len(wt_seq))\n",
    "    print(matching)\n",
    "\n",
    "\n",
    "\n",
    "\n",
    "    \n",
    "\n",
    "    #amount of proteins, len of matching sequence, amount of amino acids, amount of closest AAs, one hot encoding of amino acid + distance\n",
    "    #len(wt_seq), len(aa_alphabet)\n",
    "    aaDistances = np.zeros((matching[1]-matching[0]+1, len(aa_alphabet), nClosestAAs, len(aa_alphabet)+1))\n",
    "\n",
    "    # Iterate over each residue in the chain\n",
    "    #for index, residue in enumerate(chain):\n",
    "    for residueIndex in range(len(wt_seq)):#matching[1]-matching[0]):\n",
    "        distances = getNClosestAAs(chain, matching[0]+residueIndex, nClosestAAs = nClosestAAs)\n",
    "\n",
    "\n",
    "\n",
    "\n",
    "        #change wt residue to mutation\n",
    "        for mutationIndex in range((len(aa_alphabet)-1)-2): #19 because 20 amino acids, -1 because wt is already in the list\n",
    "                ###for each mutation\n",
    "                #print(residueIndex*(len(aa_alphabet)-1)+mutationIndex)\n",
    "                mut_type = mut_types[residueIndex*(len(aa_alphabet)-1)+mutationIndex]\n",
    "                mutation_pos = mut_type[1:-1]\n",
    "                #print(\"mut_type:\" + str(mut_type))\n",
    "                #print(\"mutation_pos:\" + str(mutation_pos))\n",
    "                #print(mut_type)\n",
    "                newDist = distances\n",
    "                newDist[0] = (mut_type[-1], 0.0) #mutated AA, distance to itself is 0\n",
    "\n",
    "                for idx, aa in enumerate(newDist):\n",
    "                    #print(aa[0],aa[1])\n",
    "                    #print(proteinIndex,residueIndex,mutationIndex,idx)\n",
    "                    aaDistances[residueIndex][mutationIndex][idx] = np.append(one_hot_encode(aa[0]),aa[1])\n",
    "                #for idx, distance in enumerate(distances):\n",
    "                    \n",
    "        #aaDistances[residueIndex] = [np.append(one_hot_encode(aa[0]),aa[1]) for aa in distances]\n",
    "        \n",
    "    #print(distances, len(distances))\n",
    "    return aaDistances"
   ]
  },
  {
   "cell_type": "code",
   "execution_count": 196,
   "metadata": {},
   "outputs": [],
   "source": [
    "#torch.from_numpy(aaDistances)"
   ]
  },
  {
   "cell_type": "code",
   "execution_count": null,
   "metadata": {},
   "outputs": [],
   "source": []
  },
  {
   "cell_type": "code",
   "execution_count": 213,
   "metadata": {
    "tags": []
   },
   "outputs": [],
   "source": [
    "\n",
    "\n",
    "# sequence data, comes already batched, so treat accordingly in dataloader (batch_size=1)\n",
    "class SequenceData(Dataset):\n",
    "    def __init__(self, csv_file, label_col=\"ddG_ML\"):\n",
    "        \"\"\"\n",
    "        Initializes the dataset. \n",
    "        input:\n",
    "            csv_file: path to the relevant data file, eg. \"/home/data/mega_train.csv\"\n",
    "        \"\"\"\n",
    "        \n",
    "        self.min_size = 72\n",
    "        \n",
    "        self.df = pd.read_csv(csv_file, sep=\",\")\n",
    "        self.label_col = label_col\n",
    "        # only have mutation rows\n",
    "        self.df = self.df[self.df.mut_type!=\"wt\"]\n",
    "        # process the mutation row\n",
    "        self.df[\"mutation_pos\"] = self.df[\"mut_type\"].apply(lambda x: int(x[1:-1])-1) # make position start at zero\n",
    "        self.df[\"mutation_to\"] = self.df[\"mut_type\"].apply(lambda x: aa_to_int[x[-1]]) # give numerical label to mutation\n",
    "\n",
    "        # group by wild type\n",
    "        self.df = self.df.groupby(\"WT_name\").agg(list)\n",
    "        # get wild type names\n",
    "        self.wt_names = self.df.index.values\n",
    "        # precompute one-hot encoding for faster training\n",
    "        self.encoded_seqs = {}\n",
    "        for wt_name in self.wt_names:\n",
    "            # get the correct row\n",
    "            mut_row = self.df.loc[wt_name]\n",
    "            seq = mut_row[\"wt_seq\"][0]\n",
    "            self.encoded_seqs[wt_name] = one_hot_encode(seq)\n",
    "            for i in range(self.min_size-len(self.encoded_seqs[wt_name])):\n",
    "                #print(wt_name, i)\n",
    "                self.encoded_seqs[wt_name] = torch.cat((self.encoded_seqs[wt_name], one_hot_encode(\"0\")),0)\n",
    "                \n",
    "\n",
    "    def __len__(self):\n",
    "        return len(self.df)\n",
    "\n",
    "    def __getitem__(self, idx): #one batch = one protein\n",
    "        # get the wild type name\n",
    "        wt_name = self.wt_names[idx]\n",
    "        # get the correct row\n",
    "        mut_row = self.df.loc[wt_name]\n",
    "        # get the wt sequence in one hot encoding\n",
    "        #sequence_encoding = self.encoded_seqs[wt_name]\n",
    "\n",
    "        # create mask and target tensors\n",
    "        #mask = torch.zeros((1, len(sequence_encoding),20)) # will be 1 where we have a measurement\n",
    "        #target = torch.zeros((1, len(sequence_encoding),20)) # ddg values\n",
    "        # all mutations from df\n",
    "        #positions = torch.tensor(mut_row[\"mutation_pos\"])\n",
    "        #amino_acids = torch.tensor(mut_row[\"mutation_to\"])\n",
    "        # get the labels\n",
    "        labels = torch.tensor(mut_row[self.label_col])\n",
    "\n",
    "        #for i in range(len(sequence_encoding)):\n",
    "        #    mask[0,i,amino_acids[positions==i]] = 1 # one where we have data\n",
    "        #    target[0,i,amino_acids[positions==i]] = labels[positions==i] # fill with ddG values\n",
    "        \n",
    "        # returns encoded sequence, mask and target sequence \n",
    "        wt_seq = self.df[\"wt_seq\"][idx][0]\n",
    "        mut_type = self.df[\"mut_type\"][idx]\n",
    "        nClosest = 5\n",
    "        tensorLabels = torch.empty((len(wt_seq), len(aa_alphabet)))\n",
    "\n",
    "        labelIndex = 0\n",
    "        for label in labels:\n",
    "            #TODO labelIndex is not correct\n",
    "            tensorLabels[labelIndex][labelIndex] = torch.full((nClosest, len(aa_alphabet)+1), label)\n",
    "            labelIndex += 1\n",
    "        \n",
    "        return {\"sequence\": getTensorFromProtein(wt_name,wt_seq,mut_type,nClosestAAs=nClosest), \"labels\": tensorLabels}"
   ]
  },
  {
   "cell_type": "code",
   "execution_count": 215,
   "metadata": {
    "tags": []
   },
   "outputs": [],
   "source": [
    "# usage\n",
    "dataset_train = SequenceData('project_data/project_data/mega_train.csv')\n",
    "dataset_val= SequenceData('project_data/project_data/mega_val.csv')\n",
    "dataset_test = SequenceData('project_data/project_data/mega_test.csv')\n",
    "\n",
    "# use batch_size=1 bc we treat each sequence as one batch\n",
    "dataloader_val = DataLoader(dataset_val, batch_size=1, shuffle=False)\n",
    "dataloader_train = DataLoader(dataset_train, batch_size=1, shuffle=True)\n",
    "dataloader_test = DataLoader(dataset_test, batch_size=1, shuffle=False)"
   ]
  },
  {
   "cell_type": "code",
   "execution_count": 216,
   "metadata": {},
   "outputs": [
    {
     "ename": "RuntimeError",
     "evalue": "expand(torch.FloatTensor{[5, 21]}, size=[20]): the number of sizes provided (1) must be greater or equal to the number of dimensions in the tensor (2)",
     "output_type": "error",
     "traceback": [
      "\u001b[1;31m---------------------------------------------------------------------------\u001b[0m",
      "\u001b[1;31mRuntimeError\u001b[0m                              Traceback (most recent call last)",
      "Cell \u001b[1;32mIn[216], line 1\u001b[0m\n\u001b[1;32m----> 1\u001b[0m \u001b[43mdataset_train\u001b[49m\u001b[38;5;241;43m.\u001b[39;49m\u001b[38;5;21;43m__getitem__\u001b[39;49m\u001b[43m(\u001b[49m\u001b[38;5;241;43m2\u001b[39;49m\u001b[43m)\u001b[49m\n",
      "Cell \u001b[1;32mIn[213], line 68\u001b[0m, in \u001b[0;36mSequenceData.__getitem__\u001b[1;34m(self, idx)\u001b[0m\n\u001b[0;32m     66\u001b[0m labelIndex \u001b[38;5;241m=\u001b[39m \u001b[38;5;241m0\u001b[39m\n\u001b[0;32m     67\u001b[0m \u001b[38;5;28;01mfor\u001b[39;00m label \u001b[38;5;129;01min\u001b[39;00m labels:\n\u001b[1;32m---> 68\u001b[0m     \u001b[43mtensorLabels\u001b[49m\u001b[43m[\u001b[49m\u001b[43mlabelIndex\u001b[49m\u001b[43m]\u001b[49m \u001b[38;5;241m=\u001b[39m torch\u001b[38;5;241m.\u001b[39mfull((nClosest, \u001b[38;5;28mlen\u001b[39m(aa_alphabet)\u001b[38;5;241m+\u001b[39m\u001b[38;5;241m1\u001b[39m), label)\n\u001b[0;32m     69\u001b[0m     labelIndex \u001b[38;5;241m+\u001b[39m\u001b[38;5;241m=\u001b[39m \u001b[38;5;241m1\u001b[39m\n\u001b[0;32m     71\u001b[0m \u001b[38;5;28;01mreturn\u001b[39;00m {\u001b[38;5;124m\"\u001b[39m\u001b[38;5;124msequence\u001b[39m\u001b[38;5;124m\"\u001b[39m: getTensorFromProtein(wt_name,wt_seq,mut_type,nClosestAAs\u001b[38;5;241m=\u001b[39mnClosest), \u001b[38;5;124m\"\u001b[39m\u001b[38;5;124mlabels\u001b[39m\u001b[38;5;124m\"\u001b[39m: tensorLabels}\n",
      "\u001b[1;31mRuntimeError\u001b[0m: expand(torch.FloatTensor{[5, 21]}, size=[20]): the number of sizes provided (1) must be greater or equal to the number of dimensions in the tensor (2)"
     ]
    }
   ],
   "source": [
    "dataset_train.__getitem__(2)"
   ]
  },
  {
   "cell_type": "code",
   "execution_count": null,
   "metadata": {},
   "outputs": [],
   "source": [
    "dataset_train.df[\"mut_type\"][1]"
   ]
  },
  {
   "cell_type": "code",
   "execution_count": 204,
   "metadata": {},
   "outputs": [
    {
     "name": "stdout",
     "output_type": "stream",
     "text": [
      "1195\n",
      "Structure exists: 'c:\\Users\\chtim\\Documents\\EigeneProjekte\\Programmieren\\Python\\ProteinStabilityNN\\a3\\1a32.cif' \n",
      "(<Chain id=A>, 'LTQERKREIIEQFKVHENDTGSPEVQIAILTEQINNLNEHLRVHKKDHHSRRGLLKMVGKRRRLLAYLRNKDVARYREIVEKLGL')\n",
      "(21, 84)\n"
     ]
    },
    {
     "name": "stderr",
     "output_type": "stream",
     "text": [
      "WARNING: The default download format has changed from PDB to PDBx/mmCif\n"
     ]
    },
    {
     "name": "stdout",
     "output_type": "stream",
     "text": [
      "134400\n"
     ]
    }
   ],
   "source": [
    "print(len(dataset_train.df.loc[\"1A32.pdb\"][\"ddG_ML\"]))\n",
    "print(getTensorFromProtein(\"1A32.pdb\", dataset_train.df[\"wt_seq\"][0][0], dataset_train.df[\"mut_type\"][0]).size)"
   ]
  },
  {
   "cell_type": "code",
   "execution_count": null,
   "metadata": {},
   "outputs": [],
   "source": []
  }
 ],
 "metadata": {
  "kernelspec": {
   "display_name": "Python 3 (ipykernel)",
   "language": "python",
   "name": "python3"
  },
  "language_info": {
   "codemirror_mode": {
    "name": "ipython",
    "version": 3
   },
   "file_extension": ".py",
   "mimetype": "text/x-python",
   "name": "python",
   "nbconvert_exporter": "python",
   "pygments_lexer": "ipython3",
   "version": "3.11.0"
  }
 },
 "nbformat": 4,
 "nbformat_minor": 4
}
