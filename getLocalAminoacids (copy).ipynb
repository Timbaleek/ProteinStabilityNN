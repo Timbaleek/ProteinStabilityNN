{
 "cells": [
  {
   "cell_type": "code",
   "execution_count": 7,
   "metadata": {
    "tags": []
   },
   "outputs": [
    {
     "name": "stdout",
     "output_type": "stream",
     "text": [
      "Collecting lightning\n",
      "  Downloading lightning-2.2.0.post0-py3-none-any.whl.metadata (56 kB)\n",
      "     ---------------------------------------- 0.0/56.8 kB ? eta -:--:--\n",
      "     ---------------------------------------- 56.8/56.8 kB 2.9 MB/s eta 0:00:00\n",
      "Requirement already satisfied: PyYAML<8.0,>=5.4 in c:\\users\\chtim\\appdata\\local\\programs\\python\\python311\\lib\\site-packages (from lightning) (6.0.1)\n",
      "Requirement already satisfied: fsspec<2025.0,>=2022.5.0 in c:\\users\\chtim\\appdata\\local\\programs\\python\\python311\\lib\\site-packages (from fsspec[http]<2025.0,>=2022.5.0->lightning) (2024.2.0)\n",
      "Requirement already satisfied: lightning-utilities<2.0,>=0.8.0 in c:\\users\\chtim\\appdata\\local\\programs\\python\\python311\\lib\\site-packages (from lightning) (0.10.1)\n",
      "Requirement already satisfied: numpy<3.0,>=1.17.2 in c:\\users\\chtim\\appdata\\local\\programs\\python\\python311\\lib\\site-packages (from lightning) (1.23.4)\n",
      "Requirement already satisfied: packaging<25.0,>=20.0 in c:\\users\\chtim\\appdata\\local\\programs\\python\\python311\\lib\\site-packages (from lightning) (23.1)\n",
      "Requirement already satisfied: torch<4.0,>=1.13.0 in c:\\users\\chtim\\appdata\\local\\programs\\python\\python311\\lib\\site-packages (from lightning) (2.2.1)\n",
      "Requirement already satisfied: torchmetrics<3.0,>=0.7.0 in c:\\users\\chtim\\appdata\\local\\programs\\python\\python311\\lib\\site-packages (from lightning) (1.3.1)\n",
      "Requirement already satisfied: tqdm<6.0,>=4.57.0 in c:\\users\\chtim\\appdata\\local\\programs\\python\\python311\\lib\\site-packages (from lightning) (4.64.1)\n",
      "Requirement already satisfied: typing-extensions<6.0,>=4.4.0 in c:\\users\\chtim\\appdata\\local\\programs\\python\\python311\\lib\\site-packages (from lightning) (4.8.0)\n",
      "Requirement already satisfied: pytorch-lightning in c:\\users\\chtim\\appdata\\local\\programs\\python\\python311\\lib\\site-packages (from lightning) (2.2.0.post0)\n",
      "Requirement already satisfied: aiohttp!=4.0.0a0,!=4.0.0a1 in c:\\users\\chtim\\appdata\\local\\programs\\python\\python311\\lib\\site-packages (from fsspec[http]<2025.0,>=2022.5.0->lightning) (3.9.3)\n",
      "Requirement already satisfied: setuptools in c:\\users\\chtim\\appdata\\local\\programs\\python\\python311\\lib\\site-packages (from lightning-utilities<2.0,>=0.8.0->lightning) (65.5.1)\n",
      "Requirement already satisfied: filelock in c:\\users\\chtim\\appdata\\local\\programs\\python\\python311\\lib\\site-packages (from torch<4.0,>=1.13.0->lightning) (3.13.1)\n",
      "Requirement already satisfied: sympy in c:\\users\\chtim\\appdata\\local\\programs\\python\\python311\\lib\\site-packages (from torch<4.0,>=1.13.0->lightning) (1.12)\n",
      "Requirement already satisfied: networkx in c:\\users\\chtim\\appdata\\local\\programs\\python\\python311\\lib\\site-packages (from torch<4.0,>=1.13.0->lightning) (3.2.1)\n",
      "Requirement already satisfied: jinja2 in c:\\users\\chtim\\appdata\\local\\programs\\python\\python311\\lib\\site-packages (from torch<4.0,>=1.13.0->lightning) (3.1.2)\n",
      "Requirement already satisfied: colorama in c:\\users\\chtim\\appdata\\local\\programs\\python\\python311\\lib\\site-packages (from tqdm<6.0,>=4.57.0->lightning) (0.4.6)\n",
      "Requirement already satisfied: aiosignal>=1.1.2 in c:\\users\\chtim\\appdata\\local\\programs\\python\\python311\\lib\\site-packages (from aiohttp!=4.0.0a0,!=4.0.0a1->fsspec[http]<2025.0,>=2022.5.0->lightning) (1.3.1)\n",
      "Requirement already satisfied: attrs>=17.3.0 in c:\\users\\chtim\\appdata\\local\\programs\\python\\python311\\lib\\site-packages (from aiohttp!=4.0.0a0,!=4.0.0a1->fsspec[http]<2025.0,>=2022.5.0->lightning) (23.1.0)\n",
      "Requirement already satisfied: frozenlist>=1.1.1 in c:\\users\\chtim\\appdata\\local\\programs\\python\\python311\\lib\\site-packages (from aiohttp!=4.0.0a0,!=4.0.0a1->fsspec[http]<2025.0,>=2022.5.0->lightning) (1.4.1)\n",
      "Requirement already satisfied: multidict<7.0,>=4.5 in c:\\users\\chtim\\appdata\\local\\programs\\python\\python311\\lib\\site-packages (from aiohttp!=4.0.0a0,!=4.0.0a1->fsspec[http]<2025.0,>=2022.5.0->lightning) (6.0.5)\n",
      "Requirement already satisfied: yarl<2.0,>=1.0 in c:\\users\\chtim\\appdata\\local\\programs\\python\\python311\\lib\\site-packages (from aiohttp!=4.0.0a0,!=4.0.0a1->fsspec[http]<2025.0,>=2022.5.0->lightning) (1.9.4)\n",
      "Requirement already satisfied: MarkupSafe>=2.0 in c:\\users\\chtim\\appdata\\local\\programs\\python\\python311\\lib\\site-packages (from jinja2->torch<4.0,>=1.13.0->lightning) (2.0.1)\n",
      "Requirement already satisfied: mpmath>=0.19 in c:\\users\\chtim\\appdata\\local\\programs\\python\\python311\\lib\\site-packages (from sympy->torch<4.0,>=1.13.0->lightning) (1.3.0)\n",
      "Requirement already satisfied: idna>=2.0 in c:\\users\\chtim\\appdata\\local\\programs\\python\\python311\\lib\\site-packages (from yarl<2.0,>=1.0->aiohttp!=4.0.0a0,!=4.0.0a1->fsspec[http]<2025.0,>=2022.5.0->lightning) (2.10)\n",
      "Downloading lightning-2.2.0.post0-py3-none-any.whl (2.1 MB)\n",
      "   ---------------------------------------- 0.0/2.1 MB ? eta -:--:--\n",
      "   -------- ------------------------------- 0.5/2.1 MB 14.2 MB/s eta 0:00:01\n",
      "   ---------------------------- ----------- 1.5/2.1 MB 18.5 MB/s eta 0:00:01\n",
      "   ---------------------------------------- 2.1/2.1 MB 16.3 MB/s eta 0:00:00\n",
      "Installing collected packages: lightning\n",
      "Successfully installed lightning-2.2.0.post0\n",
      "Note: you may need to restart the kernel to use updated packages.\n"
     ]
    }
   ],
   "source": [
    "#%pip install biopython\n",
    "#%pip install scikit-learn\n",
    "#%pip install pandas\n",
    "#%pip install numpy\n",
    "#%pip install torch\n",
    "#%pip install torchmetrics\n",
    "%pip install lightning"
   ]
  },
  {
   "cell_type": "code",
   "execution_count": 47,
   "metadata": {
    "tags": []
   },
   "outputs": [],
   "source": [
    "import os \n",
    "import numpy as np\n",
    "import pandas as pd\n",
    "import scipy\n",
    "import sklearn.metrics as skmetrics\n",
    "\n",
    "# plotting\n",
    "import matplotlib.pyplot as plt\n",
    "import seaborn as sns\n",
    "\n",
    "# Pytorch\n",
    "import torch\n",
    "import torch.nn as nn\n",
    "import torch.nn.functional as F\n",
    "import torch.optim as optim\n",
    "from torch.utils.data import DataLoader, Dataset\n",
    "import lightning as L\n",
    "\n",
    "import torchmetrics\n",
    "from torchmetrics.regression import PearsonCorrCoef"
   ]
  },
  {
   "cell_type": "code",
   "execution_count": null,
   "metadata": {
    "tags": []
   },
   "outputs": [],
   "source": [
    "dataset_train.df"
   ]
  },
  {
   "cell_type": "code",
   "execution_count": 49,
   "metadata": {
    "tags": []
   },
   "outputs": [],
   "source": [
    "from Bio.PDB import PDBList, PDBParser, MMCIFParser\n",
    "#PDBList().get_all_entries()\n",
    "\n",
    "def downloadStructure(name):\n",
    "    pdb_id = name\n",
    "\n",
    "    #check if file is available\n",
    "\n",
    "\n",
    "    pdb_file = PDBList().retrieve_pdb_file(pdb_id, file_format='mmCif', pdir=\"structures\")\n",
    "    \n",
    "    if not os.path.exists(pdb_file):\n",
    "        return None\n",
    "    \n",
    "    return MMCIFParser().get_structure(pdb_id, pdb_file)\n"
   ]
  },
  {
   "cell_type": "code",
   "execution_count": 50,
   "metadata": {
    "tags": []
   },
   "outputs": [],
   "source": [
    "from Bio.PDB import NeighborSearch\n",
    "from Bio.Data.IUPACData import protein_letters_3to1\n",
    "\n",
    "def removeHeteroatoms(structure):\n",
    "    model = structure[0]\n",
    "    chains = model.get_chains()\n",
    "    chain = next(iter(chains))\n",
    "    residues = chain.get_residues()\n",
    "    #print(next(iter(residues)))\n",
    "\n",
    "    #remove all heteroatoms from chain\n",
    "    heteroatoms = []\n",
    "    for residue in chain:\n",
    "        if(residue.id[0] != ' '):\n",
    "            #remove residue from chain\n",
    "            heteroatoms.append(residue.id)\n",
    "\n",
    "    for heteroatom in heteroatoms:\n",
    "        chain.detach_child(heteroatom)\n",
    "\n",
    "    names = []\n",
    "    #print all residues\n",
    "    for residue in chain:\n",
    "        names.append(residue.get_resname())\n",
    "\n",
    "    string = ''.join([protein_letters_3to1[aa.get_resname()[0]+aa.get_resname()[1:].lower()] for aa in chain])\n",
    "\n",
    "    return chain, string\n"
   ]
  },
  {
   "cell_type": "code",
   "execution_count": 51,
   "metadata": {
    "tags": []
   },
   "outputs": [],
   "source": [
    "#next(iter(next(iter(downloadStructure(\"1F0M\")[0].get_chains())).get_residues()))"
   ]
  },
  {
   "cell_type": "code",
   "execution_count": 52,
   "metadata": {
    "tags": []
   },
   "outputs": [
    {
     "data": {
      "text/plain": [
       "'SPEVQIAILTEQINNLNEHLRVHKKDHHSRRGLLKMVGKRRRLLAYLRNKDVARYREIVEKLG'"
      ]
     },
     "execution_count": 52,
     "metadata": {},
     "output_type": "execute_result"
    }
   ],
   "source": [
    "dataset_train.df[\"wt_seq\"][0][0]"
   ]
  },
  {
   "cell_type": "code",
   "execution_count": 53,
   "metadata": {
    "tags": []
   },
   "outputs": [],
   "source": [
    "import numpy as np\n",
    "from Bio.Data.IUPACData import protein_letters_3to1\n",
    "\n",
    "def getNClosestAAs(chain, index, nClosestAAs = 10, maxRadius = 20.0):\n",
    "    #distance matix\n",
    "    # Create a list of all atoms in the structure\n",
    "    atoms = [atom for atom in chain.get_atoms()]\n",
    "    \n",
    "    # Create a NeighborSearch object\n",
    "    ns = NeighborSearch(atoms)\n",
    "\n",
    "    #print(next(iter(chain)))\n",
    "    #print(\"get residue at index\", index)\n",
    "    try:\n",
    "        residue = chain[index+1] #because numbering starts at 1\n",
    "    except:\n",
    "        return None\n",
    "    #print(residue)\n",
    "\n",
    "    # Calculate the distance between the residues\n",
    "    neighbors = ns.search(residue[\"CA\"].coord, level=\"R\", radius=maxRadius)\n",
    "    distances = [(protein_letters_3to1[aa.get_resname()[0]+aa.get_resname()[1:].lower()], residue[\"CA\"]-aa[\"CA\"]) for aa in neighbors]\n",
    "    #sort by distance\n",
    "    distances.sort(key=lambda x: x[1])\n",
    "    # Ensure distance is always nClosestAAs large, if too short, fill with 0\n",
    "    if len(distances) < nClosestAAs:\n",
    "        distances.extend([(\"0\", 0)] * (nClosestAAs - len(distances)))\n",
    "    else:\n",
    "        distances = distances[:nClosestAAs]\n",
    "\n",
    "    return distances\n",
    "\n",
    "\n"
   ]
  },
  {
   "cell_type": "code",
   "execution_count": 54,
   "metadata": {
    "tags": []
   },
   "outputs": [],
   "source": [
    "aa_alphabet = 'ACDEFGHIKLMNPQRSTVWY' # amino acid alphabet\n",
    "aa_to_int = {aa: i for i, aa in enumerate(aa_alphabet)} # mapping from amino acid to number\n",
    "\n",
    "def one_hot_encode(sequence):\n",
    "    # initialize a zero matrix of shape (len(sequence), len(amino_acids))\n",
    "    one_hot = torch.zeros(len(sequence), len(aa_alphabet))\n",
    "    if sequence != \"0\":\n",
    "        for i, aa in enumerate(sequence):\n",
    "            # set the column corresponding to the amino acid to 1\n",
    "            one_hot[i].scatter_(0, torch.tensor([aa_to_int[aa]]), 1)\n",
    "    return one_hot"
   ]
  },
  {
   "cell_type": "code",
   "execution_count": 217,
   "metadata": {
    "tags": []
   },
   "outputs": [
    {
     "name": "stdout",
     "output_type": "stream",
     "text": [
      "Structure exists: 'structures/1ufm.cif' \n"
     ]
    },
    {
     "data": {
      "text/plain": [
       "<Residue GLY het=  resseq=289 icode= >"
      ]
     },
     "execution_count": 217,
     "metadata": {},
     "output_type": "execute_result"
    }
   ],
   "source": [
    "next(iter(downloadStructure(\"1UFM\")[0][\"A\"].get_residues()))"
   ]
  },
  {
   "cell_type": "code",
   "execution_count": 55,
   "metadata": {
    "tags": []
   },
   "outputs": [
    {
     "data": {
      "text/plain": [
       "'S1Q'"
      ]
     },
     "execution_count": 55,
     "metadata": {},
     "output_type": "execute_result"
    }
   ],
   "source": [
    "dataset_train.df[\"mut_type\"][0][19*0+0]\n",
    "#dataset_train.df[\"mut_type\"][0][1194], dataset_train.df[\"mut_type\"][0][-1]\n"
   ]
  },
  {
   "cell_type": "code",
   "execution_count": 219,
   "metadata": {
    "tags": []
   },
   "outputs": [],
   "source": [
    "def getTensorFromProteinOLD(proteinName, wt_seq, mut_types, nClosestAAs = 5):\n",
    "\n",
    "    print(\"Getting \" + proteinName + \" tensor: \" + wt_seq + \" \" + mut_types[0] + \" \" + mut_types[-1])\n",
    "    ###for each protein\n",
    "    structure = downloadStructure(proteinName[:4])\n",
    "    if structure == None:\n",
    "        return None\n",
    "    chain, string = removeHeteroatoms(structure)\n",
    "\n",
    "    print(\"Structure sequence: \" + string)\n",
    "    #wt_seq = dataset_train.df[\"wt_seq\"][0][proteinIndex]\n",
    "\n",
    "    matching = (string.find(wt_seq),string.find(wt_seq)+len(wt_seq))\n",
    "    print(matching)\n",
    "\n",
    "    matchingSeq_len = len(wt_seq) # = matching[1]-matching[0]\n",
    "\n",
    "    print(len(chain))\n",
    "\n",
    "    \n",
    "\n",
    "    #len(wt_seq), len(aa_alphabet)\n",
    "    \n",
    "    # Iterate over each residue in the chain\n",
    "    #for index, residue in enumerate(chain):\n",
    "\n",
    "    #len of matching sequence, max amount of mutations at the position, amount of closest AAs, one hot encoding of amino acid \n",
    "    aaDistances = torch.zeros((matchingSeq_len, len(aa_alphabet), nClosestAAs, len(aa_alphabet)))\n",
    "\n",
    "    for residueIndex in range(1, matchingSeq_len):\n",
    "        \n",
    "        distances = getNClosestAAs(chain, matching[0]+residueIndex, nClosestAAs = nClosestAAs)\n",
    "        if distances == None:\n",
    "            return None\n",
    "        #change wt residue to mutation\n",
    "        \n",
    "        mut_toThatHaveData = [mut_type[-1] for mut_type in mut_types if str(residueIndex+matching[0]) in mut_type]\n",
    "        for mutationIndex in range(len(aa_alphabet)): #20 because 20 amino acids thought -1 because wt is already in the list but wt is different every time\n",
    "               ###for each mutation\n",
    "               #print(residueIndex*(len(aa_alphabet)-1)+mutationIndex)\n",
    "            \n",
    "            #check if mutation is at this position exists\n",
    "            mut_to = aa_alphabet[mutationIndex]\n",
    "\n",
    "            if(mut_toThatHaveData.__contains__(mut_to)):\n",
    "                #print(\"Mutation at position \" + str(residueIndex) + \" to \" + mut_to + \" in \" + proteinName)\n",
    "                #mut_type = mut_types[residueIndex*(len(aa_alphabet)-1)+mutationIndex]\n",
    "                #mutation_pos = mut_type[1:-1]\n",
    "               #print(\"mut_type:\" + str(mut_type))\n",
    "               #print(\"mutation_pos:\" + str(mutation_pos))\n",
    "               #print(mut_type)\n",
    "                distances[0] = (mut_to, 0.0) #mutated AA, distance to itself is 0\n",
    "                aaDistances[residueIndex][mutationIndex][0] = one_hot_encode(distances[0][0])*-1\n",
    "\n",
    "                for idx, aa in enumerate(distances[1:], start=1):\n",
    "                    # Rest of the code\n",
    "                #print(aa[0],aa[1])\n",
    "                #print(proteinIndex,residueIndex,mutationIndex,idx)\n",
    "                    aaDistances[residueIndex][mutationIndex][idx] = one_hot_encode(aa[0])*aa[1]\n",
    "               #for idx, distance in enumerate(distances):\n",
    "            else:\n",
    "                aaDistances[residueIndex][mutationIndex] = torch.zeros((nClosestAAs, len(aa_alphabet)))\n",
    "                #print(\"No data for mutation at position \" + str(residueIndex) + \" to \" + mut_to + \" in \" + proteinName)\n",
    "                   \n",
    "       #aaDistances[residueIndex] = [np.append(one_hot_encode(aa[0]),aa[1]) for aa in distances]\n",
    "       \n",
    "   #print(distances, len(distances))\n",
    "    return aaDistances\n",
    "\n",
    "    #aaDistances = torch.empty(0)\n",
    "    aaDistances = []\n",
    "    distances = []\n",
    "    oldMutationPos = -1\n",
    "\n",
    "    for mutation in mut_types:\n",
    "        mutation_pos = int(mutation[1:-1])\n",
    "        mutatedFrom = mutation[0]\n",
    "        mutatedTo = mutation[-1]\n",
    "        print(mutation_pos)\n",
    "        \n",
    "        if(mutation_pos != oldMutationPos):\n",
    "            distances = getNClosestAAs(chain, matching[0]+mutation_pos, nClosestAAs = nClosestAAs)\n",
    "        \n",
    "        oldMutationPos = mutation_pos\n",
    "\n",
    "        distances[0] = (mutatedTo, 0.0) #mutated AA, distance to itself is 0\n",
    "\n",
    "        #print(one_hot_encode(distances[0][0]))\n",
    "        aaDistances.append(one_hot_encode(distances[0][0])*-1)\n",
    "#        aaDistances = torch.cat((aaDistances,one_hot_encode(distances[0][0])*-1))\n",
    "        #print(torch.flatten(torch.stack([one_hot_encode(aa[0])*aa[1] for aa in distances[1:]])))\n",
    "        [aaDistances.append(one_hot_encode(aa[0])*aa[1]) for aa in distances[1:]]\n",
    "#        aaDistances = torch.cat((aaDistances,torch.flatten(torch.stack([one_hot_encode(aa[0])*aa[1] for aa in distances[1:]]))))\n",
    "        #aaDistances.append(np.append(one_hot_encode(aa[0]),aa[1]) for aa in distances)\n",
    "\n",
    "    return aaDistances"
   ]
  },
  {
   "cell_type": "code",
   "execution_count": 290,
   "metadata": {
    "tags": []
   },
   "outputs": [],
   "source": [
    "def getTensorFromProtein(proteinName, wt_seq, mut_types, nClosestAAs = 5):\n",
    "\n",
    "    print(\"Getting \" + proteinName + \" tensor: \" + wt_seq + \" \" + mut_types[0] + \" \" + mut_types[-1])\n",
    "    ###for each protein\n",
    "    structure = downloadStructure(proteinName[:4])\n",
    "    if structure == None:\n",
    "        return None\n",
    "    chain, string = removeHeteroatoms(structure)\n",
    "\n",
    "    print(\"Structure sequence: \" + string)\n",
    "    #wt_seq = dataset_train.df[\"wt_seq\"][0][proteinIndex]\n",
    "\n",
    "    matching = (string.find(wt_seq),string.find(wt_seq)+len(wt_seq))\n",
    "    print(matching)\n",
    "\n",
    "    matchingSeq_len = len(wt_seq) # = matching[1]-matching[0]\n",
    "\n",
    "    print(len(chain))\n",
    "\n",
    "    \n",
    "\n",
    "    #len(wt_seq), len(aa_alphabet)\n",
    "    \n",
    "    # Iterate over each residue in the chain\n",
    "    #for index, residue in enumerate(chain):\n",
    "\n",
    "    #len of matching sequence, max amount of mutations at the position, amount of closest AAs, one hot encoding of amino acid \n",
    "    aaDistances = torch.zeros((matchingSeq_len, nClosestAAs + len(aa_alphabet), len(aa_alphabet)))\n",
    "\n",
    "    #aaDistances = torch.zeros((matchingSeq_len, nClosestAAs-1, len(aa_alphabet)))\n",
    "\n",
    "    for residueIndex in range(matchingSeq_len):\n",
    "        \n",
    "        distances = getNClosestAAs(chain, matching[0]+residueIndex, nClosestAAs = nClosestAAs)\n",
    "        if distances == None:\n",
    "            return None\n",
    "        #change wt residue to mutation\n",
    "        \n",
    "        mut_toThatHaveData = [mut_type[-1] for mut_type in mut_types if str(residueIndex+matching[0]) in mut_type]\n",
    "        \n",
    "        \n",
    "        for mutationIndex in range(len(aa_alphabet)): #20 because 20 amino acids thought -1 because wt is already in the list but wt is different every time\n",
    "               ###for each mutation\n",
    "               #print(residueIndex*(len(aa_alphabet)-1)+mutationIndex)\n",
    "            \n",
    "            #check if mutation is at this position exists\n",
    "            mut_to = aa_alphabet[mutationIndex]\n",
    "\n",
    "            if(mut_toThatHaveData.__contains__(mut_to)):\n",
    "                #print(\"Mutation at position \" + str(residueIndex) + \" to \" + mut_to + \" in \" + proteinName)\n",
    "                #mut_type = mut_types[residueIndex*(len(aa_alphabet)-1)+mutationIndex]\n",
    "                #mutation_pos = mut_type[1:-1]\n",
    "               #print(\"mut_type:\" + str(mut_type))\n",
    "               #print(\"mutation_pos:\" + str(mutation_pos))\n",
    "               #print(mut_type)\n",
    "                distances[0] = (mut_to, 0.0) #mutated AA, distance to itself is 0\n",
    "                aaDistances[residueIndex][mutationIndex] = one_hot_encode(mut_to)\n",
    "\n",
    "                \n",
    "            else:\n",
    "                aaDistances[residueIndex][mutationIndex] = torch.zeros((len(aa_alphabet)))\n",
    "                #print(\"No data for mutation at position \" + str(residueIndex) + \" to \" + mut_to + \" in \" + proteinName)\n",
    "        \n",
    "        for idx, aa in enumerate(distances[1:]):\n",
    "             \n",
    "            aaDistances[residueIndex][len(aa_alphabet)+idx] = one_hot_encode(aa[0])*aa[1]\n",
    "             \n",
    "            #aaDistances[residueIndex][idx] = one_hot_encode(aa[0])*aa[1]\n",
    "               #for idx, distance in enumerate(distances):          \n",
    "       #aaDistances[residueIndex] = [np.append(one_hot_encode(aa[0]),aa[1]) for aa in distances]\n",
    "       \n",
    "   #print(distances, len(distances))\n",
    "    return aaDistances"
   ]
  },
  {
   "cell_type": "code",
   "execution_count": 291,
   "metadata": {
    "tags": []
   },
   "outputs": [
    {
     "name": "stdout",
     "output_type": "stream",
     "text": [
      "mut_type_len = 1287\n",
      "Getting 1AOY.pdb tensor: QEELVKAFKALLKEEKFSSQGEIVAALQEQGFDNINQSKVSRMLTKFGAVRTRNAKMEMVYCLPAELGV Q1E V69C\n",
      "Structure exists: 'structures/1aoy.cif' \n",
      "Structure sequence: MRSSAKQEELVKAFKALLKEEKFSSQGEIVAALQEQGFDNINQSKVSRMLTKFGAVRTRNAKMEMVYCLPAELGVPTT\n",
      "(6, 75)\n",
      "78\n"
     ]
    },
    {
     "data": {
      "text/plain": [
       "tensor([[1.0000, 0.0000, 0.0000, 0.0000, 0.0000, 0.0000, 0.0000, 0.0000, 0.0000,\n",
       "         0.0000, 0.0000, 0.0000, 0.0000, 0.0000, 0.0000, 0.0000, 0.0000, 0.0000,\n",
       "         0.0000, 0.0000],\n",
       "        [0.0000, 1.0000, 0.0000, 0.0000, 0.0000, 0.0000, 0.0000, 0.0000, 0.0000,\n",
       "         0.0000, 0.0000, 0.0000, 0.0000, 0.0000, 0.0000, 0.0000, 0.0000, 0.0000,\n",
       "         0.0000, 0.0000],\n",
       "        [0.0000, 0.0000, 1.0000, 0.0000, 0.0000, 0.0000, 0.0000, 0.0000, 0.0000,\n",
       "         0.0000, 0.0000, 0.0000, 0.0000, 0.0000, 0.0000, 0.0000, 0.0000, 0.0000,\n",
       "         0.0000, 0.0000],\n",
       "        [0.0000, 0.0000, 0.0000, 1.0000, 0.0000, 0.0000, 0.0000, 0.0000, 0.0000,\n",
       "         0.0000, 0.0000, 0.0000, 0.0000, 0.0000, 0.0000, 0.0000, 0.0000, 0.0000,\n",
       "         0.0000, 0.0000],\n",
       "        [0.0000, 0.0000, 0.0000, 0.0000, 1.0000, 0.0000, 0.0000, 0.0000, 0.0000,\n",
       "         0.0000, 0.0000, 0.0000, 0.0000, 0.0000, 0.0000, 0.0000, 0.0000, 0.0000,\n",
       "         0.0000, 0.0000],\n",
       "        [0.0000, 0.0000, 0.0000, 0.0000, 0.0000, 1.0000, 0.0000, 0.0000, 0.0000,\n",
       "         0.0000, 0.0000, 0.0000, 0.0000, 0.0000, 0.0000, 0.0000, 0.0000, 0.0000,\n",
       "         0.0000, 0.0000],\n",
       "        [0.0000, 0.0000, 0.0000, 0.0000, 0.0000, 0.0000, 1.0000, 0.0000, 0.0000,\n",
       "         0.0000, 0.0000, 0.0000, 0.0000, 0.0000, 0.0000, 0.0000, 0.0000, 0.0000,\n",
       "         0.0000, 0.0000],\n",
       "        [0.0000, 0.0000, 0.0000, 0.0000, 0.0000, 0.0000, 0.0000, 1.0000, 0.0000,\n",
       "         0.0000, 0.0000, 0.0000, 0.0000, 0.0000, 0.0000, 0.0000, 0.0000, 0.0000,\n",
       "         0.0000, 0.0000],\n",
       "        [0.0000, 0.0000, 0.0000, 0.0000, 0.0000, 0.0000, 0.0000, 0.0000, 1.0000,\n",
       "         0.0000, 0.0000, 0.0000, 0.0000, 0.0000, 0.0000, 0.0000, 0.0000, 0.0000,\n",
       "         0.0000, 0.0000],\n",
       "        [0.0000, 0.0000, 0.0000, 0.0000, 0.0000, 0.0000, 0.0000, 0.0000, 0.0000,\n",
       "         1.0000, 0.0000, 0.0000, 0.0000, 0.0000, 0.0000, 0.0000, 0.0000, 0.0000,\n",
       "         0.0000, 0.0000],\n",
       "        [0.0000, 0.0000, 0.0000, 0.0000, 0.0000, 0.0000, 0.0000, 0.0000, 0.0000,\n",
       "         0.0000, 1.0000, 0.0000, 0.0000, 0.0000, 0.0000, 0.0000, 0.0000, 0.0000,\n",
       "         0.0000, 0.0000],\n",
       "        [0.0000, 0.0000, 0.0000, 0.0000, 0.0000, 0.0000, 0.0000, 0.0000, 0.0000,\n",
       "         0.0000, 0.0000, 1.0000, 0.0000, 0.0000, 0.0000, 0.0000, 0.0000, 0.0000,\n",
       "         0.0000, 0.0000],\n",
       "        [0.0000, 0.0000, 0.0000, 0.0000, 0.0000, 0.0000, 0.0000, 0.0000, 0.0000,\n",
       "         0.0000, 0.0000, 0.0000, 1.0000, 0.0000, 0.0000, 0.0000, 0.0000, 0.0000,\n",
       "         0.0000, 0.0000],\n",
       "        [0.0000, 0.0000, 0.0000, 0.0000, 0.0000, 0.0000, 0.0000, 0.0000, 0.0000,\n",
       "         0.0000, 0.0000, 0.0000, 0.0000, 1.0000, 0.0000, 0.0000, 0.0000, 0.0000,\n",
       "         0.0000, 0.0000],\n",
       "        [0.0000, 0.0000, 0.0000, 0.0000, 0.0000, 0.0000, 0.0000, 0.0000, 0.0000,\n",
       "         0.0000, 0.0000, 0.0000, 0.0000, 0.0000, 1.0000, 0.0000, 0.0000, 0.0000,\n",
       "         0.0000, 0.0000],\n",
       "        [0.0000, 0.0000, 0.0000, 0.0000, 0.0000, 0.0000, 0.0000, 0.0000, 0.0000,\n",
       "         0.0000, 0.0000, 0.0000, 0.0000, 0.0000, 0.0000, 1.0000, 0.0000, 0.0000,\n",
       "         0.0000, 0.0000],\n",
       "        [0.0000, 0.0000, 0.0000, 0.0000, 0.0000, 0.0000, 0.0000, 0.0000, 0.0000,\n",
       "         0.0000, 0.0000, 0.0000, 0.0000, 0.0000, 0.0000, 0.0000, 1.0000, 0.0000,\n",
       "         0.0000, 0.0000],\n",
       "        [0.0000, 0.0000, 0.0000, 0.0000, 0.0000, 0.0000, 0.0000, 0.0000, 0.0000,\n",
       "         0.0000, 0.0000, 0.0000, 0.0000, 0.0000, 0.0000, 0.0000, 0.0000, 1.0000,\n",
       "         0.0000, 0.0000],\n",
       "        [0.0000, 0.0000, 0.0000, 0.0000, 0.0000, 0.0000, 0.0000, 0.0000, 0.0000,\n",
       "         0.0000, 0.0000, 0.0000, 0.0000, 0.0000, 0.0000, 0.0000, 0.0000, 0.0000,\n",
       "         1.0000, 0.0000],\n",
       "        [0.0000, 0.0000, 0.0000, 0.0000, 0.0000, 0.0000, 0.0000, 0.0000, 0.0000,\n",
       "         0.0000, 0.0000, 0.0000, 0.0000, 0.0000, 0.0000, 0.0000, 0.0000, 0.0000,\n",
       "         0.0000, 1.0000],\n",
       "        [0.0000, 0.0000, 0.0000, 0.0000, 0.0000, 0.0000, 0.0000, 0.0000, 3.8356,\n",
       "         0.0000, 0.0000, 0.0000, 0.0000, 0.0000, 0.0000, 0.0000, 0.0000, 0.0000,\n",
       "         0.0000, 0.0000],\n",
       "        [0.0000, 0.0000, 0.0000, 3.8357, 0.0000, 0.0000, 0.0000, 0.0000, 0.0000,\n",
       "         0.0000, 0.0000, 0.0000, 0.0000, 0.0000, 0.0000, 0.0000, 0.0000, 0.0000,\n",
       "         0.0000, 0.0000],\n",
       "        [0.0000, 0.0000, 0.0000, 5.1925, 0.0000, 0.0000, 0.0000, 0.0000, 0.0000,\n",
       "         0.0000, 0.0000, 0.0000, 0.0000, 0.0000, 0.0000, 0.0000, 0.0000, 0.0000,\n",
       "         0.0000, 0.0000],\n",
       "        [0.0000, 0.0000, 0.0000, 0.0000, 0.0000, 0.0000, 0.0000, 0.0000, 0.0000,\n",
       "         5.7218, 0.0000, 0.0000, 0.0000, 0.0000, 0.0000, 0.0000, 0.0000, 0.0000,\n",
       "         0.0000, 0.0000],\n",
       "        [0.0000, 0.0000, 0.0000, 0.0000, 0.0000, 0.0000, 0.0000, 0.0000, 0.0000,\n",
       "         0.0000, 0.0000, 0.0000, 0.0000, 0.0000, 0.0000, 0.0000, 0.0000, 0.0000,\n",
       "         0.0000, 0.0000]])"
      ]
     },
     "execution_count": 291,
     "metadata": {},
     "output_type": "execute_result"
    }
   ],
   "source": [
    "wt_name = dataset_train.wt_names[1]\n",
    "# get the correct row\n",
    "mut_row = dataset_train.df.loc[wt_name]\n",
    "print(\"mut_type_len =\", len(mut_row[\"mut_type\"]))\n",
    "getTensorFromProtein(wt_name, mut_row[\"wt_seq\"][0], mut_row[\"mut_type\"])[0]"
   ]
  },
  {
   "cell_type": "code",
   "execution_count": 292,
   "metadata": {
    "tags": []
   },
   "outputs": [],
   "source": [
    "#ignoreList = []"
   ]
  },
  {
   "cell_type": "code",
   "execution_count": 293,
   "metadata": {
    "tags": []
   },
   "outputs": [
    {
     "data": {
      "text/plain": [
       "['1F0M',\n",
       " '1GL5',\n",
       " '1H8K',\n",
       " '1I2T',\n",
       " '1IFY',\n",
       " '1K1V',\n",
       " '1LP1',\n",
       " '1ORC',\n",
       " '1QKX',\n",
       " '1SRM',\n",
       " '1TUD',\n",
       " '1UFM',\n",
       " '1URF',\n",
       " '1VII',\n",
       " '1W4F',\n",
       " '1W4G',\n",
       " '1Y0M',\n",
       " '1YRF',\n",
       " '1YU5',\n",
       " '1ZLM',\n",
       " '2BTT',\n",
       " '2CDT',\n",
       " '2CJJ',\n",
       " '2EXD',\n",
       " '2GP8',\n",
       " '2JVG',\n",
       " '2K2A',\n",
       " '2KFV',\n",
       " '2LCL',\n",
       " '2LHR',\n",
       " '2LVN',\n",
       " '2M2J',\n",
       " '2MA4',\n",
       " '2MCH',\n",
       " '2MCK',\n",
       " '2MKY',\n",
       " '2MW9',\n",
       " '2MWA',\n",
       " '2MWB',\n",
       " '2MXD',\n",
       " '2MYX',\n",
       " '2N4R',\n",
       " '2N88',\n",
       " '2O2W',\n",
       " '2QFF',\n",
       " '2RJV',\n",
       " '3I35',\n",
       " '3L1X',\n",
       " '3MYC',\n",
       " '4G3O',\n",
       " '4HCK',\n",
       " '5JRT',\n",
       " '5OAO',\n",
       " '5UYO',\n",
       " '5VNT',\n",
       " '5Z2S',\n",
       " '6NMW',\n",
       " '7JJK',\n",
       " 'EEHE',\n",
       " 'EHEE',\n",
       " 'HEEH',\n",
       " 'HHH_',\n",
       " 'r10_',\n",
       " 'r11_',\n",
       " 'r16_',\n",
       " 'r4_4',\n",
       " 'r6_5',\n",
       " 'r6_8',\n",
       " 'r7_5',\n",
       " 'v2K4',\n",
       " 'v2_2',\n",
       " 'v2_4',\n",
       " 'v2_6',\n",
       " '1WCL',\n",
       " '2K9D',\n",
       " '2RU9',\n",
       " '2WNM',\n",
       " '3ZGK',\n",
       " '5LXJ',\n",
       " 'r15_',\n",
       " 'r3_1',\n",
       " '1GYZ',\n",
       " '1QKH',\n",
       " '1QP2',\n",
       " '1TUC',\n",
       " '1W4H',\n",
       " '2BTH',\n",
       " '2KWH',\n",
       " '2WXC',\n",
       " '3DKM',\n",
       " '4C26',\n",
       " 'r12_',\n",
       " 'r18_',\n",
       " '1E6H',\n",
       " '1OPS']"
      ]
     },
     "execution_count": 293,
     "metadata": {},
     "output_type": "execute_result"
    }
   ],
   "source": [
    "(ignoreList)"
   ]
  },
  {
   "cell_type": "code",
   "execution_count": 294,
   "metadata": {
    "tags": []
   },
   "outputs": [],
   "source": [
    "# sequence data, comes already batched, so treat accordingly in dataloader (batch_size=1)\n",
    "class SequenceData(Dataset):\n",
    "    def __init__(self, csv_file, label_col=\"ddG_ML\"):\n",
    "        \"\"\"\n",
    "        Initializes the dataset. \n",
    "        input:\n",
    "            csv_file: path to the relevant data file, eg. \"/home/data/mega_train.csv\"\n",
    "        \"\"\"\n",
    "        \n",
    "        self.min_size = 72\n",
    "        self.seqTensors = {}\n",
    "        \n",
    "        self.df = pd.read_csv(csv_file, sep=\",\")\n",
    "        self.label_col = label_col\n",
    "        # only have mutation rows\n",
    "        self.df = self.df[self.df.mut_type!=\"wt\"]\n",
    "        # process the mutation row\n",
    "        self.df[\"mutation_pos\"] = self.df[\"mut_type\"].apply(lambda x: int(x[1:-1])-1) # make position start at zero\n",
    "        self.df[\"mutation_to\"] = self.df[\"mut_type\"].apply(lambda x: aa_to_int[x[-1]]) # give numerical label to mutation\n",
    "\n",
    "        # group by wild type\n",
    "        self.df = self.df.groupby(\"WT_name\").agg(list)\n",
    "        # get wild type names\n",
    "        self.wt_names = self.df.index.values\n",
    "        # precompute one-hot encoding for faster training\n",
    "        self.encoded_seqs = {}\n",
    "        for wt_name in self.wt_names:\n",
    "            # get the correct row\n",
    "            \n",
    "            #download structure\n",
    "            print(wt_name[:4])\n",
    "            if not ignoreList.__contains__(wt_name[:4]):\n",
    "                structure = downloadStructure(wt_name[:4])\n",
    "\n",
    "                if structure is None:\n",
    "                    print(\"No structure found for \" + wt_name)\n",
    "                    ignoreList.append(wt_name[:4])\n",
    "                    #remove from df\n",
    "                    self.df = self.df.drop(wt_name)\n",
    "                    continue\n",
    "            \n",
    "                mut_row = self.df.loc[wt_name]\n",
    "                tensorFromProtein = getTensorFromProtein(wt_name, mut_row[\"wt_seq\"][0], mut_row[\"mut_type\"], nClosestAAs=10)\n",
    "                if tensorFromProtein == None:\n",
    "                    ignoreList.append(wt_name[:4])\n",
    "                    continue\n",
    "            \n",
    "                self.seqTensors[wt_name] = tensorFromProtein\n",
    "            #seq = mut_row[\"wt_seq\"][0]\n",
    "            #self.encoded_seqs[wt_name] = one_hot_encode(seq)\n",
    "            #for i in range(self.min_size-len(self.encoded_seqs[wt_name])):\n",
    "            #    #print(wt_name, i)\n",
    "            #    self.encoded_seqs[wt_name] = torch.cat((self.encoded_seqs[wt_name], one_hot_encode(\"0\")),0)\n",
    "        self.wt_names = [wt_name for wt_name in self.wt_names if wt_name[:4] not in ignoreList]     \n",
    "\n",
    "    def __len__(self):\n",
    "        return len(self.wt_names)\n",
    "\n",
    "    def __getitem__(self, idx): #one batch = one protein\n",
    "        # get the wild type name\n",
    "        wt_name = self.wt_names[idx]\n",
    "        # get the correct row\n",
    "        mut_row = self.df.loc[wt_name]\n",
    "        # get the wt sequence in one hot encoding\n",
    "        #sequence_encoding = self.encoded_seqs[wt_name]\n",
    "\n",
    "        # create mask and target tensors\n",
    "        #mask = torch.zeros((1, len(sequence_encoding),20)) # will be 1 where we have a measurement\n",
    "        #target = torch.zeros((1, len(sequence_encoding),20)) # ddg values\n",
    "        # all mutations from df\n",
    "        #positions = torch.tensor(mut_row[\"mutation_pos\"])\n",
    "        #amino_acids = torch.tensor(mut_row[\"mutation_to\"])\n",
    "        # get the labels\n",
    "        seqTensor = self.seqTensors[wt_name]\n",
    "        \n",
    "        seqLen = seqTensor.shape[0]\n",
    "        \n",
    "        \n",
    "        mask = torch.zeros((1, seqLen,20)) # will be 1 where we have a measurement\n",
    "        target = torch.zeros((1, seqLen, 20)) # ddg values\n",
    "        \n",
    "        amino_acids = torch.tensor(mut_row[\"mutation_to\"])\n",
    "        positions = torch.tensor(mut_row[\"mutation_pos\"])\n",
    "        \n",
    "        labels = torch.tensor(mut_row[self.label_col])\n",
    "        \n",
    "        sequence = seqTensor.squeeze(1)\n",
    "        \n",
    "        for i in range(seqLen):\n",
    "            mask[0,i,amino_acids[positions==i]] = 1 # one where we have data\n",
    "            target[0,i,amino_acids[positions==i]] = labels[positions==i] # fill with ddG values\n",
    "            \n",
    "        target = target.squeeze(1)\n",
    "        #sequence = torch.stack(self.seqTensors[wt_name]).squeeze(1)\n",
    "        #for i in range(len(sequence_encoding)):\n",
    "        #    mask[0,i,amino_acids[positions==i]] = 1 # one where we have data\n",
    "        #    target[0,i,amino_acids[positions==i]] = labels[positions==i] # fill with ddG values\n",
    "        \n",
    "        # returns encoded sequence, mask and target sequence \n",
    "#        wt_seq = self.df[\"wt_seq\"][idx][0]\n",
    "#        mut_type = self.df[\"mut_type\"][idx]\n",
    "#        nClosest = 5\n",
    "#        tensorLabels = torch.empty((len(wt_seq), len(aa_alphabet), nClosest, len(aa_alphabet)+1))\n",
    "#\n",
    "#        #labelIndex = 0\n",
    "#        for label in range(labels.size(0)):\n",
    "#            #TODO labelIndex is not correct\n",
    "#            posIndex = label//len(aa_alphabet)\n",
    "#            mutIndex = label%len(aa_alphabet)\n",
    "#            #print(posIndex, mutIndex)\n",
    "#            #print(torch.full((nClosest, len(aa_alphabet)+1), labels[label].item()).shape)\n",
    "#            #print(tensorLabels[posIndex][mutIndex].shape)\n",
    "#            tensorLabels[posIndex][mutIndex] = torch.full((nClosest, len(aa_alphabet)+1), labels[label].item())\n",
    "#            #labelIndex += 1\n",
    "        \n",
    "        return {\"sequence\": sequence, \"labels\": target}"
   ]
  },
  {
   "cell_type": "code",
   "execution_count": 295,
   "metadata": {
    "tags": []
   },
   "outputs": [
    {
     "name": "stdout",
     "output_type": "stream",
     "text": [
      "1A32\n",
      "Structure exists: 'structures/1a32.cif' \n",
      "Getting 1A32.pdb tensor: SPEVQIAILTEQINNLNEHLRVHKKDHHSRRGLLKMVGKRRRLLAYLRNKDVARYREIVEKLG S1Q G63C\n",
      "Structure exists: 'structures/1a32.cif' \n",
      "Structure sequence: LTQERKREIIEQFKVHENDTGSPEVQIAILTEQINNLNEHLRVHKKDHHSRRGLLKMVGKRRRLLAYLRNKDVARYREIVEKLGL\n",
      "(21, 84)\n",
      "85\n",
      "1AOY\n",
      "Structure exists: 'structures/1aoy.cif' \n",
      "Getting 1AOY.pdb tensor: QEELVKAFKALLKEEKFSSQGEIVAALQEQGFDNINQSKVSRMLTKFGAVRTRNAKMEMVYCLPAELGV Q1E V69C\n",
      "Structure exists: 'structures/1aoy.cif' \n",
      "Structure sequence: MRSSAKQEELVKAFKALLKEEKFSSQGEIVAALQEQGFDNINQSKVSRMLTKFGAVRTRNAKMEMVYCLPAELGVPTT\n",
      "(6, 75)\n",
      "78\n",
      "1E0L\n",
      "Structure exists: 'structures/1e0l.cif' \n",
      "Getting 1E0L.pdb tensor: GATAVSEWTEYKTADGKTYYYNNRTLESTWEKPQELK G1Q K37C\n",
      "Structure exists: 'structures/1e0l.cif' \n",
      "Structure sequence: GATAVSEWTEYKTADGKTYYYNNRTLESTWEKPQELK\n",
      "(0, 37)\n",
      "37\n",
      "1E6H\n",
      "1ENH\n",
      "Structure exists: 'structures/1enh.cif' \n",
      "Getting 1ENH.pdb tensor: AFSSEQLARLKREFNENRYLTERRRQQLSSELGLNEAQIKIWFQNKRA A1Q A48C\n",
      "Structure exists: 'structures/1enh.cif' \n",
      "Structure sequence: RPRTAFSSEQLARLKREFNENRYLTERRRQQLSSELGLNEAQIKIWFQNKRAKI\n",
      "(4, 52)\n",
      "54\n",
      "1F0M\n",
      "1GJS\n",
      "Structure exists: 'structures/1gjs.cif' \n",
      "Getting 1GJS.pdb tensor: NSLAEAKVLANRELDKYGVSDYYKNLINNAKTVEGVKALIDEILA N1Q A45C\n",
      "Structure exists: 'structures/1gjs.cif' \n",
      "Structure sequence: MKAIFVLNAQHDEAVDANSLAEAKVLANRELDKYGVSDYYKNLINNAKTVEGVKALIDEILAALP\n",
      "(17, 62)\n",
      "65\n",
      "1GL5\n",
      "1H8K\n",
      "1H92\n",
      "Structure exists: 'structures/1h92.cif' \n",
      "Getting 1H92.pdb tensor: DNLVIALHSYEPSHDGDLGFEKGEQLRILEQSGEWWKAQSLTTGQEGFIPFNFVAKA D1Q A57C\n",
      "Structure exists: 'structures/1h92.cif' \n",
      "Structure sequence: GSPLQDNLVIALHSYEPSHDGDLGFEKGEQLRILEQSGEWWKAQSLTTGQEGFIPFNFVAKAN\n",
      "(5, 62)\n",
      "63\n",
      "1I2T\n",
      "1IFY\n",
      "1JIC\n",
      "Structure exists: 'structures/1jic.cif' \n",
      "Getting 1JIC.pdb tensor: TVKFKYKGEEKQVDISKIKKVWRVGKMISFTYDEGGGKTGRGAVSEKDAPKELLQ T1Q Q55C\n",
      "Structure exists: 'structures/1jic.cif' \n",
      "Structure sequence: ATVKFKYKGEEKQVDISKIKKVWRVGKMISFTYDEGGGKTGRGAVSEKDAPKELLQMLEKQK\n",
      "(1, 56)\n",
      "62\n",
      "1K1V\n",
      "1LP1\n",
      "1O6X\n",
      "Structure exists: 'structures/1o6x.cif' \n",
      "Getting 1O6X.pdb tensor: VGDQVLEIVPSNEEQIKNLLQLEAQEHLQLDFWKSPTTPGETAHVRVPFVNVQAVKVFLESQGIAYSIMIED V1Q D72C\n",
      "Structure exists: 'structures/1o6x.cif' \n",
      "Structure sequence: MRSLETFVGDQVLEIVPSNEEQIKNLLQLEAQEHLQLDFWKSPTTPGETAHVRVPFVNVQAVKVFLESQGIAYSIMIEDVQ\n",
      "(7, 79)\n",
      "81\n",
      "1OPS\n",
      "1ORC\n",
      "1PV0\n",
      "Structure exists: 'structures/1pv0.cif' \n",
      "Getting 1PV0.pdb tensor: MRKLSDELLIESYFKATEMNLNRDFIELIENEIKRRSLGHIISV M1Q V44C\n",
      "Structure exists: 'structures/1pv0.cif' \n",
      "Structure sequence: MRKLSDELLIESYFKATEMNLNRDFIELIENEIKRRSLGHIISVSS\n",
      "(0, 44)\n",
      "46\n",
      "1PWT\n",
      "Structure exists: 'structures/1pwt.cif' \n",
      "Getting 1PWT.pdb tensor: GKELVLALYDYQEKSPREVTMKKGDILTLLNSTNKDWWKVEVNDRQGFVPAAYVKKL G1Q L57C\n",
      "Structure exists: 'structures/1pwt.cif' \n",
      "Structure sequence: MGTGKELVLALYDYQEKSPREVTMKKGDILTLLNSTNKDWWKVEVNDRQGFVPAAYVKKLD\n",
      "(3, 60)\n",
      "61\n",
      "1QKX\n",
      "1QLY\n",
      "Structure exists: 'structures/1qly.cif' \n",
      "Getting 1QLY.pdb tensor: LKKVVALYDYMPMNANDLQLRKGDEYFILEESNLPWWRARDKNGQEGYIPSNYVTEAE L1Q E58C\n",
      "Structure exists: 'structures/1qly.cif' \n",
      "Structure sequence: LKKVVALYDYMPMNANDLQLRKGDEYFILEESNLPWWRARDKNGQEGYIPSNYVTEAE\n",
      "(0, 58)\n",
      "58\n",
      "1R69\n",
      "Structure exists: 'structures/1r69.cif' \n",
      "Getting 1R69.pdb tensor: SISSRVKSKRIQLGLNQAELAQKVGTTQQSIEQLENGKTKRPRFLPELASALGVSVDWLLN S1Q N61C\n",
      "Structure exists: 'structures/1r69.cif' \n",
      "Structure sequence: SISSRVKSKRIQLGLNQAELAQKVGTTQQSIEQLENGKTKRPRFLPELASALGVSVDWLLNGT\n",
      "(0, 61)\n",
      "63\n",
      "1SRM\n",
      "1TG0\n",
      "Structure exists: 'structures/1tg0.cif' \n",
      "Getting 1TG0.pdb tensor: EVPFKVVAQFPYKSDYEDDLNFEKDQEIIVTSVEDAEWYFGEYQDSNGDVIEGIFPKSFVAVQG E1Q G64C\n",
      "Structure exists: 'structures/1tg0.cif' \n",
      "Structure sequence: EPEVPFKVVAQFPYKSDYEDDLNFEKDQEIIVTSVEDAEWYFGEYQDSNGDVIEGIFPKSFVAVQG\n",
      "(2, 66)\n",
      "66\n",
      "1TUD\n",
      "1UFM\n",
      "1URF\n",
      "1UZC\n",
      "Structure exists: 'structures/1uzc.cif' \n",
      "Getting 1UZC.pdb tensor: TYTWNTKEEAKQAFKELLKEKRVPSNASWEQAMKMIINDPRYSALAKLSEKKQAFNAYKVQTE T1Q E63C\n",
      "Structure exists: 'structures/1uzc.cif' \n",
      "Structure sequence: QPAKKTYTWNTKEEAKQAFKELLKEKRVPSNASWEQAMKMIINDPRYSALAKLSEKKQAFNAYKVQTEK\n",
      "(5, 68)\n",
      "69\n",
      "1VII\n",
      "1W4F\n",
      "1W4G\n",
      "1Y0M\n",
      "1YP5\n",
      "Structure exists: 'structures/1yp5.cif' \n",
      "Getting 1YP5.pdb tensor: PMFEAAYDFPGSGSPSELPLKKGDVIYITREEPSGWSLGKLLDGSKEGWVPTAYMKP P1Q P57C\n",
      "Structure exists: 'structures/1yp5.cif' \n",
      "Structure sequence: PMFEAAYDFPGSGSPSELPLKKGDVIYITREEPSGWSLGKLLDGSKEGWVPTAYMKPH\n",
      "(0, 57)\n",
      "58\n",
      "1YRF\n",
      "1YU5\n",
      "1ZHC\n",
      "Structure exists: 'structures/1zhc.cif' \n",
      "Getting 1ZHC.pdb tensor: HEFRDEISVLKANNPHFDKIFEKHNQLDDDIKTAEQQNASDAEVSHMKKQKLKLKDEIHSMIIEYREK H1Q K68C\n",
      "Structure exists: 'structures/1zhc.cif' \n",
      "Structure sequence: MFHEFRDEISVLKANNPHFDKIFEKHNQLDDDIKTAEQQNASDAEVSHMKKQKLKLKDEIHSMIIEYREKQKSERA\n",
      "(2, 70)\n",
      "76\n",
      "1ZLM\n",
      "2AMI\n",
      "Structure exists: 'structures/2ami.cif' \n",
      "Getting 2AMI.pdb tensor: GLTEEQKQEIREAFDLFDTDGSGTIDAKELKVAMRALGFEPKKEEIKKMISEIDKDGSGTIDFEEFLTMMTA G1Q A72C\n",
      "Structure exists: 'structures/2ami.cif' \n",
      "Structure sequence: RVGLTEEQKQEIREAFDLFDTDGSGTIDAKELKVAMRALGFEPKKEEIKKMISEIDKDGSGTIDFEEFLTMMTAKM\n",
      "(2, 74)\n",
      "76\n",
      "2B88\n",
      "Structure exists: 'structures/2b88.cif' \n",
      "Getting 2B88.pdb tensor: NKFNKELGWATWEIFNLPNLNGVQVKAFIDSLRDDPSQSANLLAEAKKLNDAQA N1Q A54C\n",
      "Structure exists: 'structures/2b88.cif' \n",
      "Structure sequence: VDNKFNKELGWATWEIFNLPNLNGVQVKAFIDSLRDDPSQSANLLAEAKKLNDAQAPK\n",
      "(2, 56)\n",
      "58\n",
      "2B89\n",
      "Structure exists: 'structures/2b89.cif' \n",
      "Getting 2B89.pdb tensor: KFNKERVIAIGEIMRLPNLNSLQVVAFINSLRDDPSQSANLLAEAKKLNDAQAP K1Q P54C\n",
      "Structure exists: 'structures/2b89.cif' \n",
      "Structure sequence: VDNKFNKERVIAIGEIMRLPNLNSLQVVAFINSLRDDPSQSANLLAEAKKLNDAQAPK\n",
      "(3, 57)\n",
      "58\n",
      "2BTT\n",
      "2CDT\n",
      "2CJJ\n",
      "2D1U\n",
      "Structure exists: 'structures/2d1u.cif' \n",
      "Getting 2D1U.pdb tensor: QVNIAPGSLDKALNQYAAHSGFTLSVDASLTRGKQSNGLHGDYDVESGLQQLLDGSGLQVKPLGNNSWTLEP Q1E P72C\n",
      "Structure exists: 'structures/2d1u.cif' \n",
      "Structure sequence: AQVNIAPGSLDKALNQYAAHSGFTLSVDASLTRGKQSNGLHGDYDVESGLQQLLDGSGLQVKPLGNNSWTLEPAPAPKEDALTVVGDWLGDARENDLEHHHHHH\n",
      "(1, 73)\n",
      "104\n",
      "2EXD\n",
      "2GP8\n",
      "2HBB\n",
      "Structure exists: 'structures/2hbb.cif' \n",
      "Getting 2HBB.pdb tensor: MKVIFLKDVKGKGKKGEIKNVADGYANNFLFKQGLAIEATPANLKALE M1Q E48C\n",
      "Structure exists: 'structures/2hbb.cif' \n",
      "Structure sequence: MKVIFLKDVKGKGKKGEIKNVADGYANNFLFKQGLAIEATPANLKALEAQK\n",
      "(0, 48)\n",
      "51\n",
      "2JN4\n",
      "Structure exists: 'structures/2jn4.cif' \n",
      "Getting 2JN4.pdb tensor: MKVMIRKTATGHSAYVAKKDLEELIVEMENPALWGGKVTLANGWQLELPAMAADTPLPITVEARKL M1Q L66C\n",
      "Structure exists: 'structures/2jn4.cif' \n",
      "Structure sequence: MKVMIRKTATGHSAYVAKKDLEELIVEMENPALWGGKVTLANGWQLELPAMAADTPLPITVEARKL\n",
      "(0, 66)\n",
      "66\n",
      "2JT1\n",
      "Structure exists: 'structures/2jt1.cif' \n",
      "Getting 2JT1.pdb tensor: SIVTKIISIVQERQNMDDGAPVKTRDIADAAGLSIYQVRLYLEQLHDVGVLEKVNAGKGVPGLWRLL S1Q L67C\n",
      "Structure exists: 'structures/2jt1.cif' \n",
      "Structure sequence: MSESIVTKIISIVQERQNMDDGAPVKTRDIADAAGLSIYQVRLYLEQLHDVGVLEKVNAGKGVPGLWRLLE\n",
      "(3, 70)\n",
      "71\n",
      "2JTV\n",
      "Structure exists: 'structures/2jtv.cif' \n",
      "Getting 2JTV.pdb tensor: MATADDFKLIRDIHSTGGRRQVFGSREQKPFEDLVDLGWLKRSSVDSRATHYQITERGTSAAL M1Q L63C\n",
      "Structure exists: 'structures/2jtv.cif' \n",
      "Structure sequence: MATADDFKLIRDIHSTGGRRQVFGSREQKPFEDLVDLGWLKRSSVDSRATHYQITERGTSAALRS\n",
      "(0, 63)\n",
      "65\n",
      "2JVD\n",
      "Structure exists: 'structures/2jvd.cif' \n",
      "Getting 2JVD.pdb tensor: MISNAKIARINELAAKAKAGVITEEEKAEQQKLRQEYLK M1Q K39C\n",
      "Structure exists: 'structures/2jvd.cif' \n",
      "Structure sequence: MISNAKIARINELAAKAKAGVITEEEKAEQQKLRQEYLKGFRSSMKLE\n",
      "(0, 39)\n",
      "48\n",
      "2JVG\n",
      "2JWS\n",
      "Structure exists: 'structures/2jws.cif' \n",
      "Getting 2JWS.pdb tensor: LNLKQAKEEAIKELVDAGIAEKYIKLIANAKTVEGVWTLKDEILTFTV L1Q V48C\n",
      "Structure exists: 'structures/2jws.cif' \n",
      "Structure sequence: TTYKLILNLKQAKEEAIKELVDAGIAEKYIKLIANAKTVEGVWTLKDEILTFTVTE\n",
      "(6, 54)\n",
      "56\n",
      "2JWT\n",
      "Structure exists: 'structures/2jwt.cif' \n",
      "Getting 2JWT.pdb tensor: RTAFSSEQLARLKREFNENRYLTERRRQQLSSELGLNEAQIKIWFQNKRA R1Q A50C\n",
      "Structure exists: 'structures/2jwt.cif' \n",
      "Structure sequence: MDEKRPRTAFSSEQLARLKREFNENRYLTERRRQQLSSELGLNEAQIKIWFQNKRAKIKKS\n",
      "(6, 56)\n",
      "61\n",
      "2JZ2\n",
      "Structure exists: 'structures/2jz2.cif' \n",
      "Getting 2JZ2.pdb tensor: MIFPGATVRVTNVDDTYYRFEGLVQRVSDGKAAVLFENGNWDKLVTFRLSELEAVK M1Q K56C\n",
      "Structure exists: 'structures/2jz2.cif' \n",
      "Structure sequence: MIFPGATVRVTNVDDTYYRFEGLVQRVSDGKAAVLFENGNWDKLVTFRLSELEAVKPILEHHHHHH\n",
      "(0, 56)\n",
      "66\n",
      "2K2A\n",
      "2K5N\n",
      "Structure exists: 'structures/2k5n.cif' \n",
      "Getting 2K5N.pdb tensor: MAMNGTITTWFKDKGFGFIKDENGDNRYFHVIKVANPDLIKKDAAVTFEPTTNNKGLSAYAVKVVPL M1Q L67C\n",
      "Structure exists: 'structures/2k5n.cif' \n",
      "Structure sequence: MAMNGTITTWFKDKGFGFIKDENGDNRYFHVIKVANPDLIKKDAAVTFEPTTNNKGLSAYAVKVVPLEHHHHHH\n",
      "(0, 67)\n",
      "74\n",
      "2KCM\n",
      "Structure exists: 'structures/2kcm.cif' \n",
      "Getting 2KCM.pdb tensor: MKGKVVSYLAAKKYGFIQGDDGESYFLHFSELLDKKDEGKLVKGSMVHFDPTPTPKGLAAKAISLPLE M1Q E68C\n",
      "Structure exists: 'structures/2kcm.cif' \n",
      "Structure sequence: MKGKVVSYLAAKKYGFIQGDDGESYFLHFSELLDKKDEGKLVKGSMVHFDPTPTPKGLAAKAISLPLEHHHHHH\n",
      "(0, 68)\n",
      "74\n",
      "2KFV\n",
      "2KGT\n",
      "Structure exists: 'structures/2kgt.cif' \n",
      "Getting 2KGT.pdb tensor: LGPKYVGLWDFKSRTDEELSFRAGDVFHVARKEEQWWWATLLDEAGGAVAQGYVPHNYLAERE L1Q E63C\n",
      "Structure exists: 'structures/2kgt.cif' \n",
      "Structure sequence: MVSRDQAHLGPKYVGLWDFKSRTDEELSFRAGDVFHVARKEEQWWWATLLDEAGGAVAQGYVPHNYLAERET\n",
      "(8, 71)\n",
      "72\n",
      "2KR3\n",
      "Structure exists: 'structures/2kr3.cif' \n",
      "Getting 2KR3.pdb tensor: GKELVLALYDYQEKSPREVTMKKGDILTLLNSTNKDWWKVEVKATANDKTYERQGFVPAAYVKKL G1Q L65C\n",
      "Structure exists: 'structures/2kr3.cif' \n",
      "Structure sequence: MDETGKELVLALYDYQEKSPREVTMKKGDILTLLNSTNKDWWKVEVKATANDKTYERQGFVPAAYVKKLD\n",
      "(4, 69)\n",
      "70\n",
      "2KRU\n",
      "Structure exists: 'structures/2kru.cif' \n",
      "Getting 2KRU.pdb tensor: ELSWTAEAEKMLGKVPFFVRKKVRKNTDNYAREIGEPVVTADVFRKAKEHLG E1Q G52C\n",
      "Structure exists: 'structures/2kru.cif' \n",
      "Structure sequence: MGELSWTAEAEKMLGKVPFFVRKKVRKNTDNYAREIGEPVVTADVFRKAKEHLGGLEHHHHHH\n",
      "(2, 54)\n",
      "63\n",
      "2KVT\n",
      "Structure exists: 'structures/2kvt.cif' \n",
      "Getting 2KVT.pdb tensor: PREAYIVTIEKGKPGQTVTWYQLRADHPKPDSLISEHPTAQEAMDAKKRYED P1Q D52C\n",
      "Structure exists: 'structures/2kvt.cif' \n",
      "Structure sequence: MPTKPPYPREAYIVTIEKGKPGQTVTWYQLRADHPKPDSLISEHPTAQEAMDAKKRYEDPDKELEHHHHHH\n",
      "(7, 59)\n",
      "71\n",
      "2KZJ\n",
      "Structure exists: 'structures/2kzj.cif' \n",
      "Getting 2KZJ.pdb tensor: KEMRNAYWEIALLPNLNNQQKRAFIRSLYDDPSQSANLLAEAKKLNDAQA K1Q A50C\n",
      "Structure exists: 'structures/2kzj.cif' \n",
      "Structure sequence: VDNKFNKEMRNAYWEIALLPNLNNQQKRAFIRSLYDDPSQSANLLAEAKKLNDAQAPK\n",
      "(6, 56)\n",
      "58\n",
      "2L09\n",
      "Structure exists: 'structures/2l09.cif' \n",
      "Getting 2L09.pdb tensor: NLRWTSEAKTKLKNIPFFARSQAKARIEQLARQAEQDIVTPELVEQARLEFG N1Q G52C\n",
      "Structure exists: 'structures/2l09.cif' \n",
      "Structure sequence: MNLRWTSEAKTKLKNIPFFARSQAKARIEQLARQAEQDIVTPELVEQARLEFGQLEHHHHHH\n",
      "(1, 53)\n",
      "62\n",
      "2L2D\n",
      "Structure exists: 'structures/2l2d.cif' \n",
      "Getting 2L2D.pdb tensor: TLDMDAVLSDFVRSTGAEPGLARDLLEGKNWDLTAALSDYEQ T1Q Q42C\n",
      "Structure exists: 'structures/2l2d.cif' \n",
      "Structure sequence: SAECWAALLHDPMTLDMDAVLSDFVRSTGAEPGLARDLLEGKNWDLTAALSDYEQLRQVHTANLPHVFNEGRG\n",
      "(13, 55)\n",
      "73\n",
      "2L2P\n",
      "Structure exists: 'structures/2l2p.cif' \n",
      "Getting 2L2P.pdb tensor: TLFEALYDYEARTEDDLSFHKGEKFQILNSSEGDWWEVRSLTTGETGYIPSPYLA T1Q A55C\n",
      "Structure exists: 'structures/2l2p.cif' \n",
      "Structure sequence: STLFEALYDYEARTEDDLSFHKGEKFQILNSSEGDWWEVRSLTTGETGYIPSPYLA\n",
      "(1, 56)\n",
      "56\n",
      "2L6Q\n",
      "Structure exists: 'structures/2l6q.cif' \n",
      "Getting 2L6Q.pdb tensor: VRQEELAAARAALHDLMTGKRVATVQKDGRRVEFTATSVSDLKKYIAELEVQTGM V1Q M55C\n",
      "Structure exists: 'structures/2l6q.cif' \n",
      "Structure sequence: MVRQEELAAARAALHDLMTGKRVATVQKDGRRVEFTATSVSDLKKYIAELEVQTGMTQRRRG\n",
      "(1, 56)\n",
      "62\n",
      "2L7F\n",
      "Structure exists: 'structures/2l7f.cif' \n",
      "Getting 2L7F.pdb tensor: HFTSQQLQELEATFQRNRYPDMSTREEIAVWTNLTEARVRVWFKNRRAKWR H1Q R51C\n",
      "Structure exists: 'structures/2l7f.cif' \n",
      "Structure sequence: GSQRRQRTHFTSQQLQELEATFQRNRYPDMSTREEIAVWTNLTEARVRVWFKNRRAKWRKREEFIVTD\n",
      "(8, 59)\n",
      "68\n",
      "2L7M\n",
      "Structure exists: 'structures/2l7m.cif' \n",
      "Getting 2L7M.pdb tensor: THFTSQQLQELEATFQRNHYPDMSTREEIAVWTNLTEARVRVWFKNRRAKWR T1Q R52C\n",
      "Structure exists: 'structures/2l7m.cif' \n",
      "Structure sequence: GSQRRQRTHFTSQQLQELEATFQRNHYPDMSTREEIAVWTNLTEARVRVWFKNRRAKWRKREEFIVTD\n",
      "(7, 59)\n",
      "68\n",
      "2L9R\n",
      "Structure exists: 'structures/2l9r.cif' \n",
      "Getting 2L9R.pdb tensor: HSHMSHTQVIELERKFSHQKYLSAPERAHLAKNLKLTETQVKIWFQNRRYKTKRKQLSSEL H1Q L61P\n",
      "Structure exists: 'structures/2l9r.cif' \n",
      "Structure sequence: MGHHHHHHSHMSHTQVIELERKFSHQKYLSAPERAHLAKNLKLTETQVKIWFQNRRYKTKRKQLSSELG\n",
      "(7, 68)\n",
      "69\n",
      "2LCL\n",
      "2LGW\n",
      "Structure exists: 'structures/2lgw.cif' \n",
      "Getting 2LGW.pdb tensor: SYYEILDVPRSASADDIKKAYRRKALQWHPDKNPDNKEFAEKKFKEVAEAYEVLSDKHKREIYDR S1Q R65C\n",
      "Structure exists: 'structures/2lgw.cif' \n",
      "Structure sequence: MASYYEILDVPRSASADDIKKAYRRKALQWHPDKNPDNKEFAEKKFKEVAEAYEVLSDKHKREIYDRYGRE\n",
      "(2, 67)\n",
      "71\n",
      "2LHC\n",
      "Structure exists: 'structures/2lhc.cif' \n",
      "Getting 2LHC.pdb tensor: NLKQAKEEAIKELVDAGTAEKYFKLIANAKTVEGVWTLKDEIKTFT N1Q T46C\n",
      "Structure exists: 'structures/2lhc.cif' \n",
      "Structure sequence: TTYKLILNLKQAKEEAIKELVDAGTAEKYFKLIANAKTVEGVWTLKDEIKTFTVTE\n",
      "(7, 53)\n",
      "56\n",
      "2LHR\n",
      "2LJ3\n",
      "Structure exists: 'structures/2lj3.cif' \n",
      "Getting 2LJ3.pdb tensor: ETGKELVLALYDYQEKSPREVTMKKGDILTLLNSTNKDWWKVEVNDRQGFVPAAYVKKL E1Q L59C\n",
      "Structure exists: 'structures/2lj3.cif' \n",
      "Structure sequence: MDETGKELVLALYDYQEKSPREVTMKKGDILTLLNSTNKDWWKVEVNDRQGFVPAAYVKKLD\n",
      "(2, 61)\n",
      "62\n",
      "2LO1\n",
      "Structure exists: 'structures/2lo1.cif' \n",
      "Getting 2LO1.pdb tensor: TTYYDVLGVKPNATQEELKKAYRKLALKYHPDKNPNEGEKFKQISQAYEVLSDAKKRELYDKGGE T1Q E65C\n",
      "Structure exists: 'structures/2lo1.cif' \n",
      "Structure sequence: GMVKETTYYDVLGVKPNATQEELKKAYRKLALKYHPDKNPNEGEKFKQISQAYEVLSDAKKRELYDKGGEQ\n",
      "(5, 70)\n",
      "71\n",
      "2LP5\n",
      "Structure exists: 'structures/2lp5.cif' \n",
      "Getting 2LP5.pdb tensor: TLFEALYDYEARTEDDLSFHKGEKFQILNSSEGDWWEVRSLTTGETGYIPSPYLAPV T1Q V57C\n",
      "Structure exists: 'structures/2lp5.cif' \n",
      "Structure sequence: STLFEALYDYEARTEDDLSFHKGEKFQILNSSEGDWWEVRSLTTGETGYIPSPYLAPVD\n",
      "(1, 58)\n",
      "59\n",
      "2LUM\n",
      "Structure exists: 'structures/2lum.cif' \n",
      "Getting 2LUM.pdb tensor: MQYKLVINGKTLKGETTTKAVDAETAEKAFKQYANDNGVDGVWTYDDATKTFTVTE M1Q E56C\n",
      "Structure exists: 'structures/2lum.cif' \n",
      "Structure sequence: MQYKLVINGKTLKGETTTKAVDAETAEKAFKQYANDNGVDGVWTYDDATKTFTVTE\n",
      "(0, 56)\n",
      "56\n",
      "2LVN\n",
      "2LYQ\n",
      "Structure exists: 'structures/2lyq.cif' \n",
      "Getting 2LYQ.pdb tensor: IINNLKLIREKKKISQSELAALLEVSRQTINGIEKNKYNPSLQLALKIAYYLNTPLEDIFQW I1Q W62C\n",
      "Structure exists: 'structures/2lyq.cif' \n",
      "Structure sequence: MIINNLKLIREKKKISQSELAALLEVSRQTINGIEKNKYNPSLQLALKIAYYLNTPLEDIFQWQPE\n",
      "(1, 63)\n",
      "66\n",
      "2LYR\n",
      "Structure exists: 'structures/2lyr.cif' \n",
      "Getting 2LYR.pdb tensor: MIINNLKLIREKKKISQSELAALLEVSRQTINGIEKNKYNPSLQLALKIAYYLNTPLEDIFQ M1Q Q62C\n",
      "Structure exists: 'structures/2lyr.cif' \n",
      "Structure sequence: MIINNLKLIREKKKISQSELAALLEVSRQTINGIEKNKYNPSLQLALKIAYYLNTPLEDIFQWQPE\n",
      "(0, 62)\n",
      "66\n",
      "2M0C\n",
      "Structure exists: 'structures/2m0c.cif' \n",
      "Getting 2M0C.pdb tensor: TFTSYQLEELEKVFQKTHYPDVYAREQLAMRTDLTEARVQVWFQNRRA T1Q A48C\n",
      "Structure exists: 'structures/2m0c.cif' \n",
      "Structure sequence: SHMSNKGKKRRNRTTFTSYQLEELEKVFQKTHYPDVYAREQLAMRTDLTEARVQVWFQNRRAKWRKRERFGQMQQ\n",
      "(14, 62)\n",
      "75\n",
      "2M0Y\n",
      "Structure exists: 'structures/2m0y.cif' \n",
      "Getting 2M0Y.pdb tensor: WVPTKREEKYGVAFYNYDARGADELSLQIGDTVHILETYEGWYRGYTLRKKSKKGIFPASYIHLKE W1Q E66C\n",
      "Structure exists: 'structures/2m0y.cif' \n",
      "Structure sequence: MTRWVPTKREEKYGVAFYNYDARGADELSLQIGDTVHILETYEGWYRGYTLRKKSKKGIFPASYIHLKEAIVEG\n",
      "(3, 69)\n",
      "74\n",
      "2M2J\n",
      "2M2L\n",
      "Structure exists: 'structures/2m2l.cif' \n",
      "Getting 2M2L.pdb tensor: TFEVERIVRKKIVHGNTSYLVKWKNYSSKDNTWETEDDIRTKYGDLVDDFEK T1Q K52C\n",
      "Structure exists: 'structures/2m2l.cif' \n",
      "Structure sequence: MHHHHHHEVPQTFEVERIVRKKIVHGNTSYLVKWKNYSSKDNTWETEDDIRTKYGDLVDDFEKNQKK\n",
      "(11, 63)\n",
      "67\n",
      "2M6Y\n",
      "Structure exists: 'structures/2m6y.cif' \n",
      "Getting 2M6Y.pdb tensor: TTYYDVLGVKPNATQEELKKAYRKLALKYHPDKNPNEGEKFKQISQAYEVLSDAKKREL T1Q L59C\n",
      "Structure exists: 'structures/2m6y.cif' \n",
      "Structure sequence: MGHHHHHHSHMVKETTYYDVLGVKPNATQEELKKAYRKLALKYHPDKNPNEGEKFKQISQAYEVLSDAKKRELYDKG\n",
      "(14, 73)\n",
      "77\n",
      "2M8E\n",
      "Structure exists: 'structures/2m8e.cif' \n",
      "Getting 2M8E.pdb tensor: DLRKKIVDLHKSGSSLGAISKRLKVPRSSVQTIVRKYK D1Q K38P\n",
      "Structure exists: 'structures/2m8e.cif' \n",
      "Structure sequence: ASMGKSKEISQDLRKKIVDLHKSGSSLGAISKRLKVPRSSVQTIVRKYKHHGTTQHH\n",
      "(11, 49)\n",
      "57\n",
      "2M8I\n",
      "Structure exists: 'structures/2m8i.cif' \n",
      "Getting 2M8I.pdb tensor: GLEHMADEEKLPPGWEKRMSRSSGRVYYFNHITNASQWERPSG G1Q G43P\n",
      "Structure exists: 'structures/2m8i.cif' \n",
      "Structure sequence: GLEHMADEEKLPPGWEKRMSRSSGRVYYFNHITNASQWERPSG\n",
      "(0, 43)\n",
      "43\n",
      "2M8J\n",
      "Structure exists: 'structures/2m8j.cif' \n",
      "Getting 2M8J.pdb tensor: GLEHMADEEKLPPGWEKRMERSSGRVYYFNHITNASQWERPSG G1Q G43C\n",
      "Structure exists: 'structures/2m8j.cif' \n",
      "Structure sequence: GLEHMADEEKLPPGWEKRMERSSGRVYYFNHITNASQWERPSG\n",
      "(0, 43)\n",
      "43\n",
      "2M8U\n",
      "Structure exists: 'structures/2m8u.cif' \n",
      "Getting 2M8U.pdb tensor: TKAQVIEAFKVFDRDGNGYVTVDYLRKVLNELGDMMPADEIEEMIYEADPQNSGYVQYETFVGMLFL T1Q L67C\n",
      "Structure exists: 'structures/2m8u.cif' \n",
      "Structure sequence: GSHMNHINTKAQVIEAFKVFDRDGNGYVTVDYLRKVLNELGDMMPADEIEEMIYEADPQNSGYVQYETFVGMLFLWD\n",
      "(8, 75)\n",
      "77\n",
      "2MA4\n",
      "2MC5\n",
      "Structure exists: 'structures/2mc5.cif' \n",
      "Getting 2MC5.pdb tensor: EFTQISGYVNAFGSQRGSVLTVKVENDEGWTLVEEDFDRADYGSDPEFVAEVSSYLKRNGGIKDLTKVL E1Q L69P\n",
      "Structure exists: 'structures/2mc5.cif' \n",
      "Structure sequence: MNEFTQISGYVNAFGSQRGSVLTVKVENDEGWTLVEEDFDRADYGSDPEFVAEVSSYLKRNGGIKDLTKVLTR\n",
      "(2, 71)\n",
      "73\n",
      "2MCH\n",
      "2MCK\n",
      "2MH8\n",
      "Structure exists: 'structures/2mh8.cif' \n",
      "Getting 2MH8.pdb tensor: NGDKGYNGLAEAKEKAIKDLKIYGIGEHYIKLIEKAKQVAAVEDLKDEILKAHD N1Q D54C\n",
      "Structure exists: 'structures/2mh8.cif' \n",
      "Structure sequence: NGDKGYNGLAEAKEKAIKDLKIYGIGEHYIKLIEKAKQVAAVEDLKDEILKAHDRF\n",
      "(0, 54)\n",
      "56\n",
      "2MI6\n",
      "Structure exists: 'structures/2mi6.cif' \n",
      "Getting 2MI6.pdb tensor: DYEVGESVTVMDGPFATLPATISEVNAEQQKLKVLVSIFGRETPVELTFGQVSKI D1Q I55C\n",
      "Structure exists: 'structures/2mi6.cif' \n",
      "Structure sequence: GRPVVEVDYEVGESVTVMDGPFATLPATISEVNAEQQKLKVLVSIFGRETPVELTFGQVSKI\n",
      "(7, 62)\n",
      "62\n",
      "2MKY\n",
      "2MW9\n",
      "2MWA\n",
      "2MWB\n",
      "2MXD\n",
      "2MYX\n",
      "2N4R\n",
      "2N88\n",
      "2O2W\n",
      "2OCH\n",
      "Structure exists: 'structures/2och.cif' \n",
      "Getting 2OCH.pdb tensor: TGYYDVLGVKPDASDNELKKAYRKMALKFHPDKNPDGAEQFKQISQAYEVLSDEKKRQIYDQ T1Q Q62C\n",
      "Structure exists: 'structures/2och.cif' \n",
      "Structure sequence: KETGYYDVLGVKPDASDNELKKAYRKMALKFHPDKNPDGAEQFKQISQAYEVLSDEKKRQIYDQGG\n",
      "(2, 64)\n",
      "66\n",
      "2QFF\n",
      "2RJV\n",
      "2RRT\n",
      "Structure exists: 'structures/2rrt.cif' \n",
      "Getting 2RRT.pdb tensor: SEEEIREAFRVFDKDGNGYISAADLRHVMTNLGEKLTDEEVDEMIREADIDGDGQVNYEDFVQMMTA S1Q A67C\n",
      "Structure exists: 'structures/2rrt.cif' \n",
      "Structure sequence: MDTDSEEEIREAFRVFDKDGNGYISAADLRHVMTNLGEKLTDEEVDEMIREADIDGDGQVNYEDFVQMMTAK\n",
      "(4, 71)\n",
      "72\n",
      "2RRU\n",
      "Structure exists: 'structures/2rru.cif' \n",
      "Getting 2RRU.pdb tensor: RLIESLSQMLSMGFSDEGGWLTRLLQTKNYDIGAALDTIQ R1Q Q40P\n",
      "Structure exists: 'structures/2rru.cif' \n",
      "Structure sequence: GPLGSEADPRLIESLSQMLSMGFSDEGGWLTRLLQTKNYDIGAALDTIQYSKH\n",
      "(9, 49)\n",
      "53\n",
      "2WQG\n",
      "Structure exists: 'structures/2wqg.cif' \n",
      "Getting 2WQG.pdb tensor: SADYSSLTVVQLKDLLTKRNLSVGGLKNEWVQRLIKDDEES S1Q S41C\n",
      "Structure exists: 'structures/2wqg.cif' \n",
      "Structure sequence: GSADYSSLTVVQLKDLLTKRNLSVGGLKNEWVQRLIKDDEESKGESEVSPQ\n",
      "(1, 42)\n",
      "51\n",
      "2YSB\n",
      "Structure exists: 'structures/2ysb.cif' \n",
      "Getting 2YSB.pdb tensor: GEDLPLPPGWSVDWTMRGRKYYIDHNTNTTHWSHPLESGPSSG G1Q G43C\n",
      "Structure exists: 'structures/2ysb.cif' \n",
      "Structure sequence: GSSGSSGEDLPLPPGWSVDWTMRGRKYYIDHNTNTTHWSHPLESGPSSG\n",
      "(6, 49)\n",
      "49\n",
      "3CQT\n",
      "Structure exists: 'structures/3cqt.cif' \n",
      "Getting 3CQT.pdb tensor: TLFEALYDYEARTEDDLSFHKGEKFQILNSSEGDWWEARSLTTGETGYIPSIYLAPV T1Q V57C\n",
      "Structure exists: 'structures/3cqt.cif' \n",
      "Structure sequence: STLFEALYDYEARTEDDLSFHKGEKFQILNSSEGDWWEARSLTTGETGYIPSIYLAPV\n",
      "(1, 58)\n",
      "58\n",
      "3I35\n",
      "3L1X\n",
      "3MYC\n",
      "3V1A\n",
      "Structure exists: 'structures/3v1a.cif' \n",
      "Getting 3V1A.pdb tensor: GSPLAQQIKNIHSFIHQAKAAGRMDEVRTLQENLHQLMHEYFQQ G1Q Q44C\n",
      "Structure exists: 'structures/3v1a.cif' \n",
      "Structure sequence: GSGSPLAQQIKNIHSFIHQAKAAGRMDEVRTLQENLHQLMHEYFQQSD\n",
      "(2, 46)\n",
      "48\n",
      "4G3O\n",
      "4HCK\n",
      "4UZW\n",
      "Structure exists: 'structures/4uzw.cif' \n",
      "Getting 4UZW.pdb tensor: SADYSSLTVVQLKDLLTKRNLSVGGLKNELVQRLIKDDEESKGE S1Q E44C\n",
      "Structure exists: 'structures/4uzw.cif' \n",
      "Structure sequence: SADYSSLTVVQLKDLLTKRNLSVGGLKNELVQRLIKDDEESKGESEVSPQ\n",
      "(0, 44)\n",
      "50\n",
      "5AHT\n",
      "Structure exists: 'structures/5aht.cif' \n",
      "Getting 5AHT.pdb tensor: GSMEQGFLPKGWEVRHAPNGRPFFIDHNTKTTTWEDPRLKIPA G1Q A43P\n",
      "Structure exists: 'structures/5aht.cif' \n",
      "Structure sequence: GSMEQGFLPKGWEVRHAPNGRPFFIDHNTKTTTWEDPRLKIPA\n",
      "(0, 43)\n",
      "43\n",
      "5JRT\n",
      "5KPH\n",
      "Structure exists: 'structures/5kph.cif' \n",
      "Getting 5KPH.pdb tensor: EEKRQVKQVAKEKLLEQSPNSKVQVRRVQKQGNTIRVELELRTNGKKENYTVEVERQGNTWTVKRITRT E1Q T69C\n",
      "Structure exists: 'structures/5kph.cif' \n",
      "Structure sequence: MPSEEEEKRQVKQVAKEKLLEQSPNSKVQVRRVQKQGNTIRVELELRTNGKKENYTVEVERQGNTWTVKRITRTVGSLEHHHHHH\n",
      "(5, 74)\n",
      "85\n",
      "5OAO\n",
      "5UBS\n",
      "Structure exists: 'structures/5ubs.cif' \n",
      "Getting 5UBS.pdb tensor: MTFKLIINGKTLKGETTTEAVDAATAEKVFKQYFNDNGIDGEWTYDDATKTFTITE M1Q E56C\n",
      "Structure exists: 'structures/5ubs.cif' \n",
      "Structure sequence: MTFKLIINGKTLKGETTTEAVDAATAEKVFKQYFNDNGIDGEWTYDDATKTFTITE\n",
      "(0, 56)\n",
      "56\n",
      "5UCE\n",
      "Structure exists: 'structures/5uce.cif' \n",
      "Getting 5UCE.pdb tensor: MTFKAIINGKTLKGETTTEAVDAATAEKVFKQYFNDNGLDGEWTYDDATKTFTVTE M1Q E56C\n",
      "Structure exists: 'structures/5uce.cif' \n",
      "Structure sequence: MTFKAIINGKTLKGETTTEAVDAATAEKVFKQYFNDNGLDGEWTYDDATKTFTVTE\n",
      "(0, 56)\n",
      "56\n",
      "5UP5\n",
      "Structure exists: 'structures/5up5.cif' \n",
      "Getting 5UP5.pdb tensor: QTQEFDNEEEARKAEKELRKENRRVTVTQENGRWRVTWD Q1E D39P\n",
      "Structure exists: 'structures/5up5.cif' \n",
      "Structure sequence: TQTQEFDNEEEARKAEKELRKENRRVTVTQENGRWRVTWD\n",
      "(1, 40)\n",
      "40\n",
      "5UYO\n",
      "5VNT\n",
      "5Z2S\n",
      "6FVC\n",
      "Structure exists: 'structures/6fvc.cif' \n",
      "Getting 6FVC.pdb tensor: EQLARLKREFNENRYLTERRRQQLSSELGLNEAQIKIWFQNERA E1Q A44C\n",
      "Structure exists: 'structures/6fvc.cif' \n",
      "Structure sequence: GAMEKRPRTAFSSEQLARLKREFNENRYLTERRRQQLSSELGLNEAQIKIWFQNERAKIKKSGS\n",
      "(13, 57)\n",
      "64\n",
      "6IWS\n",
      "Structure exists: 'structures/6iws.cif' \n",
      "Getting 6IWS.pdb tensor: EDYYQILGVPRNASQKEIKKAYYQLAKKYHPDTNKDDPKAKEKFSQLAEAYEVLSDEVKRKQYDA E1Q A65C\n",
      "Structure exists: 'structures/6iws.cif' \n",
      "Structure sequence: HMLAKEDYYQILGVPRNASQKEIKKAYYQLAKKYHPDTNKDDPKAKEKFSQLAEAYEVLSDEVKRKQYDAYGS\n",
      "(5, 70)\n",
      "73\n",
      "6M3N\n",
      "Structure exists: 'structures/6m3n.cif' \n",
      "Getting 6M3N.pdb tensor: TFTSIVTTNPDFGGFEFYVEAGQQFDDSAYEEAYGVSVPSAVVEEMNAKAAQLKDGEWLNVSHE T1Q E64C\n",
      "Structure exists: 'structures/6m3n.cif' \n",
      "Structure sequence: MTTFTSIVTTNPDFGGFEFYVEAGQQFDDSAYEEAYGVSVPSAVVEEMNAKAAQLKDGEWLNVSHEA\n",
      "(2, 66)\n",
      "67\n",
      "6NMW\n",
      "6OBK\n",
      "Structure exists: 'structures/6obk.cif' \n",
      "Getting 6OBK.pdb tensor: NKEHILAQKEVLTPIEYEHYVKHLFDIGEITKELYIELSS N1Q S40P\n",
      "Structure exists: 'structures/6obk.cif' \n",
      "Structure sequence: MNKEHILAQKEVLTPIEYEHYVKHLFDIGEITKELYIELSSDL\n",
      "(1, 41)\n",
      "43\n",
      "6SCW\n",
      "Structure exists: 'structures/6scw.cif' \n",
      "Getting 6SCW.pdb tensor: MDETGKELVLALYDYQEKSPREVTMKKGDILTLLNSTNKDWWKVEVNDRQGFVPAAYVKKL M1Q L61C\n",
      "Structure exists: 'structures/6scw.cif' \n",
      "Structure sequence: MDETGKELVLALYDYQEKSPREVTMKKGDILTLLNSTNKDWWKVEVNDRQGFVPAAYVKKLD\n",
      "(0, 61)\n",
      "62\n",
      "6SOW\n",
      "Structure exists: 'structures/6sow.cif' \n",
      "Getting 6SOW.pdb tensor: KEQQNAFYEILHLPNLTEEQRNGFIQSLKDDPSVSKEILAEAKKLNDAQA K1Q A50C\n",
      "Structure exists: 'structures/6sow.cif' \n",
      "Structure sequence: SDNKFNKEQQNAFYEILHLPNLTEEQRNGFIQSLKDDPSVSKEILAEAKKLNDAQAPK\n",
      "(6, 56)\n",
      "58\n",
      "6YSE\n",
      "Structure exists: 'structures/6yse.cif' \n",
      "Getting 6YSE.pdb tensor: HERALMVNRLQKLTRMLRVHPDPKWKQEQQELIKRLK H1Q K37F\n",
      "Structure exists: 'structures/6yse.cif' \n",
      "Structure sequence: MKSPYEAAHERALMVNRLQKLTRMLRVHPDPKWKQEQQELIKRLKK\n",
      "(8, 45)\n",
      "46\n",
      "7BPM\n",
      "Structure exists: 'structures/7bpm.cif' \n",
      "Getting 7BPM.pdb tensor: GTEIELESKNGQREHYTATSEDEARKIIEKAVRRGIKRIELRGASEQLIRDMQEIAKQIGLQYRTDGSL G1Q L69C\n",
      "Structure exists: 'structures/7bpm.cif' \n",
      "Structure sequence: GTEIELESKNGQREHYTATSEDEARKIIEKAVRRGIKRIELRGASEQLIRDMQEIAKQIGLQYRTDGSLEHHHHHH\n",
      "(0, 69)\n",
      "76\n",
      "7JJK\n",
      "EEHE\n",
      "EEHE\n",
      "EEHE\n",
      "EEHE\n",
      "EEHE\n",
      "EEHE\n",
      "EEHE\n",
      "EEHE\n",
      "EEHE\n",
      "EEHE\n",
      "EEHE\n",
      "EEHE\n",
      "EEHE\n",
      "EEHE\n",
      "EEHE\n",
      "EEHE\n",
      "EEHE\n",
      "EEHE\n",
      "EEHE\n",
      "EEHE\n",
      "EEHE\n",
      "EEHE\n",
      "EEHE\n",
      "EEHE\n",
      "EEHE\n",
      "EEHE\n",
      "EEHE\n",
      "EEHE\n",
      "EEHE\n",
      "EHEE\n",
      "EHEE\n",
      "EHEE\n",
      "EHEE\n",
      "EHEE\n",
      "EHEE\n",
      "EHEE\n",
      "EHEE\n",
      "EHEE\n",
      "EHEE\n",
      "EHEE\n",
      "EHEE\n",
      "EHEE\n",
      "EHEE\n",
      "EHEE\n",
      "EHEE\n",
      "EHEE\n",
      "EHEE\n",
      "EHEE\n",
      "EHEE\n",
      "EHEE\n",
      "EHEE\n",
      "EHEE\n",
      "EHEE\n",
      "EHEE\n",
      "EHEE\n",
      "EHEE\n",
      "EHEE\n",
      "HEEH\n",
      "HEEH\n",
      "HEEH\n",
      "HEEH\n",
      "HEEH\n",
      "HEEH\n",
      "HEEH\n",
      "HEEH\n",
      "HEEH\n",
      "HEEH\n",
      "HHH_\n",
      "HHH_\n",
      "HHH_\n",
      "HHH_\n",
      "HHH_\n",
      "HHH_\n",
      "HHH_\n",
      "HHH_\n",
      "HHH_\n",
      "HHH_\n",
      "HHH_\n",
      "HHH_\n",
      "r10_\n",
      "r10_\n",
      "r11_\n",
      "r11_\n",
      "r11_\n",
      "r11_\n",
      "r16_\n",
      "r4_4\n",
      "r4_4\n",
      "r6_5\n",
      "r6_8\n",
      "r7_5\n",
      "v2K4\n",
      "v2_2\n",
      "v2_2\n",
      "v2_2\n",
      "v2_4\n",
      "v2_6\n",
      "1I6C\n",
      "Structure exists: 'structures/1i6c.cif' \n",
      "Getting 1I6C.pdb tensor: KLPPGWEKRMSRSSGRVYYFNHITNASQWERPSGNSSSG K1Q G39C\n",
      "Structure exists: 'structures/1i6c.cif' \n",
      "Structure sequence: KLPPGWEKRMSRSSGRVYYFNHITNASQWERPSGNSSSG\n",
      "(0, 39)\n",
      "39\n",
      "1V1C\n",
      "Structure exists: 'structures/1v1c.cif' \n",
      "Getting 1V1C.pdb tensor: FDIYVVTADYLPLGAEQDAITLREGQYVEVLDAAHPLRWLVRTKPTKSSPSRQGWVSPAYLDRRL F1Q L65C\n",
      "Structure exists: 'structures/1v1c.cif' \n",
      "Structure sequence: IFDIYVVTADYLPLGAEQDAITLREGQYVEVLDAAHPLRWLVRTKPTKSSPSRQGWVSPAYLDRRLKL\n",
      "(1, 66)\n",
      "68\n",
      "1WCL\n",
      "1WR4\n",
      "Structure exists: 'structures/1wr4.cif' \n",
      "Getting 1WR4.pdb tensor: GSPGLPSGWEERKDAKGRTYYVNHNNRTTTWTRPIM G1Q M36P\n",
      "Structure exists: 'structures/1wr4.cif' \n",
      "Structure sequence: GSPGLPSGWEERKDAKGRTYYVNHNNRTTTWTRPIM\n",
      "(0, 36)\n",
      "36\n",
      "2K5P\n",
      "Structure exists: 'structures/2k5p.cif' \n",
      "Getting 2K5P.pdb tensor: MNLTVNGKPSTVDGAESLNVTELLSALKVAQAEYVTVELNGEVLEREAFDATTVKDGDAVEFLY M1Q Y64C\n",
      "Structure exists: 'structures/2k5p.cif' \n",
      "Structure sequence: MNLTVNGKPSTVDGAESLNVTELLSALKVAQAEYVTVELNGEVLEREAFDATTVKDGDAVEFLYFMGGGKLEHHHHHH\n",
      "(0, 64)\n",
      "78\n",
      "2K9D\n",
      "2KCF\n",
      "Structure exists: 'structures/2kcf.cif' \n",
      "Getting 2KCF.pdb tensor: GSKLPPGWEKRMSRSSGRVYYFNHITNASQWERPSG G1Q G36C\n",
      "Structure exists: 'structures/2kcf.cif' \n",
      "Structure sequence: GSKLPPGWEKRMSRSSGRVYYFNHITNASQWERPSG\n",
      "(0, 36)\n",
      "36\n",
      "2LC2\n",
      "Structure exists: 'structures/2lc2.cif' \n",
      "Getting 2LC2.pdb tensor: RGFLEKAAVKKMAKAIMADPNKADEVYKKWADKGYTLTQMSNFLKSKTAGKYDRVYNGYVIHLD R1Q D64P\n",
      "Structure exists: 'structures/2lc2.cif' \n",
      "Structure sequence: GSSGSSGNVDSNQNKASMLQARLNDEAGGTRLLRVHHESDTEERGFLEKAAVKKMAKAIMADPNKADEVYKKWADKGYTLTQMSNFLKSKTAGKYDRVYNGYVIHLDY\n",
      "(43, 107)\n",
      "108\n",
      "2M9E\n",
      "Structure exists: 'structures/2m9e.cif' \n",
      "Getting 2M9E.pdb tensor: KLPPGWEKRMFANGTVYYFNHITNASQFERPS K1Q S32P\n",
      "Structure exists: 'structures/2m9e.cif' \n",
      "Structure sequence: KLPPGWEKRMFANGTVYYFNHITNASQFERPSG\n",
      "(0, 32)\n",
      "33\n",
      "2M9F\n",
      "Structure exists: 'structures/2m9f.cif' \n",
      "Getting 2M9F.pdb tensor: KLPPGWEKRMFANGTVYYFNHITNASQFERPSG K1Q G33P\n",
      "Structure exists: 'structures/2m9f.cif' \n",
      "Structure sequence: KLPPGWEKRMFANGTVYYFNHITNASQFERPSG\n",
      "(0, 33)\n",
      "33\n",
      "2M9I\n",
      "Structure exists: 'structures/2m9i.cif' \n",
      "Getting 2M9I.pdb tensor: KLPPGWEKRMFRSNGTVYYFNHITNASQFERPSG K1Q G34C\n",
      "Structure exists: 'structures/2m9i.cif' \n",
      "Structure sequence: KLPPGWEKRMFRSNGTVYYFNHITNASQFERPSG\n",
      "(0, 34)\n",
      "34\n",
      "2OP7\n",
      "Structure exists: 'structures/2op7.cif' \n",
      "Getting 2OP7.pdb tensor: NEEPLPEGWEIRYTREGVRYFVDHNTRTTTFKDPRNGKS N1Q S39C\n",
      "Structure exists: 'structures/2op7.cif' \n",
      "Structure sequence: NEEPLPEGWEIRYTREGVRYFVDHNTRTTTFKDPRNGKS\n",
      "(0, 39)\n",
      "39\n",
      "2RU9\n",
      "2WNM\n",
      "2YSF\n",
      "Structure exists: 'structures/2ysf.cif' \n",
      "Getting 2YSF.pdb tensor: GLPEGWEMRFTVDGIPYFVDHNRRTTTYIDPRTG G1Q G34P\n",
      "Structure exists: 'structures/2ysf.cif' \n",
      "Structure sequence: GSSGSSGLPEGWEMRFTVDGIPYFVDHNRRTTTYIDPRTG\n",
      "(6, 40)\n",
      "40\n",
      "3ZGK\n",
      "5LXJ\n",
      "6ACV\n",
      "Structure exists: 'structures/6acv.cif' \n",
      "Getting 6ACV.pdb tensor: VSVELPAPSSWKKLFYPNKVGSVKKTEVVFVAPTGEEISNRKQLEQYLKSHPGNPAIAEFDWTTSG V1Q G66C\n",
      "Structure exists: 'structures/6acv.cif' \n",
      "Structure sequence: MHHHHHHSSGRENLYFQGHMASGSEEEVVSVELPAPSSWKKLFYPNKVGSVKKTEVVFVAPTGEEISNRKQLEQYLKSHPGNPAIAEFDWTTSGT\n",
      "(28, 94)\n",
      "95\n",
      "HEEH\n",
      "HEEH\n",
      "HHH_\n",
      "HHH_\n",
      "HHH_\n",
      "HHH_\n",
      "HHH_\n",
      "r10_\n",
      "r11_\n",
      "r15_\n",
      "r3_1\n",
      "v2_2\n",
      "v2_2\n",
      "1GYZ\n",
      "1PSE\n",
      "Structure exists: 'structures/1pse.cif' \n",
      "Getting 1PSE.pdb tensor: AIERGSKVKILRKESYWYGDVGTVASIDKSGIIYPVIVRFNKVNYNGFSGSAGGLNTNNFAEHELEVV A1Q V68C\n",
      "Structure exists: 'structures/1pse.cif' \n",
      "Structure sequence: AIERGSKVKILRKESYWYGDVGTVASIDKSGIIYPVIVRFNKVNYNGFSGSAGGLNTNNFAEHELEVVG\n",
      "(0, 68)\n",
      "69\n",
      "1QKH\n",
      "1QP2\n",
      "1TUC\n",
      "1W4H\n",
      "2BTH\n",
      "2K1B\n",
      "Structure exists: 'structures/2k1b.cif' \n",
      "Getting 2K1B.pdb tensor: FAVESIRKKRVRKGKVEYLVKWKGWPPKYSTWEPEEHILDPRLVMAYEE F1Q E49C\n",
      "Structure exists: 'structures/2k1b.cif' \n",
      "Structure sequence: EQVFAVESIRKKRVRKGKVEYLVKWKGWPPKYSTWEPEEHILDPRLVMAYEEKEE\n",
      "(3, 52)\n",
      "55\n",
      "2K28\n",
      "Structure exists: 'structures/2k28.cif' \n",
      "Getting 2K28.pdb tensor: AVESIEKKRIRKGRVEYLVKWRGWSPKYNTWEPEENILDPRLLIAFQNRE A1Q E50P\n",
      "Structure exists: 'structures/2k28.cif' \n",
      "Structure sequence: GSEHVFAVESIEKKRIRKGRVEYLVKWRGWSPKYNTWEPEENILDPRLLIAFQNRERQEQ\n",
      "(6, 56)\n",
      "60\n",
      "2K5H\n",
      "Structure exists: 'structures/2k5h.cif' \n",
      "Getting 2K5H.pdb tensor: AVSDRLIGRKGVVMEAISPQNSGLVKVDGETWRATSGTVLDVGEEVSVKAIEGVKLVVEKLE A1Q E62C\n",
      "Structure exists: 'structures/2k5h.cif' \n",
      "Structure sequence: MGSSHHHHHHSSGRENLYFQGHMAARITGEPSKKAVSDRLIGRKGVVMEAISPQNSGLVKVDGETWRATSGTVLDVGEEVSVKAIEGVKLVVEKLEEQKGS\n",
      "(34, 96)\n",
      "101\n",
      "2KVS\n",
      "Structure exists: 'structures/2kvs.cif' \n",
      "Getting 2KVS.pdb tensor: TFYNFIMGFQNDNTPFGILAEHVSEDKAFPRLEERHQVIRAYVMSNYTDHQLIETTNRAISLYMANL T1Q L67C\n",
      "Structure exists: 'structures/2kvs.cif' \n",
      "Structure sequence: MAGDPMTFYNFIMGFQNDNTPFGILAEHVSEDKAFPRLEERHQVIRAYVMSNYTDHQLIETTNRAISLYMANLEHHHHHH\n",
      "(6, 73)\n",
      "80\n",
      "2KWH\n",
      "2KXD\n",
      "Structure exists: 'structures/2kxd.cif' \n",
      "Getting 2KXD.pdb tensor: GAPPLPPYSAGGREVTMKKGDILTLLNSTNKDWWKVEVNDRQGFVPAAYVKKLDSGTGKELVLALYDYQEK G1Q K71C\n",
      "Structure exists: 'structures/2kxd.cif' \n",
      "Structure sequence: MGAPPLPPYSAGGREVTMKKGDILTLLNSTNKDWWKVEVNDRQGFVPAAYVKKLDSGTGKELVLALYDYQEKS\n",
      "(1, 72)\n",
      "73\n",
      "2L33\n",
      "Structure exists: 'structures/2l33.cif' \n",
      "Getting 2L33.pdb tensor: MLTKHGKNPVMELNEKRRGLKYELISETGGSHDKRFVMEVEVDGQKFQGAGSNKKVAKAYAALAALEKLFP M1Q P71C\n",
      "Structure exists: 'structures/2l33.cif' \n",
      "Structure sequence: MGHHHHHHSHMLTKHGKNPVMELNEKRRGLKYELISETGGSHDKRFVMEVEVDGQKFQGAGSNKKVAKAYAALAALEKLFPDTPLALDANK\n",
      "(10, 81)\n",
      "91\n",
      "2LQK\n",
      "Structure exists: 'structures/2lqk.cif' \n",
      "Getting 2LQK.pdb tensor: KEFRPGDKVVLPPYGVGVVAGIAQRSVSGVSRAYYQVDFPGSRSKAYVPVEAPHSVGLRKAL K1Q L62C\n",
      "Structure exists: 'structures/2lqk.cif' \n",
      "Structure sequence: AGHMKEFRPGDKVVLPPYGVGVVAGIAQRSVSGVSRAYYQVDFPGSRSKAYVPVEAPHSVGLRKALAPEE\n",
      "(4, 66)\n",
      "70\n",
      "2WXC\n",
      "3DKM\n",
      "4C26\n",
      "6EWS\n",
      "Structure exists: 'structures/6ews.cif' \n",
      "Getting 6EWS.pdb tensor: KNAAQIVDEALNQGITLFVADNRLQYETSRDNIPEELLNEWKYYRQDLIDFLQQLD K1Q D56C\n",
      "Structure exists: 'structures/6ews.cif' \n",
      "Structure sequence: MKNAAQIVDEALNQGITLFVADNRLQYETSRDNIPEELLNEWKYYRQDLIDFLQQLDAKEETQ\n",
      "(1, 57)\n",
      "63\n",
      "6EWT\n",
      "Structure exists: 'structures/6ewt.cif' \n",
      "Getting 6EWT.pdb tensor: KNAAKIVNEALNQGITLFVSDNKLKYKTNRDSIPSELLEEWKQHKQELIDFLTQLES K1Q S57C\n",
      "Structure exists: 'structures/6ewt.cif' \n",
      "Structure sequence: MKNAAKIVNEALNQGITLFVSDNKLKYKTNRDSIPSELLEEWKQHKQELIDFLTQLESEEES\n",
      "(1, 58)\n",
      "62\n",
      "6EWU\n",
      "Structure exists: 'structures/6ewu.cif' \n",
      "Getting 6EWU.pdb tensor: IDAAQIVDEALEQGITLFVVNNRLQYETSRDSIPTELLNKWKQHKQELIDFLNQLD I1Q D56C\n",
      "Structure exists: 'structures/6ewu.cif' \n",
      "Structure sequence: GIDAAQIVDEALEQGITLFVVNNRLQYETSRDSIPTELLNKWKQHKQELIDFLNQLDSEEQTK\n",
      "(1, 57)\n",
      "63\n",
      "HEEH\n",
      "HEEH\n",
      "HHH_\n",
      "HHH_\n",
      "r11_\n",
      "r12_\n",
      "r18_\n"
     ]
    }
   ],
   "source": [
    "# usage\n",
    "dataset_train = SequenceData('project_data/project_data/mega_train.csv')\n",
    "dataset_val= SequenceData('project_data/project_data/mega_val.csv')\n",
    "dataset_test = SequenceData('project_data/project_data/mega_test.csv')\n",
    "\n",
    "# use batch_size=1 bc we treat each sequence as one batch\n",
    "dataloader_val = DataLoader(dataset_val, batch_size=1, shuffle=False)\n",
    "dataloader_train = DataLoader(dataset_train, batch_size=1, shuffle=True)\n",
    "dataloader_test = DataLoader(dataset_test, batch_size=1, shuffle=False)"
   ]
  },
  {
   "cell_type": "code",
   "execution_count": 296,
   "metadata": {
    "tags": []
   },
   "outputs": [
    {
     "name": "stdout",
     "output_type": "stream",
     "text": [
      "tensor([[1.0000, 0.0000, 0.0000, 0.0000, 0.0000, 0.0000, 0.0000, 0.0000, 0.0000,\n",
      "         0.0000, 0.0000, 0.0000, 0.0000, 0.0000, 0.0000, 0.0000, 0.0000, 0.0000,\n",
      "         0.0000, 0.0000],\n",
      "        [0.0000, 1.0000, 0.0000, 0.0000, 0.0000, 0.0000, 0.0000, 0.0000, 0.0000,\n",
      "         0.0000, 0.0000, 0.0000, 0.0000, 0.0000, 0.0000, 0.0000, 0.0000, 0.0000,\n",
      "         0.0000, 0.0000],\n",
      "        [0.0000, 0.0000, 1.0000, 0.0000, 0.0000, 0.0000, 0.0000, 0.0000, 0.0000,\n",
      "         0.0000, 0.0000, 0.0000, 0.0000, 0.0000, 0.0000, 0.0000, 0.0000, 0.0000,\n",
      "         0.0000, 0.0000],\n",
      "        [0.0000, 0.0000, 0.0000, 1.0000, 0.0000, 0.0000, 0.0000, 0.0000, 0.0000,\n",
      "         0.0000, 0.0000, 0.0000, 0.0000, 0.0000, 0.0000, 0.0000, 0.0000, 0.0000,\n",
      "         0.0000, 0.0000],\n",
      "        [0.0000, 0.0000, 0.0000, 0.0000, 1.0000, 0.0000, 0.0000, 0.0000, 0.0000,\n",
      "         0.0000, 0.0000, 0.0000, 0.0000, 0.0000, 0.0000, 0.0000, 0.0000, 0.0000,\n",
      "         0.0000, 0.0000],\n",
      "        [0.0000, 0.0000, 0.0000, 0.0000, 0.0000, 1.0000, 0.0000, 0.0000, 0.0000,\n",
      "         0.0000, 0.0000, 0.0000, 0.0000, 0.0000, 0.0000, 0.0000, 0.0000, 0.0000,\n",
      "         0.0000, 0.0000],\n",
      "        [0.0000, 0.0000, 0.0000, 0.0000, 0.0000, 0.0000, 1.0000, 0.0000, 0.0000,\n",
      "         0.0000, 0.0000, 0.0000, 0.0000, 0.0000, 0.0000, 0.0000, 0.0000, 0.0000,\n",
      "         0.0000, 0.0000],\n",
      "        [0.0000, 0.0000, 0.0000, 0.0000, 0.0000, 0.0000, 0.0000, 1.0000, 0.0000,\n",
      "         0.0000, 0.0000, 0.0000, 0.0000, 0.0000, 0.0000, 0.0000, 0.0000, 0.0000,\n",
      "         0.0000, 0.0000],\n",
      "        [0.0000, 0.0000, 0.0000, 0.0000, 0.0000, 0.0000, 0.0000, 0.0000, 1.0000,\n",
      "         0.0000, 0.0000, 0.0000, 0.0000, 0.0000, 0.0000, 0.0000, 0.0000, 0.0000,\n",
      "         0.0000, 0.0000],\n",
      "        [0.0000, 0.0000, 0.0000, 0.0000, 0.0000, 0.0000, 0.0000, 0.0000, 0.0000,\n",
      "         1.0000, 0.0000, 0.0000, 0.0000, 0.0000, 0.0000, 0.0000, 0.0000, 0.0000,\n",
      "         0.0000, 0.0000],\n",
      "        [0.0000, 0.0000, 0.0000, 0.0000, 0.0000, 0.0000, 0.0000, 0.0000, 0.0000,\n",
      "         0.0000, 1.0000, 0.0000, 0.0000, 0.0000, 0.0000, 0.0000, 0.0000, 0.0000,\n",
      "         0.0000, 0.0000],\n",
      "        [0.0000, 0.0000, 0.0000, 0.0000, 0.0000, 0.0000, 0.0000, 0.0000, 0.0000,\n",
      "         0.0000, 0.0000, 1.0000, 0.0000, 0.0000, 0.0000, 0.0000, 0.0000, 0.0000,\n",
      "         0.0000, 0.0000],\n",
      "        [0.0000, 0.0000, 0.0000, 0.0000, 0.0000, 0.0000, 0.0000, 0.0000, 0.0000,\n",
      "         0.0000, 0.0000, 0.0000, 1.0000, 0.0000, 0.0000, 0.0000, 0.0000, 0.0000,\n",
      "         0.0000, 0.0000],\n",
      "        [0.0000, 0.0000, 0.0000, 0.0000, 0.0000, 0.0000, 0.0000, 0.0000, 0.0000,\n",
      "         0.0000, 0.0000, 0.0000, 0.0000, 1.0000, 0.0000, 0.0000, 0.0000, 0.0000,\n",
      "         0.0000, 0.0000],\n",
      "        [0.0000, 0.0000, 0.0000, 0.0000, 0.0000, 0.0000, 0.0000, 0.0000, 0.0000,\n",
      "         0.0000, 0.0000, 0.0000, 0.0000, 0.0000, 1.0000, 0.0000, 0.0000, 0.0000,\n",
      "         0.0000, 0.0000],\n",
      "        [0.0000, 0.0000, 0.0000, 0.0000, 0.0000, 0.0000, 0.0000, 0.0000, 0.0000,\n",
      "         0.0000, 0.0000, 0.0000, 0.0000, 0.0000, 0.0000, 1.0000, 0.0000, 0.0000,\n",
      "         0.0000, 0.0000],\n",
      "        [0.0000, 0.0000, 0.0000, 0.0000, 0.0000, 0.0000, 0.0000, 0.0000, 0.0000,\n",
      "         0.0000, 0.0000, 0.0000, 0.0000, 0.0000, 0.0000, 0.0000, 1.0000, 0.0000,\n",
      "         0.0000, 0.0000],\n",
      "        [0.0000, 0.0000, 0.0000, 0.0000, 0.0000, 0.0000, 0.0000, 0.0000, 0.0000,\n",
      "         0.0000, 0.0000, 0.0000, 0.0000, 0.0000, 0.0000, 0.0000, 0.0000, 1.0000,\n",
      "         0.0000, 0.0000],\n",
      "        [0.0000, 0.0000, 0.0000, 0.0000, 0.0000, 0.0000, 0.0000, 0.0000, 0.0000,\n",
      "         0.0000, 0.0000, 0.0000, 0.0000, 0.0000, 0.0000, 0.0000, 0.0000, 0.0000,\n",
      "         1.0000, 0.0000],\n",
      "        [0.0000, 0.0000, 0.0000, 0.0000, 0.0000, 0.0000, 0.0000, 0.0000, 0.0000,\n",
      "         0.0000, 0.0000, 0.0000, 0.0000, 0.0000, 0.0000, 0.0000, 0.0000, 0.0000,\n",
      "         0.0000, 1.0000],\n",
      "        [0.0000, 0.0000, 0.0000, 0.0000, 0.0000, 0.0000, 0.0000, 0.0000, 0.0000,\n",
      "         0.0000, 0.0000, 0.0000, 3.7795, 0.0000, 0.0000, 0.0000, 0.0000, 0.0000,\n",
      "         0.0000, 0.0000],\n",
      "        [0.0000, 0.0000, 0.0000, 0.0000, 0.0000, 0.0000, 0.0000, 0.0000, 0.0000,\n",
      "         0.0000, 0.0000, 0.0000, 0.0000, 0.0000, 0.0000, 0.0000, 3.7948, 0.0000,\n",
      "         0.0000, 0.0000],\n",
      "        [0.0000, 0.0000, 0.0000, 0.0000, 0.0000, 0.0000, 0.0000, 0.0000, 0.0000,\n",
      "         0.0000, 0.0000, 0.0000, 0.0000, 6.3931, 0.0000, 0.0000, 0.0000, 0.0000,\n",
      "         0.0000, 0.0000],\n",
      "        [0.0000, 0.0000, 0.0000, 0.0000, 0.0000, 0.0000, 0.0000, 0.0000, 0.0000,\n",
      "         0.0000, 0.0000, 0.0000, 0.0000, 0.0000, 6.4193, 0.0000, 0.0000, 0.0000,\n",
      "         0.0000, 0.0000],\n",
      "        [6.7197, 0.0000, 0.0000, 0.0000, 0.0000, 0.0000, 0.0000, 0.0000, 0.0000,\n",
      "         0.0000, 0.0000, 0.0000, 0.0000, 0.0000, 0.0000, 0.0000, 0.0000, 0.0000,\n",
      "         0.0000, 0.0000],\n",
      "        [0.0000, 0.0000, 0.0000, 0.0000, 0.0000, 0.0000, 0.0000, 7.7964, 0.0000,\n",
      "         0.0000, 0.0000, 0.0000, 0.0000, 0.0000, 0.0000, 0.0000, 0.0000, 0.0000,\n",
      "         0.0000, 0.0000],\n",
      "        [0.0000, 0.0000, 0.0000, 0.0000, 0.0000, 0.0000, 0.0000, 0.0000, 0.0000,\n",
      "         0.0000, 0.0000, 0.0000, 0.0000, 0.0000, 0.0000, 0.0000, 0.0000, 0.0000,\n",
      "         8.2042, 0.0000],\n",
      "        [0.0000, 0.0000, 0.0000, 0.0000, 8.8202, 0.0000, 0.0000, 0.0000, 0.0000,\n",
      "         0.0000, 0.0000, 0.0000, 0.0000, 0.0000, 0.0000, 0.0000, 0.0000, 0.0000,\n",
      "         0.0000, 0.0000],\n",
      "        [9.1047, 0.0000, 0.0000, 0.0000, 0.0000, 0.0000, 0.0000, 0.0000, 0.0000,\n",
      "         0.0000, 0.0000, 0.0000, 0.0000, 0.0000, 0.0000, 0.0000, 0.0000, 0.0000,\n",
      "         0.0000, 0.0000],\n",
      "        [0.0000, 0.0000, 0.0000, 0.0000, 0.0000, 0.0000, 0.0000, 0.0000, 0.0000,\n",
      "         0.0000, 0.0000, 0.0000, 0.0000, 0.0000, 0.0000, 0.0000, 0.0000, 0.0000,\n",
      "         0.0000, 0.0000]])\n",
      "torch.Size([1, 48, 20])\n"
     ]
    }
   ],
   "source": [
    "print(dataset_train.__getitem__(3)[\"sequence\"][0]) # 5x618x1x20\n",
    "print(dataset_train.__getitem__(3)[\"labels\"].shape)"
   ]
  },
  {
   "cell_type": "code",
   "execution_count": 297,
   "metadata": {
    "tags": []
   },
   "outputs": [
    {
     "name": "stdout",
     "output_type": "stream",
     "text": [
      "torch.Size([1, 41, 30, 20]) torch.Size([1, 41, 600]) torch.Size([1, 41, 20])\n"
     ]
    }
   ],
   "source": [
    "#dataloader_test.dataset\n",
    "batch = next(iter(dataloader_train))\n",
    "x = batch[\"sequence\"]\n",
    "y = batch[\"labels\"].squeeze(1).shape\n",
    "\n",
    "\n",
    "\n",
    "print(x.shape, x.reshape((1, x.shape[1], -1)).shape, y)"
   ]
  },
  {
   "cell_type": "code",
   "execution_count": 298,
   "metadata": {
    "tags": []
   },
   "outputs": [],
   "source": [
    "def get_conv2d_out_shape(tensor_shape, conv, pool=2):\n",
    "    # return the new shape of the tensor after a convolution and pooling\n",
    "    # tensor_shape: (channels, height, width)\n",
    "    # convolution arguments\n",
    "    kernel_size = conv.kernel_size\n",
    "    stride=conv.stride # 2D array\n",
    "    padding=conv.padding # 2D array\n",
    "    dilation=conv.dilation # 2D array\n",
    "    out_channels = conv.out_channels\n",
    "\n",
    "    height_out = np.floor((tensor_shape[1]+2*padding[0]-dilation[0]*(kernel_size[0]-1)-1)/stride[0]+1)\n",
    "    width_out = np.floor((tensor_shape[2]+2*padding[1]-dilation[1]*(kernel_size[1]-1)-1)/stride[1]+1)\n",
    "    \n",
    "    if pool:\n",
    "        # adjust dimensions to pooling\n",
    "        height_out/=pool\n",
    "        width_out/=pool\n",
    "        \n",
    "    return int(out_channels),int(height_out),int(width_out)"
   ]
  },
  {
   "cell_type": "code",
   "execution_count": 299,
   "metadata": {
    "tags": []
   },
   "outputs": [],
   "source": [
    "# your code\n",
    "class linModel(nn.Module):\n",
    "    \n",
    "    # Network Initialisation\n",
    "    def __init__(self, params):\n",
    "        \n",
    "        super(linModel, self).__init__() #initialize parent pytorch module\n",
    "\n",
    "        # read parameters\n",
    "        inputSize = params[\"inputShape\"]\n",
    "        \n",
    "        self.dropout = nn.Dropout(0.3)\n",
    "        #self.pool = nn.MaxPool1d(2)\n",
    "        \n",
    "        #print(inputShape)\n",
    "        \n",
    "        # Input shape = length * 20*5*20\n",
    "        \n",
    "        \n",
    "        \n",
    "        # Output shape = length * 20*5*20\n",
    "        # Input shape = length * 20*5*20\n",
    "        \n",
    "        self.conv1 = nn.Conv2d(1, 1, kernel_size= 10, padding= 0) #(kernel_size-1)/2\n",
    "        #current_data_shape = get_conv2d_out_shape((1, length, 20*5*20), self.conv1, pool=0)\n",
    "        \n",
    "        # Output shape = length * 20*5*20\n",
    "        # Input shape = length * 20*5*20\n",
    "        self.fc1 = nn.Linear(inputSize[1]*inputSize[2], 300)\n",
    "        \n",
    "        self.fc2 = nn.Linear(inputSize[1]*inputSize[2], 300)\n",
    "\n",
    "        self.fc3 = nn.Linear(300, 20)\n",
    "        \n",
    "\n",
    "        #self.conv2 = nn.Conv1d(1, s1, kernel_size= 30, padding= 0)\n",
    "\n",
    "    def forward(self,X):\n",
    "        # our network's forward pass\n",
    "        \n",
    "        X = X.reshape((X.shape[0], -1))\n",
    "        \n",
    "        X = F.sigmoid(self.fc1(X))\n",
    "        X = self.dropout(X)\n",
    "        #X = F.sigmoid(self.conv1(X))\n",
    "        #X = self.dropout(X)\n",
    "        X = self.fc3(X)\n",
    "\n",
    "        return X"
   ]
  },
  {
   "cell_type": "code",
   "execution_count": null,
   "metadata": {},
   "outputs": [],
   "source": []
  },
  {
   "cell_type": "code",
   "execution_count": 300,
   "metadata": {
    "tags": []
   },
   "outputs": [],
   "source": [
    "class LitMRIModel(L.LightningModule):\n",
    "    def __init__(self, model, learning_rate=1e-3):\n",
    "        super().__init__()\n",
    "        ######## TODO ##########\n",
    "        # pass our model \n",
    "        self.model = model\n",
    "        #pass the learning rate\n",
    "        self.lr = learning_rate\n",
    "        # define loss function\n",
    "        self.loss_function = nn.MSELoss() #TODO\n",
    "        # define accuracy metric (torchmetrics)\n",
    "        #self.accuracy = torchmetrics.classification.Accuracy(task=\"multiclass\", num_classes=2)\n",
    "        ########################\n",
    "\n",
    "    def training_step(self, batch, batch_idx):\n",
    "        # training_step defines the train loop.\n",
    "\n",
    "        x = batch[\"sequence\"][0]\n",
    "        y = batch[\"labels\"].squeeze(1)[0]\n",
    "\n",
    "        # run data through model\n",
    "        predictions = self.model(x)\n",
    "        #print(predictions.shape)\n",
    "\n",
    "        # compute loss\n",
    "        loss = self.loss_function(predictions, y)\n",
    "        ##############################\n",
    "\n",
    "        # logging the values (will appear in progress bar and on dashboard)\n",
    "        self.log(\"train_loss\", loss, on_epoch=True, prog_bar=True)\n",
    "\n",
    "        return loss\n",
    "\n",
    "    def configure_optimizers(self):\n",
    "        ############## TODO ################\n",
    "        # define the optimizer, let's use Adam\n",
    "        optimizer = torch.optim.Adam(self.parameters(), lr=self.lr)\n",
    "        ####################################\n",
    "        return optimizer\n",
    "\n",
    "    def test_step(self, batch, batch_idx):\n",
    "        # this is the test loop\n",
    "\n",
    "        ############### TODO #############\n",
    "        # read from batch\n",
    "        x = batch[\"sequence\"][0]\n",
    "        y = batch[\"labels\"].squeeze(1)[0]\n",
    "\n",
    "        # run data through model\n",
    "        predictions = self.model(x)\n",
    "        #print(predictions.shape)\n",
    "\n",
    "        # compute loss\n",
    "        loss = self.loss_function(predictions, y)\n",
    "        ##############################\n",
    "\n",
    "        # logging\n",
    "        self.log(\"test_loss\", loss, prog_bar=True)\n",
    "        return loss#, acc\n",
    "\n",
    "\n",
    "    def validation_step(self, batch, batch_idx):\n",
    "        # this is the validation loop\n",
    "        ############### TODO #############\n",
    "        # read from batch\n",
    "        x = batch[\"sequence\"][0]\n",
    "        y = batch[\"labels\"].squeeze(1)[0]\n",
    "\n",
    "        # run data through model\n",
    "        predictions = self.model(x)\n",
    "        #print(predictions.shape)\n",
    "\n",
    "        # compute loss\n",
    "        loss = self.loss_function(predictions, y)\n",
    "        ##############################\n",
    "\n",
    "        # logging\n",
    "        self.log(\"val_loss\", loss, on_epoch=True, prog_bar=True)\n",
    "        #self.log(\"val_acc\", acc, on_epoch=True, prog_bar=True)\n",
    "        return loss "
   ]
  },
  {
   "cell_type": "code",
   "execution_count": 308,
   "metadata": {
    "tags": []
   },
   "outputs": [],
   "source": [
    "# define parameters\n",
    "# the last dimension of the input tensor will equal in_features of the linear layer\n",
    "nClosestAAs = 5\n",
    "seq_len = 20\n",
    "params_model={\n",
    "    \"inputShape\": dataset_train.__getitem__(3)[\"sequence\"].shape#nClosestAAs*len(aa_alphabet)*seq_len\n",
    "}\n",
    "\n",
    "# define computation hardware approach (GPU/CPU)\n",
    "device = torch.device('cuda' if torch.cuda.is_available() else 'cpu')\n",
    "# Instantiate the model\n",
    "cnn_model = linModel(params_model)\n",
    "# moves the model to GPU if available\n",
    "cnn_model = cnn_model.to(device)\n",
    "\n",
    "#channel, batch, weight\n",
    "#inputShape (1, 1024, 768)"
   ]
  },
  {
   "cell_type": "code",
   "execution_count": 309,
   "metadata": {
    "tags": []
   },
   "outputs": [
    {
     "name": "stderr",
     "output_type": "stream",
     "text": [
      "GPU available: True (cuda), used: True\n",
      "TPU available: False, using: 0 TPU cores\n",
      "IPU available: False, using: 0 IPUs\n",
      "HPU available: False, using: 0 HPUs\n",
      "LOCAL_RANK: 0 - CUDA_VISIBLE_DEVICES: [0]\n",
      "\n",
      "  | Name          | Type     | Params\n",
      "-------------------------------------------\n",
      "0 | model         | linModel | 366 K \n",
      "1 | loss_function | MSELoss  | 0     \n",
      "-------------------------------------------\n",
      "366 K     Trainable params\n",
      "0         Non-trainable params\n",
      "366 K     Total params\n",
      "1.467     Total estimated model params size (MB)\n"
     ]
    },
    {
     "data": {
      "application/vnd.jupyter.widget-view+json": {
       "model_id": "",
       "version_major": 2,
       "version_minor": 0
      },
      "text/plain": [
       "Sanity Checking: |                                        | 0/? [00:00<?, ?it/s]"
      ]
     },
     "metadata": {},
     "output_type": "display_data"
    },
    {
     "name": "stderr",
     "output_type": "stream",
     "text": [
      "/home/course/anaconda3/lib/python3.11/site-packages/lightning/pytorch/trainer/connectors/data_connector.py:441: The 'val_dataloader' does not have many workers which may be a bottleneck. Consider increasing the value of the `num_workers` argument` to `num_workers=15` in the `DataLoader` to improve performance.\n",
      "/home/course/anaconda3/lib/python3.11/site-packages/lightning/pytorch/trainer/connectors/data_connector.py:441: The 'train_dataloader' does not have many workers which may be a bottleneck. Consider increasing the value of the `num_workers` argument` to `num_workers=15` in the `DataLoader` to improve performance.\n"
     ]
    },
    {
     "data": {
      "application/vnd.jupyter.widget-view+json": {
       "model_id": "d090d3cb459c4cecb6d4274681e7405a",
       "version_major": 2,
       "version_minor": 0
      },
      "text/plain": [
       "Training: |                                               | 0/? [00:00<?, ?it/s]"
      ]
     },
     "metadata": {},
     "output_type": "display_data"
    },
    {
     "data": {
      "application/vnd.jupyter.widget-view+json": {
       "model_id": "",
       "version_major": 2,
       "version_minor": 0
      },
      "text/plain": [
       "Validation: |                                             | 0/? [00:00<?, ?it/s]"
      ]
     },
     "metadata": {},
     "output_type": "display_data"
    },
    {
     "data": {
      "application/vnd.jupyter.widget-view+json": {
       "model_id": "",
       "version_major": 2,
       "version_minor": 0
      },
      "text/plain": [
       "Validation: |                                             | 0/? [00:00<?, ?it/s]"
      ]
     },
     "metadata": {},
     "output_type": "display_data"
    },
    {
     "data": {
      "application/vnd.jupyter.widget-view+json": {
       "model_id": "",
       "version_major": 2,
       "version_minor": 0
      },
      "text/plain": [
       "Validation: |                                             | 0/? [00:00<?, ?it/s]"
      ]
     },
     "metadata": {},
     "output_type": "display_data"
    },
    {
     "data": {
      "application/vnd.jupyter.widget-view+json": {
       "model_id": "",
       "version_major": 2,
       "version_minor": 0
      },
      "text/plain": [
       "Validation: |                                             | 0/? [00:00<?, ?it/s]"
      ]
     },
     "metadata": {},
     "output_type": "display_data"
    },
    {
     "data": {
      "application/vnd.jupyter.widget-view+json": {
       "model_id": "",
       "version_major": 2,
       "version_minor": 0
      },
      "text/plain": [
       "Validation: |                                             | 0/? [00:00<?, ?it/s]"
      ]
     },
     "metadata": {},
     "output_type": "display_data"
    },
    {
     "data": {
      "application/vnd.jupyter.widget-view+json": {
       "model_id": "",
       "version_major": 2,
       "version_minor": 0
      },
      "text/plain": [
       "Validation: |                                             | 0/? [00:00<?, ?it/s]"
      ]
     },
     "metadata": {},
     "output_type": "display_data"
    },
    {
     "data": {
      "application/vnd.jupyter.widget-view+json": {
       "model_id": "",
       "version_major": 2,
       "version_minor": 0
      },
      "text/plain": [
       "Validation: |                                             | 0/? [00:00<?, ?it/s]"
      ]
     },
     "metadata": {},
     "output_type": "display_data"
    },
    {
     "data": {
      "application/vnd.jupyter.widget-view+json": {
       "model_id": "",
       "version_major": 2,
       "version_minor": 0
      },
      "text/plain": [
       "Validation: |                                             | 0/? [00:00<?, ?it/s]"
      ]
     },
     "metadata": {},
     "output_type": "display_data"
    },
    {
     "data": {
      "application/vnd.jupyter.widget-view+json": {
       "model_id": "",
       "version_major": 2,
       "version_minor": 0
      },
      "text/plain": [
       "Validation: |                                             | 0/? [00:00<?, ?it/s]"
      ]
     },
     "metadata": {},
     "output_type": "display_data"
    },
    {
     "data": {
      "application/vnd.jupyter.widget-view+json": {
       "model_id": "",
       "version_major": 2,
       "version_minor": 0
      },
      "text/plain": [
       "Validation: |                                             | 0/? [00:00<?, ?it/s]"
      ]
     },
     "metadata": {},
     "output_type": "display_data"
    },
    {
     "data": {
      "application/vnd.jupyter.widget-view+json": {
       "model_id": "",
       "version_major": 2,
       "version_minor": 0
      },
      "text/plain": [
       "Validation: |                                             | 0/? [00:00<?, ?it/s]"
      ]
     },
     "metadata": {},
     "output_type": "display_data"
    },
    {
     "data": {
      "application/vnd.jupyter.widget-view+json": {
       "model_id": "",
       "version_major": 2,
       "version_minor": 0
      },
      "text/plain": [
       "Validation: |                                             | 0/? [00:00<?, ?it/s]"
      ]
     },
     "metadata": {},
     "output_type": "display_data"
    },
    {
     "data": {
      "application/vnd.jupyter.widget-view+json": {
       "model_id": "",
       "version_major": 2,
       "version_minor": 0
      },
      "text/plain": [
       "Validation: |                                             | 0/? [00:00<?, ?it/s]"
      ]
     },
     "metadata": {},
     "output_type": "display_data"
    },
    {
     "data": {
      "application/vnd.jupyter.widget-view+json": {
       "model_id": "",
       "version_major": 2,
       "version_minor": 0
      },
      "text/plain": [
       "Validation: |                                             | 0/? [00:00<?, ?it/s]"
      ]
     },
     "metadata": {},
     "output_type": "display_data"
    },
    {
     "data": {
      "application/vnd.jupyter.widget-view+json": {
       "model_id": "",
       "version_major": 2,
       "version_minor": 0
      },
      "text/plain": [
       "Validation: |                                             | 0/? [00:00<?, ?it/s]"
      ]
     },
     "metadata": {},
     "output_type": "display_data"
    },
    {
     "data": {
      "application/vnd.jupyter.widget-view+json": {
       "model_id": "",
       "version_major": 2,
       "version_minor": 0
      },
      "text/plain": [
       "Validation: |                                             | 0/? [00:00<?, ?it/s]"
      ]
     },
     "metadata": {},
     "output_type": "display_data"
    },
    {
     "data": {
      "application/vnd.jupyter.widget-view+json": {
       "model_id": "",
       "version_major": 2,
       "version_minor": 0
      },
      "text/plain": [
       "Validation: |                                             | 0/? [00:00<?, ?it/s]"
      ]
     },
     "metadata": {},
     "output_type": "display_data"
    },
    {
     "data": {
      "application/vnd.jupyter.widget-view+json": {
       "model_id": "",
       "version_major": 2,
       "version_minor": 0
      },
      "text/plain": [
       "Validation: |                                             | 0/? [00:00<?, ?it/s]"
      ]
     },
     "metadata": {},
     "output_type": "display_data"
    },
    {
     "data": {
      "application/vnd.jupyter.widget-view+json": {
       "model_id": "",
       "version_major": 2,
       "version_minor": 0
      },
      "text/plain": [
       "Validation: |                                             | 0/? [00:00<?, ?it/s]"
      ]
     },
     "metadata": {},
     "output_type": "display_data"
    },
    {
     "data": {
      "application/vnd.jupyter.widget-view+json": {
       "model_id": "",
       "version_major": 2,
       "version_minor": 0
      },
      "text/plain": [
       "Validation: |                                             | 0/? [00:00<?, ?it/s]"
      ]
     },
     "metadata": {},
     "output_type": "display_data"
    },
    {
     "data": {
      "application/vnd.jupyter.widget-view+json": {
       "model_id": "",
       "version_major": 2,
       "version_minor": 0
      },
      "text/plain": [
       "Validation: |                                             | 0/? [00:00<?, ?it/s]"
      ]
     },
     "metadata": {},
     "output_type": "display_data"
    },
    {
     "data": {
      "application/vnd.jupyter.widget-view+json": {
       "model_id": "",
       "version_major": 2,
       "version_minor": 0
      },
      "text/plain": [
       "Validation: |                                             | 0/? [00:00<?, ?it/s]"
      ]
     },
     "metadata": {},
     "output_type": "display_data"
    },
    {
     "data": {
      "application/vnd.jupyter.widget-view+json": {
       "model_id": "",
       "version_major": 2,
       "version_minor": 0
      },
      "text/plain": [
       "Validation: |                                             | 0/? [00:00<?, ?it/s]"
      ]
     },
     "metadata": {},
     "output_type": "display_data"
    },
    {
     "data": {
      "application/vnd.jupyter.widget-view+json": {
       "model_id": "",
       "version_major": 2,
       "version_minor": 0
      },
      "text/plain": [
       "Validation: |                                             | 0/? [00:00<?, ?it/s]"
      ]
     },
     "metadata": {},
     "output_type": "display_data"
    },
    {
     "data": {
      "application/vnd.jupyter.widget-view+json": {
       "model_id": "",
       "version_major": 2,
       "version_minor": 0
      },
      "text/plain": [
       "Validation: |                                             | 0/? [00:00<?, ?it/s]"
      ]
     },
     "metadata": {},
     "output_type": "display_data"
    },
    {
     "data": {
      "application/vnd.jupyter.widget-view+json": {
       "model_id": "",
       "version_major": 2,
       "version_minor": 0
      },
      "text/plain": [
       "Validation: |                                             | 0/? [00:00<?, ?it/s]"
      ]
     },
     "metadata": {},
     "output_type": "display_data"
    },
    {
     "data": {
      "application/vnd.jupyter.widget-view+json": {
       "model_id": "",
       "version_major": 2,
       "version_minor": 0
      },
      "text/plain": [
       "Validation: |                                             | 0/? [00:00<?, ?it/s]"
      ]
     },
     "metadata": {},
     "output_type": "display_data"
    },
    {
     "data": {
      "application/vnd.jupyter.widget-view+json": {
       "model_id": "",
       "version_major": 2,
       "version_minor": 0
      },
      "text/plain": [
       "Validation: |                                             | 0/? [00:00<?, ?it/s]"
      ]
     },
     "metadata": {},
     "output_type": "display_data"
    },
    {
     "data": {
      "application/vnd.jupyter.widget-view+json": {
       "model_id": "",
       "version_major": 2,
       "version_minor": 0
      },
      "text/plain": [
       "Validation: |                                             | 0/? [00:00<?, ?it/s]"
      ]
     },
     "metadata": {},
     "output_type": "display_data"
    },
    {
     "data": {
      "application/vnd.jupyter.widget-view+json": {
       "model_id": "",
       "version_major": 2,
       "version_minor": 0
      },
      "text/plain": [
       "Validation: |                                             | 0/? [00:00<?, ?it/s]"
      ]
     },
     "metadata": {},
     "output_type": "display_data"
    },
    {
     "data": {
      "application/vnd.jupyter.widget-view+json": {
       "model_id": "",
       "version_major": 2,
       "version_minor": 0
      },
      "text/plain": [
       "Validation: |                                             | 0/? [00:00<?, ?it/s]"
      ]
     },
     "metadata": {},
     "output_type": "display_data"
    },
    {
     "data": {
      "application/vnd.jupyter.widget-view+json": {
       "model_id": "",
       "version_major": 2,
       "version_minor": 0
      },
      "text/plain": [
       "Validation: |                                             | 0/? [00:00<?, ?it/s]"
      ]
     },
     "metadata": {},
     "output_type": "display_data"
    },
    {
     "data": {
      "application/vnd.jupyter.widget-view+json": {
       "model_id": "",
       "version_major": 2,
       "version_minor": 0
      },
      "text/plain": [
       "Validation: |                                             | 0/? [00:00<?, ?it/s]"
      ]
     },
     "metadata": {},
     "output_type": "display_data"
    },
    {
     "data": {
      "application/vnd.jupyter.widget-view+json": {
       "model_id": "",
       "version_major": 2,
       "version_minor": 0
      },
      "text/plain": [
       "Validation: |                                             | 0/? [00:00<?, ?it/s]"
      ]
     },
     "metadata": {},
     "output_type": "display_data"
    },
    {
     "data": {
      "application/vnd.jupyter.widget-view+json": {
       "model_id": "",
       "version_major": 2,
       "version_minor": 0
      },
      "text/plain": [
       "Validation: |                                             | 0/? [00:00<?, ?it/s]"
      ]
     },
     "metadata": {},
     "output_type": "display_data"
    },
    {
     "data": {
      "application/vnd.jupyter.widget-view+json": {
       "model_id": "",
       "version_major": 2,
       "version_minor": 0
      },
      "text/plain": [
       "Validation: |                                             | 0/? [00:00<?, ?it/s]"
      ]
     },
     "metadata": {},
     "output_type": "display_data"
    },
    {
     "data": {
      "application/vnd.jupyter.widget-view+json": {
       "model_id": "",
       "version_major": 2,
       "version_minor": 0
      },
      "text/plain": [
       "Validation: |                                             | 0/? [00:00<?, ?it/s]"
      ]
     },
     "metadata": {},
     "output_type": "display_data"
    },
    {
     "data": {
      "application/vnd.jupyter.widget-view+json": {
       "model_id": "",
       "version_major": 2,
       "version_minor": 0
      },
      "text/plain": [
       "Validation: |                                             | 0/? [00:00<?, ?it/s]"
      ]
     },
     "metadata": {},
     "output_type": "display_data"
    },
    {
     "data": {
      "application/vnd.jupyter.widget-view+json": {
       "model_id": "",
       "version_major": 2,
       "version_minor": 0
      },
      "text/plain": [
       "Validation: |                                             | 0/? [00:00<?, ?it/s]"
      ]
     },
     "metadata": {},
     "output_type": "display_data"
    },
    {
     "data": {
      "application/vnd.jupyter.widget-view+json": {
       "model_id": "",
       "version_major": 2,
       "version_minor": 0
      },
      "text/plain": [
       "Validation: |                                             | 0/? [00:00<?, ?it/s]"
      ]
     },
     "metadata": {},
     "output_type": "display_data"
    },
    {
     "data": {
      "application/vnd.jupyter.widget-view+json": {
       "model_id": "",
       "version_major": 2,
       "version_minor": 0
      },
      "text/plain": [
       "Validation: |                                             | 0/? [00:00<?, ?it/s]"
      ]
     },
     "metadata": {},
     "output_type": "display_data"
    },
    {
     "data": {
      "application/vnd.jupyter.widget-view+json": {
       "model_id": "",
       "version_major": 2,
       "version_minor": 0
      },
      "text/plain": [
       "Validation: |                                             | 0/? [00:00<?, ?it/s]"
      ]
     },
     "metadata": {},
     "output_type": "display_data"
    },
    {
     "data": {
      "application/vnd.jupyter.widget-view+json": {
       "model_id": "",
       "version_major": 2,
       "version_minor": 0
      },
      "text/plain": [
       "Validation: |                                             | 0/? [00:00<?, ?it/s]"
      ]
     },
     "metadata": {},
     "output_type": "display_data"
    },
    {
     "data": {
      "application/vnd.jupyter.widget-view+json": {
       "model_id": "",
       "version_major": 2,
       "version_minor": 0
      },
      "text/plain": [
       "Validation: |                                             | 0/? [00:00<?, ?it/s]"
      ]
     },
     "metadata": {},
     "output_type": "display_data"
    },
    {
     "data": {
      "application/vnd.jupyter.widget-view+json": {
       "model_id": "",
       "version_major": 2,
       "version_minor": 0
      },
      "text/plain": [
       "Validation: |                                             | 0/? [00:00<?, ?it/s]"
      ]
     },
     "metadata": {},
     "output_type": "display_data"
    },
    {
     "data": {
      "application/vnd.jupyter.widget-view+json": {
       "model_id": "",
       "version_major": 2,
       "version_minor": 0
      },
      "text/plain": [
       "Validation: |                                             | 0/? [00:00<?, ?it/s]"
      ]
     },
     "metadata": {},
     "output_type": "display_data"
    },
    {
     "data": {
      "application/vnd.jupyter.widget-view+json": {
       "model_id": "795a912fd8dc4b149cc077859b2e0253",
       "version_major": 2,
       "version_minor": 0
      },
      "text/plain": [
       "Validation: |                                             | 0/? [00:00<?, ?it/s]"
      ]
     },
     "metadata": {},
     "output_type": "display_data"
    },
    {
     "data": {
      "application/vnd.jupyter.widget-view+json": {
       "model_id": "566b17a830894205a1260f9f1657d9c3",
       "version_major": 2,
       "version_minor": 0
      },
      "text/plain": [
       "Validation: |                                             | 0/? [00:00<?, ?it/s]"
      ]
     },
     "metadata": {},
     "output_type": "display_data"
    },
    {
     "data": {
      "application/vnd.jupyter.widget-view+json": {
       "model_id": "f7764c122de84c45a23783a0693e55a9",
       "version_major": 2,
       "version_minor": 0
      },
      "text/plain": [
       "Validation: |                                             | 0/? [00:00<?, ?it/s]"
      ]
     },
     "metadata": {},
     "output_type": "display_data"
    },
    {
     "data": {
      "application/vnd.jupyter.widget-view+json": {
       "model_id": "33324bd2764848098ffd039c15e2b28c",
       "version_major": 2,
       "version_minor": 0
      },
      "text/plain": [
       "Validation: |                                             | 0/? [00:00<?, ?it/s]"
      ]
     },
     "metadata": {},
     "output_type": "display_data"
    },
    {
     "name": "stderr",
     "output_type": "stream",
     "text": [
      "`Trainer.fit` stopped: `max_epochs=50` reached.\n"
     ]
    }
   ],
   "source": [
    "# train model\n",
    "########## TODO #############\n",
    "# instantiate lightning model with the cnn_model and learning_rate=1e-3\n",
    "model = LitMRIModel(cnn_model, learning_rate=1e-3)\n",
    "############################\n",
    "\n",
    "# instantiate the lightning trainer \n",
    "trainer = L.Trainer(max_epochs=50, log_every_n_steps=1)#, callbacks=[FineTuneLearningRateFinder(milestones=(5, 10))])\n",
    "# train\n",
    "trainer.fit(model, dataloader_train, dataloader_val)\n"
   ]
  },
  {
   "cell_type": "code",
   "execution_count": 310,
   "metadata": {
    "tags": []
   },
   "outputs": [
    {
     "name": "stdout",
     "output_type": "stream",
     "text": [
      "torch.Size([39, 20])\n",
      "torch.Size([39, 20])\n",
      "torch.Size([65, 20])\n",
      "torch.Size([65, 20])\n",
      "torch.Size([36, 20])\n",
      "torch.Size([36, 20])\n",
      "torch.Size([64, 20])\n",
      "torch.Size([64, 20])\n",
      "torch.Size([36, 20])\n",
      "torch.Size([36, 20])\n",
      "torch.Size([64, 20])\n",
      "torch.Size([64, 20])\n",
      "torch.Size([32, 20])\n",
      "torch.Size([32, 20])\n",
      "torch.Size([33, 20])\n",
      "torch.Size([33, 20])\n",
      "torch.Size([34, 20])\n",
      "torch.Size([34, 20])\n",
      "torch.Size([39, 20])\n",
      "torch.Size([39, 20])\n",
      "torch.Size([34, 20])\n",
      "torch.Size([34, 20])\n",
      "torch.Size([66, 20])\n",
      "torch.Size([66, 20])\n",
      "RMSE: 0.91013056\n",
      "Pearson r: PearsonRResult(statistic=0.1550574518540038, pvalue=0.016209814265238483)\n",
      "Spearman r: SignificanceResult(statistic=0.2526148422699368, pvalue=7.575881520154886e-05)\n"
     ]
    },
    {
     "data": {
      "image/png": "[encoded data removed]",
      "text/plain": [
       "<Figure size 640x480 with 1 Axes>"
      ]
     },
     "metadata": {},
     "output_type": "display_data"
    }
   ],
   "source": [
    "preds =[]\n",
    "all_y = []\n",
    "# save all predictions\n",
    "for batch in dataloader_val:\n",
    "    # adjust this to work with your model\n",
    "    x = batch[\"sequence\"][0]\n",
    "    y = batch[\"labels\"][0]\n",
    "    y_hat = cnn_model(x)\n",
    "\n",
    "    preds.append(y_hat.detach().numpy()[1])\n",
    "    all_y.append(y.squeeze().detach().numpy()[1])\n",
    "    print(y.squeeze().shape)\n",
    "    \n",
    "    print(y_hat.shape)\n",
    "\n",
    "# concatenate and plot\n",
    "preds = np.concatenate(preds)\n",
    "all_y = np.concatenate(all_y)\n",
    "\n",
    "sns.regplot(x=preds,y=all_y)\n",
    "plt.xlabel(\"Predicted ddG\")\n",
    "plt.ylabel(\"Measured ddG\")\n",
    "\n",
    "# get RMSE, Pearson and Spearman correlation \n",
    "print(\"RMSE:\", skmetrics.mean_squared_error(all_y, preds, squared = False))\n",
    "print(\"Pearson r:\", scipy.stats.pearsonr(preds, all_y))\n",
    "print(\"Spearman r:\", scipy.stats.spearmanr(preds, all_y))"
   ]
  },
  {
   "cell_type": "code",
   "execution_count": 311,
   "metadata": {
    "tags": []
   },
   "outputs": [
    {
     "data": {
      "text/plain": [
       "Reusing TensorBoard on port 6006 (pid 2554953), started 5:30:04 ago. (Use '!kill 2554953' to kill it.)"
      ]
     },
     "metadata": {},
     "output_type": "display_data"
    },
    {
     "data": {
      "text/html": [
       "\n",
       "      <iframe id=\"tensorboard-frame-b3db87ad9ba87351\" width=\"100%\" height=\"800\" frameborder=\"0\">\n",
       "      </iframe>\n",
       "      <script>\n",
       "        (function() {\n",
       "          const frame = document.getElementById(\"tensorboard-frame-b3db87ad9ba87351\");\n",
       "          const url = new URL(\"/\", window.location);\n",
       "          const port = 6006;\n",
       "          if (port) {\n",
       "            url.port = port;\n",
       "          }\n",
       "          frame.src = url;\n",
       "        })();\n",
       "      </script>\n",
       "    "
      ],
      "text/plain": [
       "<IPython.core.display.HTML object>"
      ]
     },
     "metadata": {},
     "output_type": "display_data"
    }
   ],
   "source": [
    "%reload_ext tensorboard\n",
    "%tensorboard --logdir=lightning_logs/"
   ]
  },
  {
   "cell_type": "code",
   "execution_count": null,
   "metadata": {},
   "outputs": [],
   "source": []
  },
  {
   "cell_type": "code",
   "execution_count": null,
   "metadata": {},
   "outputs": [],
   "source": []
  },
  {
   "cell_type": "code",
   "execution_count": null,
   "metadata": {},
   "outputs": [],
   "source": []
  },
  {
   "cell_type": "code",
   "execution_count": null,
   "metadata": {},
   "outputs": [],
   "source": []
  },
  {
   "cell_type": "code",
   "execution_count": 372,
   "metadata": {},
   "outputs": [
    {
     "data": {
      "text/plain": [
       "618"
      ]
     },
     "execution_count": 372,
     "metadata": {},
     "output_type": "execute_result"
    }
   ],
   "source": [
    "dataset_train.df[\"wt_seq\"][2][0]\n",
    "len(dataset_train.df[\"mutation_to\"][2])\n",
    "\n",
    "len(dataset_train.df[\"ddG_ML\"][2])"
   ]
  },
  {
   "cell_type": "code",
   "execution_count": null,
   "metadata": {},
   "outputs": [],
   "source": []
  },
  {
   "cell_type": "code",
   "execution_count": 373,
   "metadata": {},
   "outputs": [
    {
     "data": {
      "text/plain": [
       "Unnamed: 0      [200028, 200029, 200030, 200031, 200032, 20003...\n",
       "name            [1E0L.pdb_G1Q, 1E0L.pdb_G1E, 1E0L.pdb_G1N, 1E0...\n",
       "ddG_ML          [-0.134363487967859, -0.2192838778718004, -0.1...\n",
       "mut_type        [G1Q, G1E, G1N, G1H, G1D, G1R, G1K, G1T, G1S, ...\n",
       "aa_seq          [QATAVSEWTEYKTADGKTYYYNNRTLESTWEKPQELK, EATAVS...\n",
       "wt_seq          [GATAVSEWTEYKTADGKTYYYNNRTLESTWEKPQELK, GATAVS...\n",
       "mutation_pos    [0, 0, 0, 0, 0, 0, 0, 0, 0, 0, 0, 0, 0, 0, 0, ...\n",
       "mutation_to     [13, 3, 11, 6, 2, 14, 8, 16, 15, 0, 10, 9, 17,...\n",
       "Name: 1E0L.pdb, dtype: object"
      ]
     },
     "execution_count": 373,
     "metadata": {},
     "output_type": "execute_result"
    }
   ],
   "source": [
    "dataset_train.df.loc[\"1E0L.pdb\"]"
   ]
  },
  {
   "cell_type": "code",
   "execution_count": null,
   "metadata": {},
   "outputs": [],
   "source": [
    "print(len(dataset_train.df[\"mut_type\"][2]))\n",
    "dataset_train.df[\"mut_type\"][2]"
   ]
  },
  {
   "cell_type": "code",
   "execution_count": null,
   "metadata": {},
   "outputs": [],
   "source": []
  },
  {
   "cell_type": "code",
   "execution_count": null,
   "metadata": {},
   "outputs": [],
   "source": [
    "print(len(dataset_train.df.loc[\"1E0L.pdb\"][\"ddG_ML\"]))\n",
    "print(getTensorFromProtein(\"1E0L.pdb\", dataset_train.df[\"wt_seq\"][0][0], dataset_train.df[\"mut_type\"][0]).size)"
   ]
  },
  {
   "cell_type": "code",
   "execution_count": null,
   "metadata": {},
   "outputs": [],
   "source": []
  }
 ],
 "metadata": {
  "kernelspec": {
   "display_name": "Python 3 (ipykernel)",
   "language": "python",
   "name": "python3"
  },
  "language_info": {
   "codemirror_mode": {
    "name": "ipython",
    "version": 3
   },
   "file_extension": ".py",
   "mimetype": "text/x-python",
   "name": "python",
   "nbconvert_exporter": "python",
   "pygments_lexer": "ipython3",
   "version": "3.11.5"
  }
 },
 "nbformat": 4,
 "nbformat_minor": 4
}
