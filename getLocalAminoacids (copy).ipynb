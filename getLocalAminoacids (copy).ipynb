{
 "cells": [
  {
   "cell_type": "code",
   "execution_count": 7,
   "metadata": {
    "tags": []
   },
   "outputs": [
    {
     "name": "stdout",
     "output_type": "stream",
     "text": [
      "Collecting lightning\n",
      "  Downloading lightning-2.2.0.post0-py3-none-any.whl.metadata (56 kB)\n",
      "     ---------------------------------------- 0.0/56.8 kB ? eta -:--:--\n",
      "     ---------------------------------------- 56.8/56.8 kB 2.9 MB/s eta 0:00:00\n",
      "Requirement already satisfied: PyYAML<8.0,>=5.4 in c:\\users\\chtim\\appdata\\local\\programs\\python\\python311\\lib\\site-packages (from lightning) (6.0.1)\n",
      "Requirement already satisfied: fsspec<2025.0,>=2022.5.0 in c:\\users\\chtim\\appdata\\local\\programs\\python\\python311\\lib\\site-packages (from fsspec[http]<2025.0,>=2022.5.0->lightning) (2024.2.0)\n",
      "Requirement already satisfied: lightning-utilities<2.0,>=0.8.0 in c:\\users\\chtim\\appdata\\local\\programs\\python\\python311\\lib\\site-packages (from lightning) (0.10.1)\n",
      "Requirement already satisfied: numpy<3.0,>=1.17.2 in c:\\users\\chtim\\appdata\\local\\programs\\python\\python311\\lib\\site-packages (from lightning) (1.23.4)\n",
      "Requirement already satisfied: packaging<25.0,>=20.0 in c:\\users\\chtim\\appdata\\local\\programs\\python\\python311\\lib\\site-packages (from lightning) (23.1)\n",
      "Requirement already satisfied: torch<4.0,>=1.13.0 in c:\\users\\chtim\\appdata\\local\\programs\\python\\python311\\lib\\site-packages (from lightning) (2.2.1)\n",
      "Requirement already satisfied: torchmetrics<3.0,>=0.7.0 in c:\\users\\chtim\\appdata\\local\\programs\\python\\python311\\lib\\site-packages (from lightning) (1.3.1)\n",
      "Requirement already satisfied: tqdm<6.0,>=4.57.0 in c:\\users\\chtim\\appdata\\local\\programs\\python\\python311\\lib\\site-packages (from lightning) (4.64.1)\n",
      "Requirement already satisfied: typing-extensions<6.0,>=4.4.0 in c:\\users\\chtim\\appdata\\local\\programs\\python\\python311\\lib\\site-packages (from lightning) (4.8.0)\n",
      "Requirement already satisfied: pytorch-lightning in c:\\users\\chtim\\appdata\\local\\programs\\python\\python311\\lib\\site-packages (from lightning) (2.2.0.post0)\n",
      "Requirement already satisfied: aiohttp!=4.0.0a0,!=4.0.0a1 in c:\\users\\chtim\\appdata\\local\\programs\\python\\python311\\lib\\site-packages (from fsspec[http]<2025.0,>=2022.5.0->lightning) (3.9.3)\n",
      "Requirement already satisfied: setuptools in c:\\users\\chtim\\appdata\\local\\programs\\python\\python311\\lib\\site-packages (from lightning-utilities<2.0,>=0.8.0->lightning) (65.5.1)\n",
      "Requirement already satisfied: filelock in c:\\users\\chtim\\appdata\\local\\programs\\python\\python311\\lib\\site-packages (from torch<4.0,>=1.13.0->lightning) (3.13.1)\n",
      "Requirement already satisfied: sympy in c:\\users\\chtim\\appdata\\local\\programs\\python\\python311\\lib\\site-packages (from torch<4.0,>=1.13.0->lightning) (1.12)\n",
      "Requirement already satisfied: networkx in c:\\users\\chtim\\appdata\\local\\programs\\python\\python311\\lib\\site-packages (from torch<4.0,>=1.13.0->lightning) (3.2.1)\n",
      "Requirement already satisfied: jinja2 in c:\\users\\chtim\\appdata\\local\\programs\\python\\python311\\lib\\site-packages (from torch<4.0,>=1.13.0->lightning) (3.1.2)\n",
      "Requirement already satisfied: colorama in c:\\users\\chtim\\appdata\\local\\programs\\python\\python311\\lib\\site-packages (from tqdm<6.0,>=4.57.0->lightning) (0.4.6)\n",
      "Requirement already satisfied: aiosignal>=1.1.2 in c:\\users\\chtim\\appdata\\local\\programs\\python\\python311\\lib\\site-packages (from aiohttp!=4.0.0a0,!=4.0.0a1->fsspec[http]<2025.0,>=2022.5.0->lightning) (1.3.1)\n",
      "Requirement already satisfied: attrs>=17.3.0 in c:\\users\\chtim\\appdata\\local\\programs\\python\\python311\\lib\\site-packages (from aiohttp!=4.0.0a0,!=4.0.0a1->fsspec[http]<2025.0,>=2022.5.0->lightning) (23.1.0)\n",
      "Requirement already satisfied: frozenlist>=1.1.1 in c:\\users\\chtim\\appdata\\local\\programs\\python\\python311\\lib\\site-packages (from aiohttp!=4.0.0a0,!=4.0.0a1->fsspec[http]<2025.0,>=2022.5.0->lightning) (1.4.1)\n",
      "Requirement already satisfied: multidict<7.0,>=4.5 in c:\\users\\chtim\\appdata\\local\\programs\\python\\python311\\lib\\site-packages (from aiohttp!=4.0.0a0,!=4.0.0a1->fsspec[http]<2025.0,>=2022.5.0->lightning) (6.0.5)\n",
      "Requirement already satisfied: yarl<2.0,>=1.0 in c:\\users\\chtim\\appdata\\local\\programs\\python\\python311\\lib\\site-packages (from aiohttp!=4.0.0a0,!=4.0.0a1->fsspec[http]<2025.0,>=2022.5.0->lightning) (1.9.4)\n",
      "Requirement already satisfied: MarkupSafe>=2.0 in c:\\users\\chtim\\appdata\\local\\programs\\python\\python311\\lib\\site-packages (from jinja2->torch<4.0,>=1.13.0->lightning) (2.0.1)\n",
      "Requirement already satisfied: mpmath>=0.19 in c:\\users\\chtim\\appdata\\local\\programs\\python\\python311\\lib\\site-packages (from sympy->torch<4.0,>=1.13.0->lightning) (1.3.0)\n",
      "Requirement already satisfied: idna>=2.0 in c:\\users\\chtim\\appdata\\local\\programs\\python\\python311\\lib\\site-packages (from yarl<2.0,>=1.0->aiohttp!=4.0.0a0,!=4.0.0a1->fsspec[http]<2025.0,>=2022.5.0->lightning) (2.10)\n",
      "Downloading lightning-2.2.0.post0-py3-none-any.whl (2.1 MB)\n",
      "   ---------------------------------------- 0.0/2.1 MB ? eta -:--:--\n",
      "   -------- ------------------------------- 0.5/2.1 MB 14.2 MB/s eta 0:00:01\n",
      "   ---------------------------- ----------- 1.5/2.1 MB 18.5 MB/s eta 0:00:01\n",
      "   ---------------------------------------- 2.1/2.1 MB 16.3 MB/s eta 0:00:00\n",
      "Installing collected packages: lightning\n",
      "Successfully installed lightning-2.2.0.post0\n",
      "Note: you may need to restart the kernel to use updated packages.\n"
     ]
    }
   ],
   "source": [
    "#%pip install biopython\n",
    "#%pip install scikit-learn\n",
    "#%pip install pandas\n",
    "#%pip install numpy\n",
    "#%pip install torch\n",
    "#%pip install torchmetrics\n",
    "%pip install lightning"
   ]
  },
  {
   "cell_type": "code",
   "execution_count": 47,
   "metadata": {
    "tags": []
   },
   "outputs": [],
   "source": [
    "import os \n",
    "import numpy as np\n",
    "import pandas as pd\n",
    "import scipy\n",
    "import sklearn.metrics as skmetrics\n",
    "\n",
    "# plotting\n",
    "import matplotlib.pyplot as plt\n",
    "import seaborn as sns\n",
    "\n",
    "# Pytorch\n",
    "import torch\n",
    "import torch.nn as nn\n",
    "import torch.nn.functional as F\n",
    "import torch.optim as optim\n",
    "from torch.utils.data import DataLoader, Dataset\n",
    "import lightning as L\n",
    "\n",
    "import torchmetrics\n",
    "from torchmetrics.regression import PearsonCorrCoef"
   ]
  },
  {
   "cell_type": "code",
   "execution_count": null,
   "metadata": {
    "tags": []
   },
   "outputs": [],
   "source": [
    "dataset_train.df"
   ]
  },
  {
   "cell_type": "code",
   "execution_count": 49,
   "metadata": {
    "tags": []
   },
   "outputs": [],
   "source": [
    "from Bio.PDB import PDBList, PDBParser, MMCIFParser\n",
    "#PDBList().get_all_entries()\n",
    "\n",
    "def downloadStructure(name):\n",
    "    pdb_id = name\n",
    "\n",
    "    #check if file is available\n",
    "\n",
    "\n",
    "    pdb_file = PDBList().retrieve_pdb_file(pdb_id, file_format='mmCif', pdir=\"structures\")\n",
    "    \n",
    "    if not os.path.exists(pdb_file):\n",
    "        return None\n",
    "    \n",
    "    return MMCIFParser().get_structure(pdb_id, pdb_file)\n"
   ]
  },
  {
   "cell_type": "code",
   "execution_count": 50,
   "metadata": {
    "tags": []
   },
   "outputs": [],
   "source": [
    "from Bio.PDB import NeighborSearch\n",
    "from Bio.Data.IUPACData import protein_letters_3to1\n",
    "\n",
    "def removeHeteroatoms(structure):\n",
    "    model = structure[0]\n",
    "    chains = model.get_chains()\n",
    "    chain = next(iter(chains))\n",
    "    residues = chain.get_residues()\n",
    "    #print(next(iter(residues)))\n",
    "\n",
    "    #remove all heteroatoms from chain\n",
    "    heteroatoms = []\n",
    "    for residue in chain:\n",
    "        if(residue.id[0] != ' '):\n",
    "            #remove residue from chain\n",
    "            heteroatoms.append(residue.id)\n",
    "\n",
    "    for heteroatom in heteroatoms:\n",
    "        chain.detach_child(heteroatom)\n",
    "\n",
    "    names = []\n",
    "    #print all residues\n",
    "    for residue in chain:\n",
    "        names.append(residue.get_resname())\n",
    "\n",
    "    string = ''.join([protein_letters_3to1[aa.get_resname()[0]+aa.get_resname()[1:].lower()] for aa in chain])\n",
    "\n",
    "    return chain, string\n"
   ]
  },
  {
   "cell_type": "code",
   "execution_count": 51,
   "metadata": {
    "tags": []
   },
   "outputs": [],
   "source": [
    "#next(iter(next(iter(downloadStructure(\"1F0M\")[0].get_chains())).get_residues()))"
   ]
  },
  {
   "cell_type": "code",
   "execution_count": 52,
   "metadata": {
    "tags": []
   },
   "outputs": [
    {
     "data": {
      "text/plain": [
       "'SPEVQIAILTEQINNLNEHLRVHKKDHHSRRGLLKMVGKRRRLLAYLRNKDVARYREIVEKLG'"
      ]
     },
     "execution_count": 52,
     "metadata": {},
     "output_type": "execute_result"
    }
   ],
   "source": [
    "dataset_train.df[\"wt_seq\"][0][0]"
   ]
  },
  {
   "cell_type": "code",
   "execution_count": 461,
   "metadata": {
    "tags": []
   },
   "outputs": [],
   "source": [
    "import numpy as np\n",
    "from Bio.Data.IUPACData import protein_letters_3to1\n",
    "\n",
    "def getNClosestAAs(chain, index, nClosestAAs = 10, maxRadius = 150.0):\n",
    "    #distance matix\n",
    "    # Create a list of all atoms in the structure\n",
    "    atoms = [atom for atom in chain.get_atoms()]\n",
    "    \n",
    "    # Create a NeighborSearch object\n",
    "    ns = NeighborSearch(atoms)\n",
    "\n",
    "    #print(next(iter(chain)))\n",
    "    #print(\"get residue at index\", index)\n",
    "    try:\n",
    "        residue = chain[index+1] #because numbering starts at 1\n",
    "    except:\n",
    "        return None\n",
    "    #print(residue)\n",
    "\n",
    "    # Calculate the distance between the residues\n",
    "    neighbors = ns.search(residue[\"CA\"].coord, level=\"R\", radius=maxRadius)\n",
    "    distances = [(protein_letters_3to1[aa.get_resname()[0]+aa.get_resname()[1:].lower()], 1/(residue[\"CA\"]-aa[\"CA\"]+0.00001)) for aa in neighbors]\n",
    "    #sort by distance\n",
    "    distances.sort(key=lambda x: x[1])\n",
    "    # Ensure distance is always nClosestAAs large, if too short, fill with 0\n",
    "    if len(distances) < nClosestAAs:\n",
    "        distances.extend([(\"0\", 0)] * (nClosestAAs - len(distances)))\n",
    "    else:\n",
    "        distances = distances[:nClosestAAs]\n",
    "\n",
    "    return distances\n",
    "\n",
    "\n"
   ]
  },
  {
   "cell_type": "code",
   "execution_count": 462,
   "metadata": {
    "tags": []
   },
   "outputs": [],
   "source": [
    "aa_alphabet = 'ACDEFGHIKLMNPQRSTVWY' # amino acid alphabet\n",
    "aa_to_int = {aa: i for i, aa in enumerate(aa_alphabet)} # mapping from amino acid to number\n",
    "\n",
    "def one_hot_encode(sequence):\n",
    "    # initialize a zero matrix of shape (len(sequence), len(amino_acids))\n",
    "    one_hot = torch.zeros(len(sequence), len(aa_alphabet))\n",
    "    if sequence != \"0\":\n",
    "        for i, aa in enumerate(sequence):\n",
    "            # set the column corresponding to the amino acid to 1\n",
    "            one_hot[i].scatter_(0, torch.tensor([aa_to_int[aa]]), 1)\n",
    "    return one_hot"
   ]
  },
  {
   "cell_type": "code",
   "execution_count": 463,
   "metadata": {
    "tags": []
   },
   "outputs": [
    {
     "name": "stdout",
     "output_type": "stream",
     "text": [
      "Structure exists: 'structures/1ufm.cif' \n"
     ]
    },
    {
     "data": {
      "text/plain": [
       "<Residue GLY het=  resseq=289 icode= >"
      ]
     },
     "execution_count": 463,
     "metadata": {},
     "output_type": "execute_result"
    }
   ],
   "source": [
    "next(iter(downloadStructure(\"1UFM\")[0][\"A\"].get_residues()))"
   ]
  },
  {
   "cell_type": "code",
   "execution_count": 464,
   "metadata": {
    "tags": []
   },
   "outputs": [
    {
     "data": {
      "text/plain": [
       "'S1Q'"
      ]
     },
     "execution_count": 464,
     "metadata": {},
     "output_type": "execute_result"
    }
   ],
   "source": [
    "dataset_train.df[\"mut_type\"][0][19*0+0]\n",
    "#dataset_train.df[\"mut_type\"][0][1194], dataset_train.df[\"mut_type\"][0][-1]\n"
   ]
  },
  {
   "cell_type": "code",
   "execution_count": 465,
   "metadata": {
    "tags": []
   },
   "outputs": [],
   "source": [
    "def getTensorFromProteinOLD(proteinName, wt_seq, mut_types, nClosestAAs = 5):\n",
    "\n",
    "    print(\"Getting \" + proteinName + \" tensor: \" + wt_seq + \" \" + mut_types[0] + \" \" + mut_types[-1])\n",
    "    ###for each protein\n",
    "    structure = downloadStructure(proteinName[:4])\n",
    "    if structure == None:\n",
    "        return None\n",
    "    chain, string = removeHeteroatoms(structure)\n",
    "\n",
    "    print(\"Structure sequence: \" + string)\n",
    "    #wt_seq = dataset_train.df[\"wt_seq\"][0][proteinIndex]\n",
    "\n",
    "    matching = (string.find(wt_seq),string.find(wt_seq)+len(wt_seq))\n",
    "    print(matching)\n",
    "\n",
    "    matchingSeq_len = len(wt_seq) # = matching[1]-matching[0]\n",
    "\n",
    "    print(len(chain))\n",
    "\n",
    "    \n",
    "\n",
    "    #len(wt_seq), len(aa_alphabet)\n",
    "    \n",
    "    # Iterate over each residue in the chain\n",
    "    #for index, residue in enumerate(chain):\n",
    "\n",
    "    #len of matching sequence, max amount of mutations at the position, amount of closest AAs, one hot encoding of amino acid \n",
    "    aaDistances = torch.zeros((matchingSeq_len, len(aa_alphabet), nClosestAAs, len(aa_alphabet)))\n",
    "\n",
    "    for residueIndex in range(1, matchingSeq_len):\n",
    "        \n",
    "        distances = getNClosestAAs(chain, matching[0]+residueIndex, nClosestAAs = nClosestAAs)\n",
    "        if distances == None:\n",
    "            return None\n",
    "        #change wt residue to mutation\n",
    "        \n",
    "        mut_toThatHaveData = [mut_type[-1] for mut_type in mut_types if str(residueIndex+matching[0]) in mut_type]\n",
    "        for mutationIndex in range(len(aa_alphabet)): #20 because 20 amino acids thought -1 because wt is already in the list but wt is different every time\n",
    "               ###for each mutation\n",
    "               #print(residueIndex*(len(aa_alphabet)-1)+mutationIndex)\n",
    "            \n",
    "            #check if mutation is at this position exists\n",
    "            mut_to = aa_alphabet[mutationIndex]\n",
    "\n",
    "            if(mut_toThatHaveData.__contains__(mut_to)):\n",
    "                #print(\"Mutation at position \" + str(residueIndex) + \" to \" + mut_to + \" in \" + proteinName)\n",
    "                #mut_type = mut_types[residueIndex*(len(aa_alphabet)-1)+mutationIndex]\n",
    "                #mutation_pos = mut_type[1:-1]\n",
    "               #print(\"mut_type:\" + str(mut_type))\n",
    "               #print(\"mutation_pos:\" + str(mutation_pos))\n",
    "               #print(mut_type)\n",
    "                distances[0] = (mut_to, 0.0) #mutated AA, distance to itself is 0\n",
    "                aaDistances[residueIndex][mutationIndex][0] = one_hot_encode(distances[0][0])*-1\n",
    "\n",
    "                for idx, aa in enumerate(distances[1:], start=1):\n",
    "                    # Rest of the code\n",
    "                #print(aa[0],aa[1])\n",
    "                #print(proteinIndex,residueIndex,mutationIndex,idx)\n",
    "                    aaDistances[residueIndex][mutationIndex][idx] = one_hot_encode(aa[0])*aa[1]\n",
    "               #for idx, distance in enumerate(distances):\n",
    "            else:\n",
    "                aaDistances[residueIndex][mutationIndex] = torch.zeros((nClosestAAs, len(aa_alphabet)))\n",
    "                #print(\"No data for mutation at position \" + str(residueIndex) + \" to \" + mut_to + \" in \" + proteinName)\n",
    "                   \n",
    "       #aaDistances[residueIndex] = [np.append(one_hot_encode(aa[0]),aa[1]) for aa in distances]\n",
    "       \n",
    "   #print(distances, len(distances))\n",
    "    return aaDistances\n",
    "\n",
    "    #aaDistances = torch.empty(0)\n",
    "    aaDistances = []\n",
    "    distances = []\n",
    "    oldMutationPos = -1\n",
    "\n",
    "    for mutation in mut_types:\n",
    "        mutation_pos = int(mutation[1:-1])\n",
    "        mutatedFrom = mutation[0]\n",
    "        mutatedTo = mutation[-1]\n",
    "        print(mutation_pos)\n",
    "        \n",
    "        if(mutation_pos != oldMutationPos):\n",
    "            distances = getNClosestAAs(chain, matching[0]+mutation_pos, nClosestAAs = nClosestAAs)\n",
    "        \n",
    "        oldMutationPos = mutation_pos\n",
    "\n",
    "        distances[0] = (mutatedTo, 0.0) #mutated AA, distance to itself is 0\n",
    "\n",
    "        #print(one_hot_encode(distances[0][0]))\n",
    "        aaDistances.append(one_hot_encode(distances[0][0])*-1)\n",
    "#        aaDistances = torch.cat((aaDistances,one_hot_encode(distances[0][0])*-1))\n",
    "        #print(torch.flatten(torch.stack([one_hot_encode(aa[0])*aa[1] for aa in distances[1:]])))\n",
    "        [aaDistances.append(one_hot_encode(aa[0])*aa[1]) for aa in distances[1:]]\n",
    "#        aaDistances = torch.cat((aaDistances,torch.flatten(torch.stack([one_hot_encode(aa[0])*aa[1] for aa in distances[1:]]))))\n",
    "        #aaDistances.append(np.append(one_hot_encode(aa[0]),aa[1]) for aa in distances)\n",
    "\n",
    "    return aaDistances"
   ]
  },
  {
   "cell_type": "code",
   "execution_count": 466,
   "metadata": {
    "tags": []
   },
   "outputs": [],
   "source": [
    "def getTensorFromProtein(proteinName, wt_seq, mut_types, nClosestAAs = 5):\n",
    "\n",
    "    print(\"Getting \" + proteinName + \" tensor: \" + wt_seq + \" \" + mut_types[0] + \" \" + mut_types[-1])\n",
    "    ###for each protein\n",
    "    structure = downloadStructure(proteinName[:4])\n",
    "    if structure == None:\n",
    "        return None\n",
    "    chain, string = removeHeteroatoms(structure)\n",
    "\n",
    "    print(\"Structure sequence: \" + string)\n",
    "    #wt_seq = dataset_train.df[\"wt_seq\"][0][proteinIndex]\n",
    "\n",
    "    matching = (string.find(wt_seq),string.find(wt_seq)+len(wt_seq))\n",
    "    print(matching)\n",
    "\n",
    "    matchingSeq_len = len(wt_seq) # = matching[1]-matching[0]\n",
    "\n",
    "    print(len(chain))\n",
    "\n",
    "    \n",
    "\n",
    "    #len(wt_seq), len(aa_alphabet)\n",
    "    \n",
    "    # Iterate over each residue in the chain\n",
    "    #for index, residue in enumerate(chain):\n",
    "\n",
    "    #len of matching sequence, max amount of mutations at the position, amount of closest AAs, one hot encoding of amino acid \n",
    "    aaDistances = torch.zeros((matchingSeq_len, nClosestAAs + len(aa_alphabet), len(aa_alphabet)))\n",
    "\n",
    "    #aaDistances = torch.zeros((matchingSeq_len, nClosestAAs-1, len(aa_alphabet)))\n",
    "\n",
    "    for residueIndex in range(matchingSeq_len):\n",
    "        \n",
    "        distances = getNClosestAAs(chain, matching[0]+residueIndex, nClosestAAs = nClosestAAs)\n",
    "        if distances == None:\n",
    "            return None\n",
    "        #change wt residue to mutation\n",
    "        \n",
    "        mut_toThatHaveData = [mut_type[-1] for mut_type in mut_types if str(residueIndex+matching[0]) in mut_type]\n",
    "        \n",
    "        \n",
    "        for mutationIndex in range(len(aa_alphabet)): #20 because 20 amino acids thought -1 because wt is already in the list but wt is different every time\n",
    "               ###for each mutation\n",
    "               #print(residueIndex*(len(aa_alphabet)-1)+mutationIndex)\n",
    "            \n",
    "            #check if mutation is at this position exists\n",
    "            mut_to = aa_alphabet[mutationIndex]\n",
    "\n",
    "            if(mut_toThatHaveData.__contains__(mut_to)):\n",
    "                #print(\"Mutation at position \" + str(residueIndex) + \" to \" + mut_to + \" in \" + proteinName)\n",
    "                #mut_type = mut_types[residueIndex*(len(aa_alphabet)-1)+mutationIndex]\n",
    "                #mutation_pos = mut_type[1:-1]\n",
    "               #print(\"mut_type:\" + str(mut_type))\n",
    "               #print(\"mutation_pos:\" + str(mutation_pos))\n",
    "               #print(mut_type)\n",
    "                distances[0] = (mut_to, 0.0) #mutated AA, distance to itself is 0\n",
    "                aaDistances[residueIndex][mutationIndex] = one_hot_encode(mut_to)\n",
    "\n",
    "                \n",
    "            else:\n",
    "                aaDistances[residueIndex][mutationIndex] = torch.zeros((len(aa_alphabet)))\n",
    "                #print(\"No data for mutation at position \" + str(residueIndex) + \" to \" + mut_to + \" in \" + proteinName)\n",
    "        \n",
    "        for idx, aa in enumerate(distances[1:]):\n",
    "             \n",
    "            aaDistances[residueIndex][len(aa_alphabet)+idx] = one_hot_encode(aa[0])*aa[1]\n",
    "             \n",
    "            #aaDistances[residueIndex][idx] = one_hot_encode(aa[0])*aa[1]\n",
    "               #for idx, distance in enumerate(distances):          \n",
    "       #aaDistances[residueIndex] = [np.append(one_hot_encode(aa[0]),aa[1]) for aa in distances]\n",
    "       \n",
    "   #print(distances, len(distances))\n",
    "    return aaDistances"
   ]
  },
  {
   "cell_type": "code",
   "execution_count": null,
   "metadata": {
    "tags": []
   },
   "outputs": [],
   "source": [
    "wt_name = dataset_train.wt_names[1]\n",
    "# get the correct row\n",
    "mut_row = dataset_train.df.loc[wt_name]\n",
    "print(\"mut_type_len =\", len(mut_row[\"mut_type\"]))\n",
    "getTensorFromProtein(wt_name, mut_row[\"wt_seq\"][0], mut_row[\"mut_type\"])[0]"
   ]
  },
  {
   "cell_type": "code",
   "execution_count": null,
   "metadata": {},
   "outputs": [],
   "source": []
  },
  {
   "cell_type": "code",
   "execution_count": 468,
   "metadata": {
    "tags": []
   },
   "outputs": [],
   "source": [
    "#ignoreList = []"
   ]
  },
  {
   "cell_type": "code",
   "execution_count": 469,
   "metadata": {
    "tags": []
   },
   "outputs": [
    {
     "data": {
      "text/plain": [
       "95"
      ]
     },
     "execution_count": 469,
     "metadata": {},
     "output_type": "execute_result"
    }
   ],
   "source": [
    "len(ignoreList)"
   ]
  },
  {
   "cell_type": "code",
   "execution_count": 470,
   "metadata": {
    "tags": []
   },
   "outputs": [],
   "source": [
    "# sequence data, comes already batched, so treat accordingly in dataloader (batch_size=1)\n",
    "class SequenceData(Dataset):\n",
    "    def __init__(self, csv_file, label_col=\"ddG_ML\"):\n",
    "        \"\"\"\n",
    "        Initializes the dataset. \n",
    "        input:\n",
    "            csv_file: path to the relevant data file, eg. \"/home/data/mega_train.csv\"\n",
    "        \"\"\"\n",
    "        \n",
    "        self.min_size = 72\n",
    "        self.seqTensors = {}\n",
    "        \n",
    "        self.df = pd.read_csv(csv_file, sep=\",\")\n",
    "        self.label_col = label_col\n",
    "        # only have mutation rows\n",
    "        self.df = self.df[self.df.mut_type!=\"wt\"]\n",
    "        # process the mutation row\n",
    "        self.df[\"mutation_pos\"] = self.df[\"mut_type\"].apply(lambda x: int(x[1:-1])-1) # make position start at zero\n",
    "        self.df[\"mutation_to\"] = self.df[\"mut_type\"].apply(lambda x: aa_to_int[x[-1]]) # give numerical label to mutation\n",
    "\n",
    "        # group by wild type\n",
    "        self.df = self.df.groupby(\"WT_name\").agg(list)\n",
    "        # get wild type names\n",
    "        self.wt_names = self.df.index.values\n",
    "        # precompute one-hot encoding for faster training\n",
    "        self.encoded_seqs = {}\n",
    "        for wt_name in self.wt_names:\n",
    "            # get the correct row\n",
    "            \n",
    "            #download structure\n",
    "            print(wt_name[:4])\n",
    "            if not ignoreList.__contains__(wt_name[:4]):\n",
    "                structure = downloadStructure(wt_name[:4])\n",
    "\n",
    "                if structure is None:\n",
    "                    print(\"No structure found for \" + wt_name)\n",
    "                    ignoreList.append(wt_name[:4])\n",
    "                    #remove from df\n",
    "                    self.df = self.df.drop(wt_name)\n",
    "                    continue\n",
    "            \n",
    "                mut_row = self.df.loc[wt_name]\n",
    "                tensorFromProtein = getTensorFromProtein(wt_name, mut_row[\"wt_seq\"][0], mut_row[\"mut_type\"], nClosestAAs=20)\n",
    "                if tensorFromProtein == None:\n",
    "                    ignoreList.append(wt_name[:4])\n",
    "                    continue\n",
    "            \n",
    "                self.seqTensors[wt_name] = tensorFromProtein\n",
    "            #seq = mut_row[\"wt_seq\"][0]\n",
    "            #self.encoded_seqs[wt_name] = one_hot_encode(seq)\n",
    "            #for i in range(self.min_size-len(self.encoded_seqs[wt_name])):\n",
    "            #    #print(wt_name, i)\n",
    "            #    self.encoded_seqs[wt_name] = torch.cat((self.encoded_seqs[wt_name], one_hot_encode(\"0\")),0)\n",
    "        self.wt_names = [wt_name for wt_name in self.wt_names if wt_name[:4] not in ignoreList]\n",
    "        \n",
    "        \n",
    "\n",
    "    def __len__(self):\n",
    "        return len(self.wt_names)\n",
    "\n",
    "    def __getitem__(self, idx): #one batch = one protein\n",
    "        \n",
    "        \"\"\"wt_name = \n",
    "        \n",
    "        target = torch.tensor(self.df[label_col].values)[idx]\n",
    "        mutPos = torch.tensor(self.df[\"mutation_pos\"].values)[idx]\n",
    "        \n",
    "        sequence = self.seqTensor[wt_name][mutPos][].squeeze(1)\n",
    "        \n",
    "        \n",
    "        sequence = seqTensor.squeeze(1)\n",
    "        \n",
    "        \n",
    "        return {\"sequence\": sequence, \"labels\": target}\"\"\"\n",
    "        \n",
    "        # get the wild type name\n",
    "        wt_name = self.wt_names[idx]\n",
    "        # get the correct row\n",
    "        mut_row = self.df.loc[wt_name]\n",
    "\n",
    "        seqTensor = self.seqTensors[wt_name]\n",
    "        \n",
    "        seqLen = seqTensor.shape[0]\n",
    "        \n",
    "        \n",
    "        mask = torch.zeros((1, seqLen,20)) # will be 1 where we have a measurement\n",
    "        target = torch.zeros((1, seqLen, 20)) # ddg values\n",
    "        \n",
    "        amino_acids = torch.tensor(mut_row[\"mutation_to\"])\n",
    "        positions = torch.tensor(mut_row[\"mutation_pos\"])\n",
    "        \n",
    "        labels = torch.tensor(mut_row[self.label_col])\n",
    "        \n",
    "        sequence = seqTensor.squeeze(1)\n",
    "        \n",
    "        for i in range(seqLen):\n",
    "            mask[0,i,amino_acids[positions==i]] = 1 # one where we have data\n",
    "            target[0,i,amino_acids[positions==i]] = labels[positions==i] # fill with ddG values\n",
    "            \n",
    "        target = target.squeeze(1)\n",
    "\n",
    "        \n",
    "        return {\"sequence\": sequence, \"labels\": target}"
   ]
  },
  {
   "cell_type": "code",
   "execution_count": null,
   "metadata": {
    "tags": []
   },
   "outputs": [],
   "source": [
    "# usage\n",
    "dataset_train = SequenceData('project_data/project_data/mega_train.csv')\n",
    "dataset_val= SequenceData('project_data/project_data/mega_val.csv')\n",
    "dataset_test = SequenceData('project_data/project_data/mega_test.csv')\n",
    "\n",
    "# use batch_size=1 bc we treat each sequence as one batch\n",
    "dataloader_val = DataLoader(dataset_val, batch_size=1, shuffle=False)\n",
    "dataloader_train = DataLoader(dataset_train, batch_size=1, shuffle=True)\n",
    "dataloader_test = DataLoader(dataset_test, batch_size=1, shuffle=False)"
   ]
  },
  {
   "cell_type": "code",
   "execution_count": null,
   "metadata": {
    "tags": []
   },
   "outputs": [],
   "source": [
    "print(dataset_train.__getitem__(3)[\"sequence\"][0]) # 5x618x1x20\n",
    "print(dataset_train.__getitem__(3)[\"labels\"].shape)"
   ]
  },
  {
   "cell_type": "code",
   "execution_count": null,
   "metadata": {
    "tags": []
   },
   "outputs": [],
   "source": [
    "list(dataset_train.seqTensors.values())"
   ]
  },
  {
   "cell_type": "code",
   "execution_count": 476,
   "metadata": {
    "tags": []
   },
   "outputs": [
    {
     "ename": "NameError",
     "evalue": "name 'df' is not defined",
     "output_type": "error",
     "traceback": [
      "\u001b[0;31m---------------------------------------------------------------------------\u001b[0m",
      "\u001b[0;31mNameError\u001b[0m                                 Traceback (most recent call last)",
      "Cell \u001b[0;32mIn[476], line 1\u001b[0m\n\u001b[0;32m----> 1\u001b[0m df[df[\u001b[38;5;124m'\u001b[39m\u001b[38;5;124mColName\u001b[39m\u001b[38;5;124m'\u001b[39m] \u001b[38;5;241m!=\u001b[39m \u001b[38;5;241m0\u001b[39m]\n",
      "\u001b[0;31mNameError\u001b[0m: name 'df' is not defined"
     ]
    }
   ],
   "source": [
    "df[df['ColName'] != 0]"
   ]
  },
  {
   "cell_type": "code",
   "execution_count": 477,
   "metadata": {
    "tags": []
   },
   "outputs": [
    {
     "data": {
      "text/plain": [
       "0.0426792190337872"
      ]
     },
     "execution_count": 477,
     "metadata": {},
     "output_type": "execute_result"
    }
   ],
   "source": [
    "dataset_train.df[\"ddG_ML\"].values[0][2]"
   ]
  },
  {
   "cell_type": "code",
   "execution_count": 478,
   "metadata": {
    "tags": []
   },
   "outputs": [
    {
     "name": "stdout",
     "output_type": "stream",
     "text": [
      "torch.Size([1, 65, 40, 20]) torch.Size([1, 65, 800]) torch.Size([1, 65, 20])\n"
     ]
    }
   ],
   "source": [
    "#dataloader_test.dataset\n",
    "batch = next(iter(dataloader_train))\n",
    "x = batch[\"sequence\"]\n",
    "y = batch[\"labels\"].squeeze(1).shape\n",
    "\n",
    "\n",
    "\n",
    "print(x.shape, x.reshape((1, x.shape[1], -1)).shape, y)"
   ]
  },
  {
   "cell_type": "code",
   "execution_count": 479,
   "metadata": {
    "tags": []
   },
   "outputs": [],
   "source": [
    "def get_conv2d_out_shape(tensor_shape, conv, pool=2):\n",
    "    # return the new shape of the tensor after a convolution and pooling\n",
    "    # tensor_shape: (channels, height, width)\n",
    "    # convolution arguments\n",
    "    kernel_size = conv.kernel_size\n",
    "    stride=conv.stride # 2D array\n",
    "    padding=conv.padding # 2D array\n",
    "    dilation=conv.dilation # 2D array\n",
    "    out_channels = conv.out_channels\n",
    "\n",
    "    height_out = np.floor((tensor_shape[1]+2*padding[0]-dilation[0]*(kernel_size[0]-1)-1)/stride[0]+1)\n",
    "    width_out = np.floor((tensor_shape[2]+2*padding[1]-dilation[1]*(kernel_size[1]-1)-1)/stride[1]+1)\n",
    "    \n",
    "    if pool:\n",
    "        # adjust dimensions to pooling\n",
    "        height_out/=pool\n",
    "        width_out/=pool\n",
    "        \n",
    "    return int(out_channels),int(height_out),int(width_out)"
   ]
  },
  {
   "cell_type": "code",
   "execution_count": 480,
   "metadata": {
    "tags": []
   },
   "outputs": [],
   "source": [
    "# your code\n",
    "class linModel(nn.Module):\n",
    "    \n",
    "    # Network Initialisation\n",
    "    def __init__(self, params):\n",
    "        \n",
    "        super(linModel, self).__init__() #initialize parent pytorch module\n",
    "\n",
    "        # read parameters\n",
    "        inputSize = params[\"inputShape\"]\n",
    "        \n",
    "        self.dropout = nn.Dropout(0.3)\n",
    "        #self.pool = nn.MaxPool1d(2)\n",
    "        \n",
    "        #print(inputShape)\n",
    "        \n",
    "        # Input shape = length * 20*5*20\n",
    "        \n",
    "        \n",
    "        \n",
    "        # Output shape = length * 20*5*20\n",
    "        # Input shape = length * 20*5*20\n",
    "        \n",
    "        self.conv1 = nn.Conv2d(1, 1, kernel_size= 10, padding= 0) #(kernel_size-1)/2\n",
    "        #current_data_shape = get_conv2d_out_shape((1, length, 20*5*20), self.conv1, pool=0)\n",
    "        \n",
    "        # Output shape = length * 20*5*20\n",
    "        # Input shape = length * 20*5*20\n",
    "        self.fc1 = nn.Linear(inputSize[1]*inputSize[2], 200)\n",
    "        \n",
    "        self.fc2 = nn.Linear(inputSize[1]*inputSize[2], 300)\n",
    "\n",
    "        self.fc3 = nn.Linear(200, 20)\n",
    "        \n",
    "\n",
    "        #self.conv2 = nn.Conv1d(1, s1, kernel_size= 30, padding= 0)\n",
    "\n",
    "    def forward(self,X):\n",
    "        # our network's forward pass\n",
    "        \n",
    "        X = X.reshape((X.shape[0], -1))\n",
    "        \n",
    "        X = F.sigmoid(self.fc1(X))\n",
    "        X = self.dropout(X)\n",
    "        #X = F.sigmoid(self.conv1(X))\n",
    "        #X = self.dropout(X)\n",
    "        X = self.fc3(X)\n",
    "\n",
    "        return X"
   ]
  },
  {
   "cell_type": "code",
   "execution_count": null,
   "metadata": {},
   "outputs": [],
   "source": []
  },
  {
   "cell_type": "code",
   "execution_count": 481,
   "metadata": {
    "tags": []
   },
   "outputs": [],
   "source": [
    "class LitMRIModel(L.LightningModule):\n",
    "    def __init__(self, model, learning_rate=1e-3):\n",
    "        super().__init__()\n",
    "        ######## TODO ##########\n",
    "        # pass our model \n",
    "        self.model = model\n",
    "        #pass the learning rate\n",
    "        self.lr = learning_rate\n",
    "        # define loss function\n",
    "        self.loss_function = nn.MSELoss() #TODO\n",
    "        # define accuracy metric (torchmetrics)\n",
    "        #self.accuracy = torchmetrics.classification.Accuracy(task=\"multiclass\", num_classes=2)\n",
    "        ########################\n",
    "\n",
    "    def training_step(self, batch, batch_idx):\n",
    "        # training_step defines the train loop.\n",
    "\n",
    "        x = batch[\"sequence\"][0]\n",
    "        y = batch[\"labels\"].squeeze(1)[0]\n",
    "\n",
    "        # run data through model\n",
    "        predictions = self.model(x)\n",
    "        #print(predictions.shape)\n",
    "\n",
    "        # compute loss\n",
    "        loss = self.loss_function(predictions, y)\n",
    "        ##############################\n",
    "\n",
    "        # logging the values (will appear in progress bar and on dashboard)\n",
    "        self.log(\"train_loss\", loss, on_epoch=True, prog_bar=True)\n",
    "\n",
    "        return loss\n",
    "\n",
    "    def configure_optimizers(self):\n",
    "        ############## TODO ################\n",
    "        # define the optimizer, let's use Adam\n",
    "        optimizer = torch.optim.Adam(self.parameters(), lr=self.lr)\n",
    "        ####################################\n",
    "        return optimizer\n",
    "\n",
    "    def test_step(self, batch, batch_idx):\n",
    "        # this is the test loop\n",
    "\n",
    "        ############### TODO #############\n",
    "        # read from batch\n",
    "        x = batch[\"sequence\"][0]\n",
    "        y = batch[\"labels\"].squeeze(1)[0]\n",
    "\n",
    "        # run data through model\n",
    "        predictions = self.model(x)\n",
    "        #print(predictions.shape)\n",
    "\n",
    "        # compute loss\n",
    "        loss = self.loss_function(predictions, y)\n",
    "        ##############################\n",
    "\n",
    "        # logging\n",
    "        self.log(\"test_loss\", loss, prog_bar=True)\n",
    "        return loss#, acc\n",
    "\n",
    "\n",
    "    def validation_step(self, batch, batch_idx):\n",
    "        # this is the validation loop\n",
    "        ############### TODO #############\n",
    "        # read from batch\n",
    "        x = batch[\"sequence\"][0]\n",
    "        y = batch[\"labels\"].squeeze(1)[0]\n",
    "\n",
    "        # run data through model\n",
    "        predictions = self.model(x)\n",
    "        #print(predictions.shape)\n",
    "\n",
    "        # compute loss\n",
    "        loss = self.loss_function(predictions, y)\n",
    "        ##############################\n",
    "\n",
    "        # logging\n",
    "        self.log(\"val_loss\", loss, on_epoch=True, prog_bar=True)\n",
    "        #self.log(\"val_acc\", acc, on_epoch=True, prog_bar=True)\n",
    "        return loss "
   ]
  },
  {
   "cell_type": "code",
   "execution_count": 482,
   "metadata": {
    "tags": []
   },
   "outputs": [],
   "source": [
    "# define parameters\n",
    "# the last dimension of the input tensor will equal in_features of the linear layer\n",
    "nClosestAAs = 5\n",
    "seq_len = 20\n",
    "params_model={\n",
    "    \"inputShape\": dataset_train.__getitem__(3)[\"sequence\"].shape#nClosestAAs*len(aa_alphabet)*seq_len\n",
    "}\n",
    "\n",
    "# define computation hardware approach (GPU/CPU)\n",
    "device = torch.device('cuda' if torch.cuda.is_available() else 'cpu')\n",
    "# Instantiate the model\n",
    "cnn_model = linModel(params_model)\n",
    "# moves the model to GPU if available\n",
    "cnn_model = cnn_model.to(device)\n",
    "\n",
    "#channel, batch, weight\n",
    "#inputShape (1, 1024, 768)"
   ]
  },
  {
   "cell_type": "code",
   "execution_count": 483,
   "metadata": {
    "tags": []
   },
   "outputs": [],
   "source": [
    "from lightning.pytorch.callbacks import LearningRateFinder\n",
    "\n",
    "\n",
    "class FineTuneLearningRateFinder(LearningRateFinder):\n",
    "    def __init__(self, milestones, *args, **kwargs):\n",
    "        super().__init__(*args, **kwargs)\n",
    "        self.milestones = milestones\n",
    "\n",
    "    def on_fit_start(self, *args, **kwargs):\n",
    "        return\n",
    "\n",
    "    def on_train_epoch_start(self, trainer, pl_module):\n",
    "        if trainer.current_epoch in self.milestones or trainer.current_epoch == 0:\n",
    "            self.lr_find(trainer, pl_module)"
   ]
  },
  {
   "cell_type": "code",
   "execution_count": 484,
   "metadata": {
    "tags": []
   },
   "outputs": [
    {
     "name": "stderr",
     "output_type": "stream",
     "text": [
      "GPU available: True (cuda), used: True\n",
      "TPU available: False, using: 0 TPU cores\n",
      "IPU available: False, using: 0 IPUs\n",
      "HPU available: False, using: 0 HPUs\n",
      "LOCAL_RANK: 0 - CUDA_VISIBLE_DEVICES: [0]\n",
      "\n",
      "  | Name          | Type     | Params\n",
      "-------------------------------------------\n",
      "0 | model         | linModel | 404 K \n",
      "1 | loss_function | MSELoss  | 0     \n",
      "-------------------------------------------\n",
      "404 K     Trainable params\n",
      "0         Non-trainable params\n",
      "404 K     Total params\n",
      "1.618     Total estimated model params size (MB)\n"
     ]
    },
    {
     "data": {
      "application/vnd.jupyter.widget-view+json": {
       "model_id": "",
       "version_major": 2,
       "version_minor": 0
      },
      "text/plain": [
       "Sanity Checking: |                                        | 0/? [00:00<?, ?it/s]"
      ]
     },
     "metadata": {},
     "output_type": "display_data"
    },
    {
     "name": "stderr",
     "output_type": "stream",
     "text": [
      "/home/course/anaconda3/lib/python3.11/site-packages/lightning/pytorch/trainer/connectors/data_connector.py:441: The 'val_dataloader' does not have many workers which may be a bottleneck. Consider increasing the value of the `num_workers` argument` to `num_workers=15` in the `DataLoader` to improve performance.\n",
      "/home/course/anaconda3/lib/python3.11/site-packages/lightning/pytorch/trainer/connectors/data_connector.py:441: The 'train_dataloader' does not have many workers which may be a bottleneck. Consider increasing the value of the `num_workers` argument` to `num_workers=15` in the `DataLoader` to improve performance.\n"
     ]
    },
    {
     "data": {
      "application/vnd.jupyter.widget-view+json": {
       "model_id": "87cff2c969754f37906a55341bb2a9fb",
       "version_major": 2,
       "version_minor": 0
      },
      "text/plain": [
       "Training: |                                               | 0/? [00:00<?, ?it/s]"
      ]
     },
     "metadata": {},
     "output_type": "display_data"
    },
    {
     "data": {
      "application/vnd.jupyter.widget-view+json": {
       "model_id": "1621529ad0cc4371988a3d934f86912b",
       "version_major": 2,
       "version_minor": 0
      },
      "text/plain": [
       "Finding best initial lr:   0%|          | 0/100 [00:00<?, ?it/s]"
      ]
     },
     "metadata": {},
     "output_type": "display_data"
    },
    {
     "name": "stderr",
     "output_type": "stream",
     "text": [
      "LR finder stopped early after 27 steps due to diverging loss.\n",
      "Learning rate set to 3.9810717055349735e-07\n",
      "Restoring states from the checkpoint path at /home/course/ProteinStabilityNN/.lr_find_7d8220e9-680d-46f9-9292-644148b7abde.ckpt\n",
      "Restored all states from the checkpoint at /home/course/ProteinStabilityNN/.lr_find_7d8220e9-680d-46f9-9292-644148b7abde.ckpt\n"
     ]
    },
    {
     "data": {
      "application/vnd.jupyter.widget-view+json": {
       "model_id": "",
       "version_major": 2,
       "version_minor": 0
      },
      "text/plain": [
       "Validation: |                                             | 0/? [00:00<?, ?it/s]"
      ]
     },
     "metadata": {},
     "output_type": "display_data"
    },
    {
     "data": {
      "application/vnd.jupyter.widget-view+json": {
       "model_id": "",
       "version_major": 2,
       "version_minor": 0
      },
      "text/plain": [
       "Validation: |                                             | 0/? [00:00<?, ?it/s]"
      ]
     },
     "metadata": {},
     "output_type": "display_data"
    },
    {
     "data": {
      "application/vnd.jupyter.widget-view+json": {
       "model_id": "",
       "version_major": 2,
       "version_minor": 0
      },
      "text/plain": [
       "Validation: |                                             | 0/? [00:00<?, ?it/s]"
      ]
     },
     "metadata": {},
     "output_type": "display_data"
    },
    {
     "data": {
      "application/vnd.jupyter.widget-view+json": {
       "model_id": "",
       "version_major": 2,
       "version_minor": 0
      },
      "text/plain": [
       "Validation: |                                             | 0/? [00:00<?, ?it/s]"
      ]
     },
     "metadata": {},
     "output_type": "display_data"
    },
    {
     "name": "stderr",
     "output_type": "stream",
     "text": [
      "/home/course/anaconda3/lib/python3.11/site-packages/lightning/pytorch/loops/training_epoch_loop.py:156: You're resuming from a checkpoint that ended before the epoch ended. This can cause unreliable results if further training is done. Consider using an end-of-epoch checkpoint\n"
     ]
    },
    {
     "data": {
      "application/vnd.jupyter.widget-view+json": {
       "model_id": "1a669d550ac147608d85316a76f0f877",
       "version_major": 2,
       "version_minor": 0
      },
      "text/plain": [
       "Finding best initial lr:   0%|          | 0/100 [00:00<?, ?it/s]"
      ]
     },
     "metadata": {},
     "output_type": "display_data"
    },
    {
     "name": "stderr",
     "output_type": "stream",
     "text": [
      "LR finder stopped early after 384 steps due to diverging loss.\n",
      "Failed to compute suggestion for learning rate because there are not enough points. Increase the loop iteration limits or the size of your dataset/dataloader.\n",
      "Restoring states from the checkpoint path at /home/course/ProteinStabilityNN/.lr_find_d476de10-e565-4893-966b-b80299e030be.ckpt\n",
      "Restored all states from the checkpoint at /home/course/ProteinStabilityNN/.lr_find_d476de10-e565-4893-966b-b80299e030be.ckpt\n"
     ]
    },
    {
     "data": {
      "application/vnd.jupyter.widget-view+json": {
       "model_id": "",
       "version_major": 2,
       "version_minor": 0
      },
      "text/plain": [
       "Validation: |                                             | 0/? [00:00<?, ?it/s]"
      ]
     },
     "metadata": {},
     "output_type": "display_data"
    },
    {
     "data": {
      "application/vnd.jupyter.widget-view+json": {
       "model_id": "",
       "version_major": 2,
       "version_minor": 0
      },
      "text/plain": [
       "Validation: |                                             | 0/? [00:00<?, ?it/s]"
      ]
     },
     "metadata": {},
     "output_type": "display_data"
    },
    {
     "data": {
      "application/vnd.jupyter.widget-view+json": {
       "model_id": "",
       "version_major": 2,
       "version_minor": 0
      },
      "text/plain": [
       "Validation: |                                             | 0/? [00:00<?, ?it/s]"
      ]
     },
     "metadata": {},
     "output_type": "display_data"
    },
    {
     "data": {
      "application/vnd.jupyter.widget-view+json": {
       "model_id": "",
       "version_major": 2,
       "version_minor": 0
      },
      "text/plain": [
       "Validation: |                                             | 0/? [00:00<?, ?it/s]"
      ]
     },
     "metadata": {},
     "output_type": "display_data"
    },
    {
     "data": {
      "application/vnd.jupyter.widget-view+json": {
       "model_id": "",
       "version_major": 2,
       "version_minor": 0
      },
      "text/plain": [
       "Validation: |                                             | 0/? [00:00<?, ?it/s]"
      ]
     },
     "metadata": {},
     "output_type": "display_data"
    },
    {
     "data": {
      "application/vnd.jupyter.widget-view+json": {
       "model_id": "cfecdc63f23e447c9e13a0e49b1c35dc",
       "version_major": 2,
       "version_minor": 0
      },
      "text/plain": [
       "Finding best initial lr:   0%|          | 0/100 [00:00<?, ?it/s]"
      ]
     },
     "metadata": {},
     "output_type": "display_data"
    },
    {
     "name": "stderr",
     "output_type": "stream",
     "text": [
      "LR finder stopped early after 794 steps due to diverging loss.\n",
      "Failed to compute suggestion for learning rate because there are not enough points. Increase the loop iteration limits or the size of your dataset/dataloader.\n",
      "Restoring states from the checkpoint path at /home/course/ProteinStabilityNN/.lr_find_bd836080-c4f3-462b-9b62-e030879a53a8.ckpt\n",
      "Restored all states from the checkpoint at /home/course/ProteinStabilityNN/.lr_find_bd836080-c4f3-462b-9b62-e030879a53a8.ckpt\n"
     ]
    },
    {
     "data": {
      "application/vnd.jupyter.widget-view+json": {
       "model_id": "",
       "version_major": 2,
       "version_minor": 0
      },
      "text/plain": [
       "Validation: |                                             | 0/? [00:00<?, ?it/s]"
      ]
     },
     "metadata": {},
     "output_type": "display_data"
    },
    {
     "data": {
      "application/vnd.jupyter.widget-view+json": {
       "model_id": "",
       "version_major": 2,
       "version_minor": 0
      },
      "text/plain": [
       "Validation: |                                             | 0/? [00:00<?, ?it/s]"
      ]
     },
     "metadata": {},
     "output_type": "display_data"
    },
    {
     "data": {
      "application/vnd.jupyter.widget-view+json": {
       "model_id": "",
       "version_major": 2,
       "version_minor": 0
      },
      "text/plain": [
       "Validation: |                                             | 0/? [00:00<?, ?it/s]"
      ]
     },
     "metadata": {},
     "output_type": "display_data"
    },
    {
     "data": {
      "application/vnd.jupyter.widget-view+json": {
       "model_id": "",
       "version_major": 2,
       "version_minor": 0
      },
      "text/plain": [
       "Validation: |                                             | 0/? [00:00<?, ?it/s]"
      ]
     },
     "metadata": {},
     "output_type": "display_data"
    },
    {
     "data": {
      "application/vnd.jupyter.widget-view+json": {
       "model_id": "",
       "version_major": 2,
       "version_minor": 0
      },
      "text/plain": [
       "Validation: |                                             | 0/? [00:00<?, ?it/s]"
      ]
     },
     "metadata": {},
     "output_type": "display_data"
    },
    {
     "data": {
      "application/vnd.jupyter.widget-view+json": {
       "model_id": "",
       "version_major": 2,
       "version_minor": 0
      },
      "text/plain": [
       "Validation: |                                             | 0/? [00:00<?, ?it/s]"
      ]
     },
     "metadata": {},
     "output_type": "display_data"
    },
    {
     "data": {
      "application/vnd.jupyter.widget-view+json": {
       "model_id": "",
       "version_major": 2,
       "version_minor": 0
      },
      "text/plain": [
       "Validation: |                                             | 0/? [00:00<?, ?it/s]"
      ]
     },
     "metadata": {},
     "output_type": "display_data"
    },
    {
     "data": {
      "application/vnd.jupyter.widget-view+json": {
       "model_id": "",
       "version_major": 2,
       "version_minor": 0
      },
      "text/plain": [
       "Validation: |                                             | 0/? [00:00<?, ?it/s]"
      ]
     },
     "metadata": {},
     "output_type": "display_data"
    },
    {
     "data": {
      "application/vnd.jupyter.widget-view+json": {
       "model_id": "",
       "version_major": 2,
       "version_minor": 0
      },
      "text/plain": [
       "Validation: |                                             | 0/? [00:00<?, ?it/s]"
      ]
     },
     "metadata": {},
     "output_type": "display_data"
    },
    {
     "data": {
      "application/vnd.jupyter.widget-view+json": {
       "model_id": "",
       "version_major": 2,
       "version_minor": 0
      },
      "text/plain": [
       "Validation: |                                             | 0/? [00:00<?, ?it/s]"
      ]
     },
     "metadata": {},
     "output_type": "display_data"
    },
    {
     "data": {
      "application/vnd.jupyter.widget-view+json": {
       "model_id": "",
       "version_major": 2,
       "version_minor": 0
      },
      "text/plain": [
       "Validation: |                                             | 0/? [00:00<?, ?it/s]"
      ]
     },
     "metadata": {},
     "output_type": "display_data"
    },
    {
     "data": {
      "application/vnd.jupyter.widget-view+json": {
       "model_id": "",
       "version_major": 2,
       "version_minor": 0
      },
      "text/plain": [
       "Validation: |                                             | 0/? [00:00<?, ?it/s]"
      ]
     },
     "metadata": {},
     "output_type": "display_data"
    },
    {
     "data": {
      "application/vnd.jupyter.widget-view+json": {
       "model_id": "",
       "version_major": 2,
       "version_minor": 0
      },
      "text/plain": [
       "Validation: |                                             | 0/? [00:00<?, ?it/s]"
      ]
     },
     "metadata": {},
     "output_type": "display_data"
    },
    {
     "data": {
      "application/vnd.jupyter.widget-view+json": {
       "model_id": "",
       "version_major": 2,
       "version_minor": 0
      },
      "text/plain": [
       "Validation: |                                             | 0/? [00:00<?, ?it/s]"
      ]
     },
     "metadata": {},
     "output_type": "display_data"
    },
    {
     "data": {
      "application/vnd.jupyter.widget-view+json": {
       "model_id": "",
       "version_major": 2,
       "version_minor": 0
      },
      "text/plain": [
       "Validation: |                                             | 0/? [00:00<?, ?it/s]"
      ]
     },
     "metadata": {},
     "output_type": "display_data"
    },
    {
     "data": {
      "application/vnd.jupyter.widget-view+json": {
       "model_id": "",
       "version_major": 2,
       "version_minor": 0
      },
      "text/plain": [
       "Validation: |                                             | 0/? [00:00<?, ?it/s]"
      ]
     },
     "metadata": {},
     "output_type": "display_data"
    },
    {
     "data": {
      "application/vnd.jupyter.widget-view+json": {
       "model_id": "",
       "version_major": 2,
       "version_minor": 0
      },
      "text/plain": [
       "Validation: |                                             | 0/? [00:00<?, ?it/s]"
      ]
     },
     "metadata": {},
     "output_type": "display_data"
    },
    {
     "data": {
      "application/vnd.jupyter.widget-view+json": {
       "model_id": "",
       "version_major": 2,
       "version_minor": 0
      },
      "text/plain": [
       "Validation: |                                             | 0/? [00:00<?, ?it/s]"
      ]
     },
     "metadata": {},
     "output_type": "display_data"
    },
    {
     "data": {
      "application/vnd.jupyter.widget-view+json": {
       "model_id": "",
       "version_major": 2,
       "version_minor": 0
      },
      "text/plain": [
       "Validation: |                                             | 0/? [00:00<?, ?it/s]"
      ]
     },
     "metadata": {},
     "output_type": "display_data"
    },
    {
     "data": {
      "application/vnd.jupyter.widget-view+json": {
       "model_id": "",
       "version_major": 2,
       "version_minor": 0
      },
      "text/plain": [
       "Validation: |                                             | 0/? [00:00<?, ?it/s]"
      ]
     },
     "metadata": {},
     "output_type": "display_data"
    },
    {
     "data": {
      "application/vnd.jupyter.widget-view+json": {
       "model_id": "",
       "version_major": 2,
       "version_minor": 0
      },
      "text/plain": [
       "Validation: |                                             | 0/? [00:00<?, ?it/s]"
      ]
     },
     "metadata": {},
     "output_type": "display_data"
    },
    {
     "data": {
      "application/vnd.jupyter.widget-view+json": {
       "model_id": "",
       "version_major": 2,
       "version_minor": 0
      },
      "text/plain": [
       "Validation: |                                             | 0/? [00:00<?, ?it/s]"
      ]
     },
     "metadata": {},
     "output_type": "display_data"
    },
    {
     "data": {
      "application/vnd.jupyter.widget-view+json": {
       "model_id": "",
       "version_major": 2,
       "version_minor": 0
      },
      "text/plain": [
       "Validation: |                                             | 0/? [00:00<?, ?it/s]"
      ]
     },
     "metadata": {},
     "output_type": "display_data"
    },
    {
     "data": {
      "application/vnd.jupyter.widget-view+json": {
       "model_id": "",
       "version_major": 2,
       "version_minor": 0
      },
      "text/plain": [
       "Validation: |                                             | 0/? [00:00<?, ?it/s]"
      ]
     },
     "metadata": {},
     "output_type": "display_data"
    },
    {
     "data": {
      "application/vnd.jupyter.widget-view+json": {
       "model_id": "",
       "version_major": 2,
       "version_minor": 0
      },
      "text/plain": [
       "Validation: |                                             | 0/? [00:00<?, ?it/s]"
      ]
     },
     "metadata": {},
     "output_type": "display_data"
    },
    {
     "data": {
      "application/vnd.jupyter.widget-view+json": {
       "model_id": "",
       "version_major": 2,
       "version_minor": 0
      },
      "text/plain": [
       "Validation: |                                             | 0/? [00:00<?, ?it/s]"
      ]
     },
     "metadata": {},
     "output_type": "display_data"
    },
    {
     "data": {
      "application/vnd.jupyter.widget-view+json": {
       "model_id": "",
       "version_major": 2,
       "version_minor": 0
      },
      "text/plain": [
       "Validation: |                                             | 0/? [00:00<?, ?it/s]"
      ]
     },
     "metadata": {},
     "output_type": "display_data"
    },
    {
     "data": {
      "application/vnd.jupyter.widget-view+json": {
       "model_id": "",
       "version_major": 2,
       "version_minor": 0
      },
      "text/plain": [
       "Validation: |                                             | 0/? [00:00<?, ?it/s]"
      ]
     },
     "metadata": {},
     "output_type": "display_data"
    },
    {
     "data": {
      "application/vnd.jupyter.widget-view+json": {
       "model_id": "",
       "version_major": 2,
       "version_minor": 0
      },
      "text/plain": [
       "Validation: |                                             | 0/? [00:00<?, ?it/s]"
      ]
     },
     "metadata": {},
     "output_type": "display_data"
    },
    {
     "data": {
      "application/vnd.jupyter.widget-view+json": {
       "model_id": "",
       "version_major": 2,
       "version_minor": 0
      },
      "text/plain": [
       "Validation: |                                             | 0/? [00:00<?, ?it/s]"
      ]
     },
     "metadata": {},
     "output_type": "display_data"
    },
    {
     "data": {
      "application/vnd.jupyter.widget-view+json": {
       "model_id": "79725ba06c3044c28d366287dd6797da",
       "version_major": 2,
       "version_minor": 0
      },
      "text/plain": [
       "Validation: |                                             | 0/? [00:00<?, ?it/s]"
      ]
     },
     "metadata": {},
     "output_type": "display_data"
    },
    {
     "data": {
      "application/vnd.jupyter.widget-view+json": {
       "model_id": "b53ac34ef1674278aa0b45f094abbfaf",
       "version_major": 2,
       "version_minor": 0
      },
      "text/plain": [
       "Validation: |                                             | 0/? [00:00<?, ?it/s]"
      ]
     },
     "metadata": {},
     "output_type": "display_data"
    },
    {
     "data": {
      "application/vnd.jupyter.widget-view+json": {
       "model_id": "9f55393733cc427aa9ee27240121973b",
       "version_major": 2,
       "version_minor": 0
      },
      "text/plain": [
       "Validation: |                                             | 0/? [00:00<?, ?it/s]"
      ]
     },
     "metadata": {},
     "output_type": "display_data"
    },
    {
     "data": {
      "application/vnd.jupyter.widget-view+json": {
       "model_id": "f625ebf7ec2c4a42b1b13e2c0ccb0e71",
       "version_major": 2,
       "version_minor": 0
      },
      "text/plain": [
       "Validation: |                                             | 0/? [00:00<?, ?it/s]"
      ]
     },
     "metadata": {},
     "output_type": "display_data"
    },
    {
     "data": {
      "application/vnd.jupyter.widget-view+json": {
       "model_id": "12cbab3a0ef0451ea45999b10429a20c",
       "version_major": 2,
       "version_minor": 0
      },
      "text/plain": [
       "Validation: |                                             | 0/? [00:00<?, ?it/s]"
      ]
     },
     "metadata": {},
     "output_type": "display_data"
    },
    {
     "data": {
      "application/vnd.jupyter.widget-view+json": {
       "model_id": "b9f5f854b1e5452f9fe1b61472533f71",
       "version_major": 2,
       "version_minor": 0
      },
      "text/plain": [
       "Validation: |                                             | 0/? [00:00<?, ?it/s]"
      ]
     },
     "metadata": {},
     "output_type": "display_data"
    },
    {
     "data": {
      "application/vnd.jupyter.widget-view+json": {
       "model_id": "c79a435d6d5c400d866e2c685989df18",
       "version_major": 2,
       "version_minor": 0
      },
      "text/plain": [
       "Validation: |                                             | 0/? [00:00<?, ?it/s]"
      ]
     },
     "metadata": {},
     "output_type": "display_data"
    },
    {
     "data": {
      "application/vnd.jupyter.widget-view+json": {
       "model_id": "c30f646721dd417088598b279a634a0d",
       "version_major": 2,
       "version_minor": 0
      },
      "text/plain": [
       "Validation: |                                             | 0/? [00:00<?, ?it/s]"
      ]
     },
     "metadata": {},
     "output_type": "display_data"
    },
    {
     "data": {
      "application/vnd.jupyter.widget-view+json": {
       "model_id": "992cbee98d0b4ff4ad498dbc93df5fef",
       "version_major": 2,
       "version_minor": 0
      },
      "text/plain": [
       "Validation: |                                             | 0/? [00:00<?, ?it/s]"
      ]
     },
     "metadata": {},
     "output_type": "display_data"
    },
    {
     "data": {
      "application/vnd.jupyter.widget-view+json": {
       "model_id": "5498ff2db8ee491a8eb87c4fe781b882",
       "version_major": 2,
       "version_minor": 0
      },
      "text/plain": [
       "Validation: |                                             | 0/? [00:00<?, ?it/s]"
      ]
     },
     "metadata": {},
     "output_type": "display_data"
    },
    {
     "data": {
      "application/vnd.jupyter.widget-view+json": {
       "model_id": "19932017a3a54ee491b15add9c806a83",
       "version_major": 2,
       "version_minor": 0
      },
      "text/plain": [
       "Validation: |                                             | 0/? [00:00<?, ?it/s]"
      ]
     },
     "metadata": {},
     "output_type": "display_data"
    },
    {
     "data": {
      "application/vnd.jupyter.widget-view+json": {
       "model_id": "968660b6a0e144f7baea6b7c9582c767",
       "version_major": 2,
       "version_minor": 0
      },
      "text/plain": [
       "Validation: |                                             | 0/? [00:00<?, ?it/s]"
      ]
     },
     "metadata": {},
     "output_type": "display_data"
    },
    {
     "data": {
      "application/vnd.jupyter.widget-view+json": {
       "model_id": "e3d2183399b34ae095053dd6719ce6e3",
       "version_major": 2,
       "version_minor": 0
      },
      "text/plain": [
       "Validation: |                                             | 0/? [00:00<?, ?it/s]"
      ]
     },
     "metadata": {},
     "output_type": "display_data"
    },
    {
     "data": {
      "application/vnd.jupyter.widget-view+json": {
       "model_id": "2c7181cb68d2473da66838c48082db84",
       "version_major": 2,
       "version_minor": 0
      },
      "text/plain": [
       "Validation: |                                             | 0/? [00:00<?, ?it/s]"
      ]
     },
     "metadata": {},
     "output_type": "display_data"
    },
    {
     "data": {
      "application/vnd.jupyter.widget-view+json": {
       "model_id": "d34438fe5d2543a3b84188a623098a44",
       "version_major": 2,
       "version_minor": 0
      },
      "text/plain": [
       "Validation: |                                             | 0/? [00:00<?, ?it/s]"
      ]
     },
     "metadata": {},
     "output_type": "display_data"
    },
    {
     "data": {
      "application/vnd.jupyter.widget-view+json": {
       "model_id": "a3d748dde3284eeab3ffd69c9142e1e9",
       "version_major": 2,
       "version_minor": 0
      },
      "text/plain": [
       "Validation: |                                             | 0/? [00:00<?, ?it/s]"
      ]
     },
     "metadata": {},
     "output_type": "display_data"
    },
    {
     "data": {
      "application/vnd.jupyter.widget-view+json": {
       "model_id": "c9d6dfadd9294126858d2f55e59a4ab7",
       "version_major": 2,
       "version_minor": 0
      },
      "text/plain": [
       "Validation: |                                             | 0/? [00:00<?, ?it/s]"
      ]
     },
     "metadata": {},
     "output_type": "display_data"
    },
    {
     "data": {
      "application/vnd.jupyter.widget-view+json": {
       "model_id": "750dc42a3592437f81e384d0bf8f832b",
       "version_major": 2,
       "version_minor": 0
      },
      "text/plain": [
       "Validation: |                                             | 0/? [00:00<?, ?it/s]"
      ]
     },
     "metadata": {},
     "output_type": "display_data"
    },
    {
     "data": {
      "application/vnd.jupyter.widget-view+json": {
       "model_id": "08f11edba0f0423b9d14c58f4e527ad2",
       "version_major": 2,
       "version_minor": 0
      },
      "text/plain": [
       "Validation: |                                             | 0/? [00:00<?, ?it/s]"
      ]
     },
     "metadata": {},
     "output_type": "display_data"
    },
    {
     "data": {
      "application/vnd.jupyter.widget-view+json": {
       "model_id": "d07e5e162fcc40c2925f2500de9df895",
       "version_major": 2,
       "version_minor": 0
      },
      "text/plain": [
       "Validation: |                                             | 0/? [00:00<?, ?it/s]"
      ]
     },
     "metadata": {},
     "output_type": "display_data"
    },
    {
     "data": {
      "application/vnd.jupyter.widget-view+json": {
       "model_id": "544c1fbd86a14c81b4abefb7722461ea",
       "version_major": 2,
       "version_minor": 0
      },
      "text/plain": [
       "Validation: |                                             | 0/? [00:00<?, ?it/s]"
      ]
     },
     "metadata": {},
     "output_type": "display_data"
    },
    {
     "data": {
      "application/vnd.jupyter.widget-view+json": {
       "model_id": "47892d14c87248fb98db9e803b126987",
       "version_major": 2,
       "version_minor": 0
      },
      "text/plain": [
       "Validation: |                                             | 0/? [00:00<?, ?it/s]"
      ]
     },
     "metadata": {},
     "output_type": "display_data"
    },
    {
     "data": {
      "application/vnd.jupyter.widget-view+json": {
       "model_id": "ae31f12f8d3a4e6b834a02fd6bcd412c",
       "version_major": 2,
       "version_minor": 0
      },
      "text/plain": [
       "Validation: |                                             | 0/? [00:00<?, ?it/s]"
      ]
     },
     "metadata": {},
     "output_type": "display_data"
    },
    {
     "data": {
      "application/vnd.jupyter.widget-view+json": {
       "model_id": "dc6a993f540343ceab81eec8a4c61d5d",
       "version_major": 2,
       "version_minor": 0
      },
      "text/plain": [
       "Validation: |                                             | 0/? [00:00<?, ?it/s]"
      ]
     },
     "metadata": {},
     "output_type": "display_data"
    },
    {
     "data": {
      "application/vnd.jupyter.widget-view+json": {
       "model_id": "bca230f36056400c971d45733212d046",
       "version_major": 2,
       "version_minor": 0
      },
      "text/plain": [
       "Validation: |                                             | 0/? [00:00<?, ?it/s]"
      ]
     },
     "metadata": {},
     "output_type": "display_data"
    },
    {
     "data": {
      "application/vnd.jupyter.widget-view+json": {
       "model_id": "f30ded6126294b4aa81cd2849d78634a",
       "version_major": 2,
       "version_minor": 0
      },
      "text/plain": [
       "Validation: |                                             | 0/? [00:00<?, ?it/s]"
      ]
     },
     "metadata": {},
     "output_type": "display_data"
    },
    {
     "data": {
      "application/vnd.jupyter.widget-view+json": {
       "model_id": "3ec9d3f7aee74fe8bfd4176fdb5a7bee",
       "version_major": 2,
       "version_minor": 0
      },
      "text/plain": [
       "Validation: |                                             | 0/? [00:00<?, ?it/s]"
      ]
     },
     "metadata": {},
     "output_type": "display_data"
    },
    {
     "data": {
      "application/vnd.jupyter.widget-view+json": {
       "model_id": "f5f8eb9036654b6ea495500022113ed2",
       "version_major": 2,
       "version_minor": 0
      },
      "text/plain": [
       "Validation: |                                             | 0/? [00:00<?, ?it/s]"
      ]
     },
     "metadata": {},
     "output_type": "display_data"
    },
    {
     "data": {
      "application/vnd.jupyter.widget-view+json": {
       "model_id": "a6085f5d123d4b6fa10ada7d0b84d9f2",
       "version_major": 2,
       "version_minor": 0
      },
      "text/plain": [
       "Validation: |                                             | 0/? [00:00<?, ?it/s]"
      ]
     },
     "metadata": {},
     "output_type": "display_data"
    },
    {
     "data": {
      "application/vnd.jupyter.widget-view+json": {
       "model_id": "382ab3b72ea94149b419bb4c0f2bb65e",
       "version_major": 2,
       "version_minor": 0
      },
      "text/plain": [
       "Validation: |                                             | 0/? [00:00<?, ?it/s]"
      ]
     },
     "metadata": {},
     "output_type": "display_data"
    },
    {
     "data": {
      "application/vnd.jupyter.widget-view+json": {
       "model_id": "6d5aa518498141e89dfb7767bc726a83",
       "version_major": 2,
       "version_minor": 0
      },
      "text/plain": [
       "Validation: |                                             | 0/? [00:00<?, ?it/s]"
      ]
     },
     "metadata": {},
     "output_type": "display_data"
    },
    {
     "data": {
      "application/vnd.jupyter.widget-view+json": {
       "model_id": "71c3c423e32346d0b91f86729de841fe",
       "version_major": 2,
       "version_minor": 0
      },
      "text/plain": [
       "Validation: |                                             | 0/? [00:00<?, ?it/s]"
      ]
     },
     "metadata": {},
     "output_type": "display_data"
    },
    {
     "data": {
      "application/vnd.jupyter.widget-view+json": {
       "model_id": "268359b292f646e79425796541d5f0aa",
       "version_major": 2,
       "version_minor": 0
      },
      "text/plain": [
       "Validation: |                                             | 0/? [00:00<?, ?it/s]"
      ]
     },
     "metadata": {},
     "output_type": "display_data"
    },
    {
     "data": {
      "application/vnd.jupyter.widget-view+json": {
       "model_id": "95c802c548054cbfa16b873e56fa9fcb",
       "version_major": 2,
       "version_minor": 0
      },
      "text/plain": [
       "Validation: |                                             | 0/? [00:00<?, ?it/s]"
      ]
     },
     "metadata": {},
     "output_type": "display_data"
    },
    {
     "data": {
      "application/vnd.jupyter.widget-view+json": {
       "model_id": "a56f6eb365884882932c8cd005d60c27",
       "version_major": 2,
       "version_minor": 0
      },
      "text/plain": [
       "Validation: |                                             | 0/? [00:00<?, ?it/s]"
      ]
     },
     "metadata": {},
     "output_type": "display_data"
    },
    {
     "data": {
      "application/vnd.jupyter.widget-view+json": {
       "model_id": "40367b6d552c4a31bf7b3ac099a9f1e9",
       "version_major": 2,
       "version_minor": 0
      },
      "text/plain": [
       "Validation: |                                             | 0/? [00:00<?, ?it/s]"
      ]
     },
     "metadata": {},
     "output_type": "display_data"
    },
    {
     "data": {
      "application/vnd.jupyter.widget-view+json": {
       "model_id": "f22a3f64e6ca4ffb89553dd374215855",
       "version_major": 2,
       "version_minor": 0
      },
      "text/plain": [
       "Validation: |                                             | 0/? [00:00<?, ?it/s]"
      ]
     },
     "metadata": {},
     "output_type": "display_data"
    },
    {
     "data": {
      "application/vnd.jupyter.widget-view+json": {
       "model_id": "6324d758f0e346d9bf9c17008c3704b3",
       "version_major": 2,
       "version_minor": 0
      },
      "text/plain": [
       "Validation: |                                             | 0/? [00:00<?, ?it/s]"
      ]
     },
     "metadata": {},
     "output_type": "display_data"
    },
    {
     "data": {
      "application/vnd.jupyter.widget-view+json": {
       "model_id": "3ee94837391947628800dcd3fca40eb0",
       "version_major": 2,
       "version_minor": 0
      },
      "text/plain": [
       "Validation: |                                             | 0/? [00:00<?, ?it/s]"
      ]
     },
     "metadata": {},
     "output_type": "display_data"
    },
    {
     "data": {
      "application/vnd.jupyter.widget-view+json": {
       "model_id": "31057938becf45d7bdc652f5264e139e",
       "version_major": 2,
       "version_minor": 0
      },
      "text/plain": [
       "Validation: |                                             | 0/? [00:00<?, ?it/s]"
      ]
     },
     "metadata": {},
     "output_type": "display_data"
    },
    {
     "data": {
      "application/vnd.jupyter.widget-view+json": {
       "model_id": "954c72d277914c9d928c1c357394983d",
       "version_major": 2,
       "version_minor": 0
      },
      "text/plain": [
       "Validation: |                                             | 0/? [00:00<?, ?it/s]"
      ]
     },
     "metadata": {},
     "output_type": "display_data"
    },
    {
     "data": {
      "application/vnd.jupyter.widget-view+json": {
       "model_id": "72952f56e956446d9d6954fda048358f",
       "version_major": 2,
       "version_minor": 0
      },
      "text/plain": [
       "Validation: |                                             | 0/? [00:00<?, ?it/s]"
      ]
     },
     "metadata": {},
     "output_type": "display_data"
    },
    {
     "data": {
      "application/vnd.jupyter.widget-view+json": {
       "model_id": "6a5faa40d2274500890bcbe426b7f30b",
       "version_major": 2,
       "version_minor": 0
      },
      "text/plain": [
       "Validation: |                                             | 0/? [00:00<?, ?it/s]"
      ]
     },
     "metadata": {},
     "output_type": "display_data"
    },
    {
     "data": {
      "application/vnd.jupyter.widget-view+json": {
       "model_id": "1bc5e6c02a6c40088c7ef60ed58c8c7d",
       "version_major": 2,
       "version_minor": 0
      },
      "text/plain": [
       "Validation: |                                             | 0/? [00:00<?, ?it/s]"
      ]
     },
     "metadata": {},
     "output_type": "display_data"
    },
    {
     "data": {
      "application/vnd.jupyter.widget-view+json": {
       "model_id": "894e6320f6a34c299009155c4c284168",
       "version_major": 2,
       "version_minor": 0
      },
      "text/plain": [
       "Validation: |                                             | 0/? [00:00<?, ?it/s]"
      ]
     },
     "metadata": {},
     "output_type": "display_data"
    },
    {
     "data": {
      "application/vnd.jupyter.widget-view+json": {
       "model_id": "74e24805c8414a91a0ce54fa4914554a",
       "version_major": 2,
       "version_minor": 0
      },
      "text/plain": [
       "Validation: |                                             | 0/? [00:00<?, ?it/s]"
      ]
     },
     "metadata": {},
     "output_type": "display_data"
    },
    {
     "data": {
      "application/vnd.jupyter.widget-view+json": {
       "model_id": "71218109abb84da6836bf259da3e8ba1",
       "version_major": 2,
       "version_minor": 0
      },
      "text/plain": [
       "Validation: |                                             | 0/? [00:00<?, ?it/s]"
      ]
     },
     "metadata": {},
     "output_type": "display_data"
    },
    {
     "data": {
      "application/vnd.jupyter.widget-view+json": {
       "model_id": "7e0cc175163b4b86b6b07b2590f552fb",
       "version_major": 2,
       "version_minor": 0
      },
      "text/plain": [
       "Validation: |                                             | 0/? [00:00<?, ?it/s]"
      ]
     },
     "metadata": {},
     "output_type": "display_data"
    },
    {
     "name": "stderr",
     "output_type": "stream",
     "text": [
      "`Trainer.fit` stopped: `max_epochs=88` reached.\n"
     ]
    }
   ],
   "source": [
    "# train model\n",
    "########## TODO #############\n",
    "# instantiate lightning model with the cnn_model and learning_rate=1e-3\n",
    "model = LitMRIModel(cnn_model, learning_rate=8e-3)\n",
    "############################\n",
    "\n",
    "# instantiate the lightning trainer \n",
    "trainer = L.Trainer(max_epochs=88, log_every_n_steps=1, callbacks=[FineTuneLearningRateFinder(milestones=(5, 10))])\n",
    "# train\n",
    "trainer.fit(model, dataloader_train, dataloader_val)\n"
   ]
  },
  {
   "cell_type": "code",
   "execution_count": 485,
   "metadata": {
    "tags": []
   },
   "outputs": [
    {
     "name": "stdout",
     "output_type": "stream",
     "text": [
      "torch.Size([68, 20])\n",
      "torch.Size([68, 20])\n",
      "torch.Size([49, 20])\n",
      "torch.Size([49, 20])\n",
      "torch.Size([50, 20])\n",
      "torch.Size([50, 20])\n",
      "torch.Size([62, 20])\n",
      "torch.Size([62, 20])\n",
      "torch.Size([67, 20])\n",
      "torch.Size([67, 20])\n",
      "torch.Size([71, 20])\n",
      "torch.Size([71, 20])\n",
      "torch.Size([71, 20])\n",
      "torch.Size([71, 20])\n",
      "torch.Size([62, 20])\n",
      "torch.Size([62, 20])\n",
      "torch.Size([56, 20])\n",
      "torch.Size([56, 20])\n",
      "torch.Size([57, 20])\n",
      "torch.Size([57, 20])\n",
      "torch.Size([56, 20])\n",
      "torch.Size([56, 20])\n",
      "RMSE: 1.0594615\n",
      "Pearson r: PearsonRResult(statistic=0.11593279953096408, pvalue=0.08624355126094704)\n",
      "Spearman r: SignificanceResult(statistic=-0.021599226325467354, pvalue=0.7500447024754652)\n"
     ]
    },
    {
     "data": {
      "image/png": "[encoded data removed]",
      "text/plain": [
       "<Figure size 640x480 with 1 Axes>"
      ]
     },
     "metadata": {},
     "output_type": "display_data"
    }
   ],
   "source": [
    "preds =[]\n",
    "all_y = []\n",
    "# save all predictions\n",
    "for batch in dataloader_test:\n",
    "    # adjust this to work with your model\n",
    "    x = batch[\"sequence\"][0]\n",
    "    y = batch[\"labels\"][0]\n",
    "    y_hat = cnn_model(x)\n",
    "\n",
    "    preds.append(y_hat.detach().numpy()[1])\n",
    "    all_y.append(y.squeeze().detach().numpy()[1])\n",
    "    print(y.squeeze().shape)\n",
    "    \n",
    "    print(y_hat.shape)\n",
    "\n",
    "# concatenate and plot\n",
    "preds = np.concatenate(preds)\n",
    "all_y = np.concatenate(all_y)\n",
    "\n",
    "sns.regplot(x=preds,y=all_y)\n",
    "plt.xlabel(\"Predicted ddG\")\n",
    "plt.ylabel(\"Measured ddG\")\n",
    "plt.xlim(-4.75, 2.75)\n",
    "\n",
    "plt.ylim(-4.75, 2.75)\n",
    "\n",
    "# get RMSE, Pearson and Spearman correlation \n",
    "print(\"RMSE:\", skmetrics.mean_squared_error(all_y, preds, squared = False))\n",
    "print(\"Pearson r:\", scipy.stats.pearsonr(preds, all_y))\n",
    "print(\"Spearman r:\", scipy.stats.spearmanr(preds, all_y))"
   ]
  },
  {
   "cell_type": "code",
   "execution_count": 486,
   "metadata": {
    "tags": []
   },
   "outputs": [
    {
     "data": {
      "text/plain": [
       "Reusing TensorBoard on port 6006 (pid 2554953), started 1 day, 23:51:26 ago. (Use '!kill 2554953' to kill it.)"
      ]
     },
     "metadata": {},
     "output_type": "display_data"
    },
    {
     "data": {
      "text/html": [
       "\n",
       "      <iframe id=\"tensorboard-frame-55e248707aace01f\" width=\"100%\" height=\"800\" frameborder=\"0\">\n",
       "      </iframe>\n",
       "      <script>\n",
       "        (function() {\n",
       "          const frame = document.getElementById(\"tensorboard-frame-55e248707aace01f\");\n",
       "          const url = new URL(\"/\", window.location);\n",
       "          const port = 6006;\n",
       "          if (port) {\n",
       "            url.port = port;\n",
       "          }\n",
       "          frame.src = url;\n",
       "        })();\n",
       "      </script>\n",
       "    "
      ],
      "text/plain": [
       "<IPython.core.display.HTML object>"
      ]
     },
     "metadata": {},
     "output_type": "display_data"
    }
   ],
   "source": [
    "%reload_ext tensorboard\n",
    "%tensorboard --logdir=lightning_logs/"
   ]
  },
  {
   "cell_type": "code",
   "execution_count": null,
   "metadata": {},
   "outputs": [],
   "source": []
  },
  {
   "cell_type": "code",
   "execution_count": null,
   "metadata": {},
   "outputs": [],
   "source": []
  },
  {
   "cell_type": "code",
   "execution_count": null,
   "metadata": {},
   "outputs": [],
   "source": []
  },
  {
   "cell_type": "code",
   "execution_count": null,
   "metadata": {},
   "outputs": [],
   "source": []
  },
  {
   "cell_type": "code",
   "execution_count": 372,
   "metadata": {},
   "outputs": [
    {
     "data": {
      "text/plain": [
       "618"
      ]
     },
     "execution_count": 372,
     "metadata": {},
     "output_type": "execute_result"
    }
   ],
   "source": [
    "dataset_train.df[\"wt_seq\"][2][0]\n",
    "len(dataset_train.df[\"mutation_to\"][2])\n",
    "\n",
    "len(dataset_train.df[\"ddG_ML\"][2])"
   ]
  },
  {
   "cell_type": "code",
   "execution_count": null,
   "metadata": {},
   "outputs": [],
   "source": []
  },
  {
   "cell_type": "code",
   "execution_count": 373,
   "metadata": {},
   "outputs": [
    {
     "data": {
      "text/plain": [
       "Unnamed: 0      [200028, 200029, 200030, 200031, 200032, 20003...\n",
       "name            [1E0L.pdb_G1Q, 1E0L.pdb_G1E, 1E0L.pdb_G1N, 1E0...\n",
       "ddG_ML          [-0.134363487967859, -0.2192838778718004, -0.1...\n",
       "mut_type        [G1Q, G1E, G1N, G1H, G1D, G1R, G1K, G1T, G1S, ...\n",
       "aa_seq          [QATAVSEWTEYKTADGKTYYYNNRTLESTWEKPQELK, EATAVS...\n",
       "wt_seq          [GATAVSEWTEYKTADGKTYYYNNRTLESTWEKPQELK, GATAVS...\n",
       "mutation_pos    [0, 0, 0, 0, 0, 0, 0, 0, 0, 0, 0, 0, 0, 0, 0, ...\n",
       "mutation_to     [13, 3, 11, 6, 2, 14, 8, 16, 15, 0, 10, 9, 17,...\n",
       "Name: 1E0L.pdb, dtype: object"
      ]
     },
     "execution_count": 373,
     "metadata": {},
     "output_type": "execute_result"
    }
   ],
   "source": [
    "dataset_train.df.loc[\"1E0L.pdb\"]"
   ]
  },
  {
   "cell_type": "code",
   "execution_count": null,
   "metadata": {},
   "outputs": [],
   "source": [
    "print(len(dataset_train.df[\"mut_type\"][2]))\n",
    "dataset_train.df[\"mut_type\"][2]"
   ]
  },
  {
   "cell_type": "code",
   "execution_count": null,
   "metadata": {},
   "outputs": [],
   "source": []
  },
  {
   "cell_type": "code",
   "execution_count": null,
   "metadata": {},
   "outputs": [],
   "source": [
    "print(len(dataset_train.df.loc[\"1E0L.pdb\"][\"ddG_ML\"]))\n",
    "print(getTensorFromProtein(\"1E0L.pdb\", dataset_train.df[\"wt_seq\"][0][0], dataset_train.df[\"mut_type\"][0]).size)"
   ]
  },
  {
   "cell_type": "code",
   "execution_count": null,
   "metadata": {},
   "outputs": [],
   "source": []
  }
 ],
 "metadata": {
  "kernelspec": {
   "display_name": "Python 3 (ipykernel)",
   "language": "python",
   "name": "python3"
  },
  "language_info": {
   "codemirror_mode": {
    "name": "ipython",
    "version": 3
   },
   "file_extension": ".py",
   "mimetype": "text/x-python",
   "name": "python",
   "nbconvert_exporter": "python",
   "pygments_lexer": "ipython3",
   "version": "3.11.5"
  }
 },
 "nbformat": 4,
 "nbformat_minor": 4
}
